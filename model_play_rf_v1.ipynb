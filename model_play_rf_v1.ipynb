{
 "cells": [
  {
   "cell_type": "code",
   "execution_count": 136,
   "metadata": {},
   "outputs": [
    {
     "name": "stdout",
     "output_type": "stream",
     "text": [
      "Populating the interactive namespace from numpy and matplotlib\n"
     ]
    },
    {
     "name": "stderr",
     "output_type": "stream",
     "text": [
      "C:\\ProgramData\\Anaconda3\\lib\\site-packages\\IPython\\core\\magics\\pylab.py:160: UserWarning: pylab import has clobbered these variables: ['unique']\n",
      "`%matplotlib` prevents importing * from pylab and numpy\n",
      "  \"\\n`%matplotlib` prevents importing * from pylab and numpy\"\n"
     ]
    }
   ],
   "source": [
    "%pylab inline\n",
    "import pandas as pd\n",
    "import seaborn\n",
    "import numpy as np\n",
    "import matplotlib.pyplot as plt\n",
    "import scipy\n",
    "from sklearn.metrics.pairwise import manhattan_distances"
   ]
  },
  {
   "cell_type": "code",
   "execution_count": 137,
   "metadata": {},
   "outputs": [],
   "source": [
    "import sys\n",
    "sys.path.append('/usr/local/lib/python3.7/site-packages')\n",
    "import cv2"
   ]
  },
  {
   "cell_type": "code",
   "execution_count": 138,
   "metadata": {},
   "outputs": [],
   "source": [
    "from sklearn.ensemble import RandomForestClassifier\n",
    "from sklearn.model_selection import train_test_split\n",
    "from sklearn.metrics import log_loss"
   ]
  },
  {
   "cell_type": "markdown",
   "metadata": {},
   "source": [
    "## TRAINING TIME!"
   ]
  },
  {
   "cell_type": "code",
   "execution_count": 139,
   "metadata": {
    "scrolled": true
   },
   "outputs": [],
   "source": [
    "# new_df.to_json('/Users/Home/Desktop/CMPT 459/MI2/train_fe.json')\n",
    "train_df = pd.read_json(r'C:\\Users\\Giovanni PC\\cmpt459\\data\\ml3\\final_train_df_m3.json')\n",
    "\n",
    "# new_df.to_json('/Users/Home/Desktop/CMPT 459/MI2/train_fe.json')\n",
    "test_df = pd.read_json(r'C:\\Users\\Giovanni PC\\cmpt459\\data\\final_test_df_m3.json')\n"
   ]
  },
  {
   "cell_type": "code",
   "execution_count": 140,
   "metadata": {},
   "outputs": [
    {
     "data": {
      "text/html": [
       "<div>\n",
       "<style scoped>\n",
       "    .dataframe tbody tr th:only-of-type {\n",
       "        vertical-align: middle;\n",
       "    }\n",
       "\n",
       "    .dataframe tbody tr th {\n",
       "        vertical-align: top;\n",
       "    }\n",
       "\n",
       "    .dataframe thead th {\n",
       "        text-align: right;\n",
       "    }\n",
       "</style>\n",
       "<table border=\"1\" class=\"dataframe\">\n",
       "  <thead>\n",
       "    <tr style=\"text-align: right;\">\n",
       "      <th></th>\n",
       "      <th>bathrooms</th>\n",
       "      <th>bedrooms</th>\n",
       "      <th>building_id</th>\n",
       "      <th>created</th>\n",
       "      <th>description</th>\n",
       "      <th>display_address</th>\n",
       "      <th>features</th>\n",
       "      <th>latitude</th>\n",
       "      <th>listing_id</th>\n",
       "      <th>longitude</th>\n",
       "      <th>...</th>\n",
       "      <th>created_dt</th>\n",
       "      <th>managerID_count</th>\n",
       "      <th>buildingID_count</th>\n",
       "      <th>weekends</th>\n",
       "      <th>month_4</th>\n",
       "      <th>month_5</th>\n",
       "      <th>created_nights</th>\n",
       "      <th>created_morning</th>\n",
       "      <th>created_afternoon</th>\n",
       "      <th>bed_bath_ratio</th>\n",
       "    </tr>\n",
       "  </thead>\n",
       "  <tbody>\n",
       "    <tr>\n",
       "      <td>0</td>\n",
       "      <td>1.0</td>\n",
       "      <td>1</td>\n",
       "      <td>79780be1514f645d7e6be99a3de696c5</td>\n",
       "      <td>2016-06-11 05:29:41</td>\n",
       "      <td>Large with awesome terrace--accessible via bed...</td>\n",
       "      <td>Suffolk Street</td>\n",
       "      <td>[Elevator, Laundry in Building, Laundry in Uni...</td>\n",
       "      <td>40.7185</td>\n",
       "      <td>7142618</td>\n",
       "      <td>-73.9865</td>\n",
       "      <td>...</td>\n",
       "      <td>1465622981000</td>\n",
       "      <td>38</td>\n",
       "      <td>5</td>\n",
       "      <td>1</td>\n",
       "      <td>0</td>\n",
       "      <td>0</td>\n",
       "      <td>1</td>\n",
       "      <td>0</td>\n",
       "      <td>0</td>\n",
       "      <td>1.0</td>\n",
       "    </tr>\n",
       "    <tr>\n",
       "      <td>1</td>\n",
       "      <td>1.0</td>\n",
       "      <td>2</td>\n",
       "      <td>0</td>\n",
       "      <td>2016-06-24 06:36:34</td>\n",
       "      <td>Prime Soho - between Bleecker and Houston - Ne...</td>\n",
       "      <td>Thompson Street</td>\n",
       "      <td>[Pre-War, Dogs Allowed, Cats Allowed]</td>\n",
       "      <td>40.7278</td>\n",
       "      <td>7210040</td>\n",
       "      <td>-74.0000</td>\n",
       "      <td>...</td>\n",
       "      <td>1466750194000</td>\n",
       "      <td>17</td>\n",
       "      <td>12378</td>\n",
       "      <td>1</td>\n",
       "      <td>0</td>\n",
       "      <td>0</td>\n",
       "      <td>0</td>\n",
       "      <td>1</td>\n",
       "      <td>0</td>\n",
       "      <td>2.0</td>\n",
       "    </tr>\n",
       "    <tr>\n",
       "      <td>2</td>\n",
       "      <td>1.0</td>\n",
       "      <td>0</td>\n",
       "      <td>0</td>\n",
       "      <td>2016-06-17 01:23:39</td>\n",
       "      <td>Spacious studio in Prime Location. Cleanbuildi...</td>\n",
       "      <td>Sullivan Street</td>\n",
       "      <td>[Pre-War, Dogs Allowed, Cats Allowed]</td>\n",
       "      <td>40.7260</td>\n",
       "      <td>7174566</td>\n",
       "      <td>-74.0026</td>\n",
       "      <td>...</td>\n",
       "      <td>1466126619000</td>\n",
       "      <td>3854</td>\n",
       "      <td>12378</td>\n",
       "      <td>1</td>\n",
       "      <td>0</td>\n",
       "      <td>0</td>\n",
       "      <td>1</td>\n",
       "      <td>0</td>\n",
       "      <td>0</td>\n",
       "      <td>0.0</td>\n",
       "    </tr>\n",
       "    <tr>\n",
       "      <td>3</td>\n",
       "      <td>1.0</td>\n",
       "      <td>2</td>\n",
       "      <td>f9c826104b91d868e69bd25746448c0c</td>\n",
       "      <td>2016-06-21 05:06:02</td>\n",
       "      <td>For immediate access call Bryan.&lt;br /&gt;&lt;br /&gt;Bo...</td>\n",
       "      <td>Jones Street</td>\n",
       "      <td>[Hardwood Floors, Dogs Allowed, Cats Allowed]</td>\n",
       "      <td>40.7321</td>\n",
       "      <td>7191391</td>\n",
       "      <td>-74.0028</td>\n",
       "      <td>...</td>\n",
       "      <td>1466485562000</td>\n",
       "      <td>176</td>\n",
       "      <td>10</td>\n",
       "      <td>0</td>\n",
       "      <td>0</td>\n",
       "      <td>0</td>\n",
       "      <td>1</td>\n",
       "      <td>0</td>\n",
       "      <td>0</td>\n",
       "      <td>2.0</td>\n",
       "    </tr>\n",
       "    <tr>\n",
       "      <td>4</td>\n",
       "      <td>1.0</td>\n",
       "      <td>1</td>\n",
       "      <td>81062936e12ee5fa6cd2b965698e17d5</td>\n",
       "      <td>2016-06-16 07:24:27</td>\n",
       "      <td>Beautiful TRUE 1 bedroom in a luxury building ...</td>\n",
       "      <td>Exchange Place</td>\n",
       "      <td>[Roof Deck, Doorman, Elevator, Fitness Center,...</td>\n",
       "      <td>40.7054</td>\n",
       "      <td>7171695</td>\n",
       "      <td>-74.0095</td>\n",
       "      <td>...</td>\n",
       "      <td>1466061867000</td>\n",
       "      <td>35</td>\n",
       "      <td>94</td>\n",
       "      <td>0</td>\n",
       "      <td>0</td>\n",
       "      <td>0</td>\n",
       "      <td>0</td>\n",
       "      <td>1</td>\n",
       "      <td>0</td>\n",
       "      <td>1.0</td>\n",
       "    </tr>\n",
       "  </tbody>\n",
       "</table>\n",
       "<p>5 rows × 45 columns</p>\n",
       "</div>"
      ],
      "text/plain": [
       "   bathrooms  bedrooms                       building_id              created  \\\n",
       "0        1.0         1  79780be1514f645d7e6be99a3de696c5  2016-06-11 05:29:41   \n",
       "1        1.0         2                                 0  2016-06-24 06:36:34   \n",
       "2        1.0         0                                 0  2016-06-17 01:23:39   \n",
       "3        1.0         2  f9c826104b91d868e69bd25746448c0c  2016-06-21 05:06:02   \n",
       "4        1.0         1  81062936e12ee5fa6cd2b965698e17d5  2016-06-16 07:24:27   \n",
       "\n",
       "                                         description  display_address  \\\n",
       "0  Large with awesome terrace--accessible via bed...   Suffolk Street   \n",
       "1  Prime Soho - between Bleecker and Houston - Ne...  Thompson Street   \n",
       "2  Spacious studio in Prime Location. Cleanbuildi...  Sullivan Street   \n",
       "3  For immediate access call Bryan.<br /><br />Bo...     Jones Street   \n",
       "4  Beautiful TRUE 1 bedroom in a luxury building ...   Exchange Place   \n",
       "\n",
       "                                            features  latitude  listing_id  \\\n",
       "0  [Elevator, Laundry in Building, Laundry in Uni...   40.7185     7142618   \n",
       "1              [Pre-War, Dogs Allowed, Cats Allowed]   40.7278     7210040   \n",
       "2              [Pre-War, Dogs Allowed, Cats Allowed]   40.7260     7174566   \n",
       "3      [Hardwood Floors, Dogs Allowed, Cats Allowed]   40.7321     7191391   \n",
       "4  [Roof Deck, Doorman, Elevator, Fitness Center,...   40.7054     7171695   \n",
       "\n",
       "   longitude  ...     created_dt managerID_count  buildingID_count weekends  \\\n",
       "0   -73.9865  ...  1465622981000              38                 5        1   \n",
       "1   -74.0000  ...  1466750194000              17             12378        1   \n",
       "2   -74.0026  ...  1466126619000            3854             12378        1   \n",
       "3   -74.0028  ...  1466485562000             176                10        0   \n",
       "4   -74.0095  ...  1466061867000              35                94        0   \n",
       "\n",
       "   month_4  month_5  created_nights  created_morning  created_afternoon  \\\n",
       "0        0        0               1                0                  0   \n",
       "1        0        0               0                1                  0   \n",
       "2        0        0               1                0                  0   \n",
       "3        0        0               1                0                  0   \n",
       "4        0        0               0                1                  0   \n",
       "\n",
       "   bed_bath_ratio  \n",
       "0             1.0  \n",
       "1             2.0  \n",
       "2             0.0  \n",
       "3             2.0  \n",
       "4             1.0  \n",
       "\n",
       "[5 rows x 45 columns]"
      ]
     },
     "execution_count": 140,
     "metadata": {},
     "output_type": "execute_result"
    }
   ],
   "source": [
    "train_df.head()\n",
    "test_df.head()"
   ]
  },
  {
   "cell_type": "code",
   "execution_count": 141,
   "metadata": {},
   "outputs": [
    {
     "name": "stdout",
     "output_type": "stream",
     "text": [
      "<class 'pandas.core.frame.DataFrame'>\n",
      "Int64Index: 48329 entries, 0 to 48328\n",
      "Data columns (total 46 columns):\n",
      "bathrooms            48329 non-null float64\n",
      "bedrooms             48329 non-null int64\n",
      "building_id          48329 non-null object\n",
      "created              48329 non-null object\n",
      "description          48329 non-null object\n",
      "display_address      48329 non-null object\n",
      "features             48329 non-null object\n",
      "latitude             48329 non-null float64\n",
      "listing_id           48329 non-null int64\n",
      "longitude            48329 non-null float64\n",
      "manager_id           48329 non-null object\n",
      "photos               48329 non-null object\n",
      "price                48329 non-null int64\n",
      "street_address       48329 non-null object\n",
      "interest_level       48329 non-null object\n",
      "dt_distance          48329 non-null float64\n",
      "pet_policy           48329 non-null int64\n",
      "listing_type         48329 non-null int64\n",
      "unit_features        48329 non-null int64\n",
      "building_features    48329 non-null int64\n",
      "apartment            48329 non-null float64\n",
      "appliance            48329 non-null float64\n",
      "bathroom             48329 non-null float64\n",
      "bedroom              48329 non-null float64\n",
      "building             48329 non-null float64\n",
      "contact              48329 non-null float64\n",
      "floor                48329 non-null float64\n",
      "high                 48329 non-null float64\n",
      "kitchen              48329 non-null float64\n",
      "room                 48329 non-null float64\n",
      "mall_distance        48329 non-null float64\n",
      "created_hour         48329 non-null int64\n",
      "created_month        48329 non-null int64\n",
      "created_day          48329 non-null int64\n",
      "num_photos           48329 non-null int64\n",
      "description_len      48329 non-null int64\n",
      "created_dt           48329 non-null int64\n",
      "managerID_count      48329 non-null int64\n",
      "buildingID_count     48329 non-null int64\n",
      "weekends             48329 non-null int64\n",
      "month_4              48329 non-null int64\n",
      "month_5              48329 non-null int64\n",
      "created_nights       48329 non-null int64\n",
      "created_morning      48329 non-null int64\n",
      "created_afternoon    48329 non-null int64\n",
      "bed_bath_ratio       48329 non-null float64\n",
      "dtypes: float64(16), int64(21), object(9)\n",
      "memory usage: 17.3+ MB\n"
     ]
    }
   ],
   "source": [
    "train_df.describe()\n",
    "train_df.info()"
   ]
  },
  {
   "cell_type": "markdown",
   "metadata": {},
   "source": [
    "\n"
   ]
  },
  {
   "cell_type": "code",
   "execution_count": 142,
   "metadata": {},
   "outputs": [
    {
     "data": {
      "text/plain": [
       "array([['0000abd7518b94c35a90d64b56fbf3e6', 12],\n",
       "       ['001ce808ce1720e24a9510e014c69707', 10],\n",
       "       ['003fc4e9a70053082f131b1054966aaf', 1],\n",
       "       ...,\n",
       "       ['ffb9eceeaa4d60da7b41cc8f0954cd50', 2],\n",
       "       ['ffd3c60281949a5cd806030203a79558', 6],\n",
       "       ['ffd7307e4924587b30ec014a95db1362', 115]], dtype=object)"
      ]
     },
     "execution_count": 142,
     "metadata": {},
     "output_type": "execute_result"
    }
   ],
   "source": [
    "unique, counts = np.unique(train_df.manager_id, return_counts=True)\n",
    "\n",
    "id_dict = np.asarray((unique,counts)).T\n",
    "id_dict"
   ]
  },
  {
   "cell_type": "code",
   "execution_count": 143,
   "metadata": {},
   "outputs": [],
   "source": [
    "id_dic = {}\n",
    "for val in id_dict:\n",
    "    id_dic[val[0]] = val[1]"
   ]
  },
  {
   "cell_type": "code",
   "execution_count": 144,
   "metadata": {},
   "outputs": [
    {
     "data": {
      "text/plain": [
       "2471"
      ]
     },
     "execution_count": 144,
     "metadata": {},
     "output_type": "execute_result"
    }
   ],
   "source": [
    "max(id_dic.values())"
   ]
  },
  {
   "cell_type": "code",
   "execution_count": 145,
   "metadata": {},
   "outputs": [],
   "source": [
    "v1_selected_feats = [\"bathrooms\", \"bedrooms\", \"latitude\", \"longitude\", \"price\", \"pet_policy\", \"listing_type\", \n",
    "                     \"unit_features\", \"building_features\", \"apartment\", \"appliance\", \"bathroom\", \"bedroom\",\n",
    "                     \"building\", \"contact\", \"floor\", \"high\", \"kitchen\", \"room\", \"num_photos\", \n",
    "                     \"description_len\", \"mall_distance\", \"dt_distance\"]"
   ]
  },
  {
   "cell_type": "code",
   "execution_count": 146,
   "metadata": {},
   "outputs": [],
   "source": [
    "X = train_df[v1_selected_feats]\n",
    "y = train_df[\"interest_level\"]"
   ]
  },
  {
   "cell_type": "code",
   "execution_count": 147,
   "metadata": {},
   "outputs": [],
   "source": [
    "from sklearn.model_selection import KFold\n",
    "from sklearn.preprocessing import MinMaxScaler\n",
    "from sklearn.ensemble import RandomForestClassifier"
   ]
  },
  {
   "cell_type": "code",
   "execution_count": 148,
   "metadata": {},
   "outputs": [],
   "source": [
    "scaler = MinMaxScaler(feature_range=(0, 1))\n",
    "X = scaler.fit_transform(X)"
   ]
  },
  {
   "cell_type": "code",
   "execution_count": 149,
   "metadata": {
    "scrolled": true
   },
   "outputs": [
    {
     "data": {
      "text/plain": [
       "array([[0.1       , 0.125     , 0.27075252, ..., 0.11411411, 0.19559873,\n",
       "        0.1097247 ],\n",
       "       [0.1       , 0.25      , 0.34930178, ..., 0.1951952 , 0.05667761,\n",
       "        0.11368588],\n",
       "       [0.1       , 0.25      , 0.36132661, ..., 0.17717718, 0.07044386,\n",
       "        0.14517726],\n",
       "       ...,\n",
       "       [0.1       , 0.125     , 0.01027929, ..., 0.12012012, 0.36704753,\n",
       "        0.37274708],\n",
       "       [0.1       , 0.25      , 0.33669511, ..., 0.17567568, 0.02552656,\n",
       "        0.04634581],\n",
       "       [0.1       , 0.375     , 0.36501164, ..., 0.08558559, 0.03237035,\n",
       "        0.13170925]])"
      ]
     },
     "execution_count": 149,
     "metadata": {},
     "output_type": "execute_result"
    }
   ],
   "source": [
    "X"
   ]
  },
  {
   "cell_type": "code",
   "execution_count": 150,
   "metadata": {},
   "outputs": [],
   "source": [
    "#Train for decision Tree\n",
    "test_scores = []\n",
    "train_scores = []\n",
    "log_scores = []\n",
    "log_scores_train = []\n",
    "\n",
    "min_sample_arr = [1, 50, 100, 200, 500] \n",
    "\n",
    "i = 0\n",
    "cv = KFold(n_splits=5, random_state=42, shuffle=True)\n",
    "for train_index, test_index in cv.split(X):\n",
    "    #min samples default 2, min samples leaf default =1. min weight frac =0 , max feat = 4\n",
    "    rfc  = RandomForestClassifier(n_estimators = 100, criterion = \"gini\", max_leaf_nodes = 4, max_features='auto', random_state=0, min_samples_leaf=1, min_samples_split = 2)\n",
    "    i += 1\n",
    "    X_train, X_test, y_train, y_test = X[train_index], X[test_index], y.iloc[train_index], y.iloc[test_index]\n",
    "    rfc.fit(X_train, y_train)\n",
    "    test_scores.append(rfc.score(X_test, y_test))\n",
    "    train_scores.append(rfc.score(X_train, y_train))\n",
    "    y_test_pred = rfc.predict_proba(X_test)\n",
    "    y_train_pred = rfc.predict_proba(X_train)\n",
    "    log_scores.append(log_loss(y_test, y_test_pred))\n",
    "    log_scores_train.append(log_loss(y_train, y_train_pred))\n",
    "    \n",
    "    #when the min sample change, there is pverfitting for small values,\n",
    "    #as the calues grow, the training set does progressively worse in comparison to the test \n",
    "    # use 50 as the number\n",
    "    "
   ]
  },
  {
   "cell_type": "code",
   "execution_count": 151,
   "metadata": {},
   "outputs": [
    {
     "data": {
      "text/plain": [
       "[0.7433498727383955,\n",
       " 0.7437944579951052,\n",
       " 0.7454356471530916,\n",
       " 0.7563410252505085,\n",
       " 0.7424130131487622]"
      ]
     },
     "execution_count": 151,
     "metadata": {},
     "output_type": "execute_result"
    }
   ],
   "source": [
    "log_scores\n"
   ]
  },
  {
   "cell_type": "code",
   "execution_count": 153,
   "metadata": {},
   "outputs": [
    {
     "data": {
      "text/plain": [
       "[0.7465511564118881,\n",
       " 0.7466381089869191,\n",
       " 0.7463127049513092,\n",
       " 0.7422223159818396,\n",
       " 0.7467515889480466]"
      ]
     },
     "execution_count": 153,
     "metadata": {},
     "output_type": "execute_result"
    }
   ],
   "source": [
    "log_scores_train"
   ]
  },
  {
   "cell_type": "code",
   "execution_count": 154,
   "metadata": {},
   "outputs": [
    {
     "data": {
      "text/plain": [
       "array([[0.09514738, 0.63270366, 0.27214896],\n",
       "       [0.0688304 , 0.68772551, 0.24344409],\n",
       "       [0.07310354, 0.69754842, 0.22934805],\n",
       "       ...,\n",
       "       [0.09778623, 0.64811341, 0.25410036],\n",
       "       [0.07213606, 0.67593527, 0.25192867],\n",
       "       [0.07160578, 0.6789583 , 0.24943592]])"
      ]
     },
     "execution_count": 154,
     "metadata": {},
     "output_type": "execute_result"
    }
   ],
   "source": [
    "y_train_pred\n"
   ]
  },
  {
   "cell_type": "code",
   "execution_count": 155,
   "metadata": {},
   "outputs": [
    {
     "data": {
      "text/plain": [
       "{'high': 0, 'low': 1, 'medium': 2}"
      ]
     },
     "execution_count": 155,
     "metadata": {},
     "output_type": "execute_result"
    }
   ],
   "source": [
    "labels2idx = {label: i for i, label in enumerate(rfc.classes_)}\n",
    "labels2idx"
   ]
  },
  {
   "cell_type": "code",
   "execution_count": 156,
   "metadata": {},
   "outputs": [],
   "source": [
    "X_train, X_val, y_train, y_val = train_test_split(X, y, test_size=0.33)"
   ]
  },
  {
   "cell_type": "code",
   "execution_count": 157,
   "metadata": {},
   "outputs": [
    {
     "data": {
      "text/plain": [
       "0.7537721428906327"
      ]
     },
     "execution_count": 157,
     "metadata": {},
     "output_type": "execute_result"
    }
   ],
   "source": [
    "rfc_test  = RandomForestClassifier(n_estimators = 100, criterion = \"gini\", min_weight_fraction_leaf = 0.2, max_leaf_nodes = 4, min_samples_split = 5, max_features='sqrt', random_state=0, min_samples_leaf=200, max_depth=10)\n",
    "rfc_test.fit(X_train, y_train)\n",
    "y_val_pred = rfc_test.predict_proba(X_val)\n",
    "log_loss(y_val, y_val_pred)"
   ]
  },
  {
   "cell_type": "code",
   "execution_count": 158,
   "metadata": {},
   "outputs": [],
   "source": [
    "test_X = test_df[v1_selected_feats]"
   ]
  },
  {
   "cell_type": "code",
   "execution_count": 159,
   "metadata": {},
   "outputs": [],
   "source": [
    "test_X = scaler.fit_transform(test_X)"
   ]
  },
  {
   "cell_type": "code",
   "execution_count": 160,
   "metadata": {},
   "outputs": [],
   "source": [
    "test_y = rfc_test.predict_proba(test_X)"
   ]
  },
  {
   "cell_type": "code",
   "execution_count": 161,
   "metadata": {},
   "outputs": [
    {
     "data": {
      "text/plain": [
       "{'high': 0, 'low': 1, 'medium': 2}"
      ]
     },
     "execution_count": 161,
     "metadata": {},
     "output_type": "execute_result"
    }
   ],
   "source": [
    "labels2idx = {label: i for i, label in enumerate(rfc_test.classes_)}\n",
    "labels2idx"
   ]
  },
  {
   "cell_type": "code",
   "execution_count": 162,
   "metadata": {},
   "outputs": [],
   "source": [
    "sub = pd.DataFrame()\n",
    "sub[\"listing_id\"] = test_df[\"listing_id\"]\n",
    "for label in [\"high\", \"medium\", \"low\"]:\n",
    "    sub[label] = test_y[:, labels2idx[label]]\n",
    "sub.to_csv(r\"C:\\Users\\Giovanni PC\\cmpt459\\data\\submission_m3_rf_v1.csv\", index=False)\n"
   ]
  }
 ],
 "metadata": {
  "kernelspec": {
   "display_name": "Python 3",
   "language": "python",
   "name": "python3"
  },
  "language_info": {
   "codemirror_mode": {
    "name": "ipython",
    "version": 3
   },
   "file_extension": ".py",
   "mimetype": "text/x-python",
   "name": "python",
   "nbconvert_exporter": "python",
   "pygments_lexer": "ipython3",
   "version": "3.7.4"
  }
 },
 "nbformat": 4,
 "nbformat_minor": 4
}
