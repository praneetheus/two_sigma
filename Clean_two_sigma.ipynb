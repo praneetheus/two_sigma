{
 "cells": [
  {
   "cell_type": "code",
   "execution_count": 1,
   "metadata": {},
   "outputs": [
    {
     "name": "stdout",
     "output_type": "stream",
     "text": [
      "Populating the interactive namespace from numpy and matplotlib\n"
     ]
    }
   ],
   "source": [
    "%pylab inline\n",
    "import pandas\n",
    "import seaborn\n",
    "import numpy as np\n",
    "import matplotlib.pyplot as plt\n",
    "import scipy"
   ]
  },
  {
   "cell_type": "code",
   "execution_count": 3,
   "metadata": {},
   "outputs": [
    {
     "name": "stdout",
     "output_type": "stream",
     "text": [
      "Requirement already satisfied: opencv-python in /usr/local/lib/python3.7/site-packages (4.1.2.30)\n",
      "Requirement already satisfied: numpy>=1.14.5 in /usr/local/lib/python3.7/site-packages (from opencv-python) (1.17.2)\n"
     ]
    }
   ],
   "source": [
    "!pip3 install opencv-python"
   ]
  },
  {
   "cell_type": "code",
   "execution_count": 2,
   "metadata": {},
   "outputs": [],
   "source": [
    "import sys\n",
    "sys.path.append('/usr/local/lib/python3.7/site-packages')\n",
    "import cv2\n"
   ]
  },
  {
   "cell_type": "code",
   "execution_count": 6,
   "metadata": {},
   "outputs": [],
   "source": [
    "data = pandas.read_json(r'C:\\Users\\HP\\Documents\\cmpt 459 Kaggle\\two_sigma\\train.json')"
   ]
  },
  {
   "cell_type": "code",
   "execution_count": 7,
   "metadata": {},
   "outputs": [
    {
     "data": {
      "text/html": [
       "<div>\n",
       "<style scoped>\n",
       "    .dataframe tbody tr th:only-of-type {\n",
       "        vertical-align: middle;\n",
       "    }\n",
       "\n",
       "    .dataframe tbody tr th {\n",
       "        vertical-align: top;\n",
       "    }\n",
       "\n",
       "    .dataframe thead th {\n",
       "        text-align: right;\n",
       "    }\n",
       "</style>\n",
       "<table border=\"1\" class=\"dataframe\">\n",
       "  <thead>\n",
       "    <tr style=\"text-align: right;\">\n",
       "      <th></th>\n",
       "      <th>bathrooms</th>\n",
       "      <th>bedrooms</th>\n",
       "      <th>building_id</th>\n",
       "      <th>created</th>\n",
       "      <th>description</th>\n",
       "      <th>display_address</th>\n",
       "      <th>features</th>\n",
       "      <th>latitude</th>\n",
       "      <th>listing_id</th>\n",
       "      <th>longitude</th>\n",
       "      <th>manager_id</th>\n",
       "      <th>photos</th>\n",
       "      <th>price</th>\n",
       "      <th>street_address</th>\n",
       "      <th>interest_level</th>\n",
       "    </tr>\n",
       "  </thead>\n",
       "  <tbody>\n",
       "    <tr>\n",
       "      <th>4</th>\n",
       "      <td>1.0</td>\n",
       "      <td>1</td>\n",
       "      <td>8579a0b0d54db803821a35a4a615e97a</td>\n",
       "      <td>2016-06-16 05:55:27</td>\n",
       "      <td>Spacious 1 Bedroom 1 Bathroom in Williamsburg!...</td>\n",
       "      <td>145 Borinquen Place</td>\n",
       "      <td>[Dining Room, Pre-War, Laundry in Building, Di...</td>\n",
       "      <td>40.7108</td>\n",
       "      <td>7170325</td>\n",
       "      <td>-73.9539</td>\n",
       "      <td>a10db4590843d78c784171a107bdacb4</td>\n",
       "      <td>[https://photos.renthop.com/2/7170325_3bb5ac84...</td>\n",
       "      <td>2400</td>\n",
       "      <td>145 Borinquen Place</td>\n",
       "      <td>medium</td>\n",
       "    </tr>\n",
       "    <tr>\n",
       "      <th>6</th>\n",
       "      <td>1.0</td>\n",
       "      <td>2</td>\n",
       "      <td>b8e75fc949a6cd8225b455648a951712</td>\n",
       "      <td>2016-06-01 05:44:33</td>\n",
       "      <td>BRAND NEW GUT RENOVATED TRUE 2 BEDROOMFind you...</td>\n",
       "      <td>East 44th</td>\n",
       "      <td>[Doorman, Elevator, Laundry in Building, Dishw...</td>\n",
       "      <td>40.7513</td>\n",
       "      <td>7092344</td>\n",
       "      <td>-73.9722</td>\n",
       "      <td>955db33477af4f40004820b4aed804a0</td>\n",
       "      <td>[https://photos.renthop.com/2/7092344_7663c19a...</td>\n",
       "      <td>3800</td>\n",
       "      <td>230 East 44th</td>\n",
       "      <td>low</td>\n",
       "    </tr>\n",
       "    <tr>\n",
       "      <th>9</th>\n",
       "      <td>1.0</td>\n",
       "      <td>2</td>\n",
       "      <td>cd759a988b8f23924b5a2058d5ab2b49</td>\n",
       "      <td>2016-06-14 15:19:59</td>\n",
       "      <td>**FLEX 2 BEDROOM WITH FULL PRESSURIZED WALL**L...</td>\n",
       "      <td>East 56th Street</td>\n",
       "      <td>[Doorman, Elevator, Laundry in Building, Laund...</td>\n",
       "      <td>40.7575</td>\n",
       "      <td>7158677</td>\n",
       "      <td>-73.9625</td>\n",
       "      <td>c8b10a317b766204f08e613cef4ce7a0</td>\n",
       "      <td>[https://photos.renthop.com/2/7158677_c897a134...</td>\n",
       "      <td>3495</td>\n",
       "      <td>405 East 56th Street</td>\n",
       "      <td>medium</td>\n",
       "    </tr>\n",
       "    <tr>\n",
       "      <th>10</th>\n",
       "      <td>1.5</td>\n",
       "      <td>3</td>\n",
       "      <td>53a5b119ba8f7b61d4e010512e0dfc85</td>\n",
       "      <td>2016-06-24 07:54:24</td>\n",
       "      <td>A Brand New 3 Bedroom 1.5 bath ApartmentEnjoy ...</td>\n",
       "      <td>Metropolitan Avenue</td>\n",
       "      <td>[]</td>\n",
       "      <td>40.7145</td>\n",
       "      <td>7211212</td>\n",
       "      <td>-73.9425</td>\n",
       "      <td>5ba989232d0489da1b5f2c45f6688adc</td>\n",
       "      <td>[https://photos.renthop.com/2/7211212_1ed4542e...</td>\n",
       "      <td>3000</td>\n",
       "      <td>792 Metropolitan Avenue</td>\n",
       "      <td>medium</td>\n",
       "    </tr>\n",
       "    <tr>\n",
       "      <th>15</th>\n",
       "      <td>1.0</td>\n",
       "      <td>0</td>\n",
       "      <td>bfb9405149bfff42a92980b594c28234</td>\n",
       "      <td>2016-06-28 03:50:23</td>\n",
       "      <td>Over-sized Studio w abundant closets. Availabl...</td>\n",
       "      <td>East 34th Street</td>\n",
       "      <td>[Doorman, Elevator, Fitness Center, Laundry in...</td>\n",
       "      <td>40.7439</td>\n",
       "      <td>7225292</td>\n",
       "      <td>-73.9743</td>\n",
       "      <td>2c3b41f588fbb5234d8a1e885a436cfa</td>\n",
       "      <td>[https://photos.renthop.com/2/7225292_901f1984...</td>\n",
       "      <td>2795</td>\n",
       "      <td>340 East 34th Street</td>\n",
       "      <td>low</td>\n",
       "    </tr>\n",
       "  </tbody>\n",
       "</table>\n",
       "</div>"
      ],
      "text/plain": [
       "    bathrooms  bedrooms                       building_id  \\\n",
       "4         1.0         1  8579a0b0d54db803821a35a4a615e97a   \n",
       "6         1.0         2  b8e75fc949a6cd8225b455648a951712   \n",
       "9         1.0         2  cd759a988b8f23924b5a2058d5ab2b49   \n",
       "10        1.5         3  53a5b119ba8f7b61d4e010512e0dfc85   \n",
       "15        1.0         0  bfb9405149bfff42a92980b594c28234   \n",
       "\n",
       "                created                                        description  \\\n",
       "4   2016-06-16 05:55:27  Spacious 1 Bedroom 1 Bathroom in Williamsburg!...   \n",
       "6   2016-06-01 05:44:33  BRAND NEW GUT RENOVATED TRUE 2 BEDROOMFind you...   \n",
       "9   2016-06-14 15:19:59  **FLEX 2 BEDROOM WITH FULL PRESSURIZED WALL**L...   \n",
       "10  2016-06-24 07:54:24  A Brand New 3 Bedroom 1.5 bath ApartmentEnjoy ...   \n",
       "15  2016-06-28 03:50:23  Over-sized Studio w abundant closets. Availabl...   \n",
       "\n",
       "        display_address                                           features  \\\n",
       "4   145 Borinquen Place  [Dining Room, Pre-War, Laundry in Building, Di...   \n",
       "6             East 44th  [Doorman, Elevator, Laundry in Building, Dishw...   \n",
       "9      East 56th Street  [Doorman, Elevator, Laundry in Building, Laund...   \n",
       "10  Metropolitan Avenue                                                 []   \n",
       "15     East 34th Street  [Doorman, Elevator, Fitness Center, Laundry in...   \n",
       "\n",
       "    latitude  listing_id  longitude                        manager_id  \\\n",
       "4    40.7108     7170325   -73.9539  a10db4590843d78c784171a107bdacb4   \n",
       "6    40.7513     7092344   -73.9722  955db33477af4f40004820b4aed804a0   \n",
       "9    40.7575     7158677   -73.9625  c8b10a317b766204f08e613cef4ce7a0   \n",
       "10   40.7145     7211212   -73.9425  5ba989232d0489da1b5f2c45f6688adc   \n",
       "15   40.7439     7225292   -73.9743  2c3b41f588fbb5234d8a1e885a436cfa   \n",
       "\n",
       "                                               photos  price  \\\n",
       "4   [https://photos.renthop.com/2/7170325_3bb5ac84...   2400   \n",
       "6   [https://photos.renthop.com/2/7092344_7663c19a...   3800   \n",
       "9   [https://photos.renthop.com/2/7158677_c897a134...   3495   \n",
       "10  [https://photos.renthop.com/2/7211212_1ed4542e...   3000   \n",
       "15  [https://photos.renthop.com/2/7225292_901f1984...   2795   \n",
       "\n",
       "             street_address interest_level  \n",
       "4       145 Borinquen Place         medium  \n",
       "6             230 East 44th            low  \n",
       "9      405 East 56th Street         medium  \n",
       "10  792 Metropolitan Avenue         medium  \n",
       "15     340 East 34th Street            low  "
      ]
     },
     "execution_count": 7,
     "metadata": {},
     "output_type": "execute_result"
    }
   ],
   "source": [
    "data.head()\n",
    "# dir(data)"
   ]
  },
  {
   "cell_type": "markdown",
   "metadata": {},
   "source": [
    "# Finding number of missing values in each column"
   ]
  },
  {
   "cell_type": "code",
   "execution_count": 5,
   "metadata": {},
   "outputs": [
    {
     "name": "stdout",
     "output_type": "stream",
     "text": [
      "Features missing:  3218\n",
      "BuildingID missing:  8286\n",
      "Descriptions missing:  3333\n",
      "Bathroom missing:  313\n",
      "Bedrooms missing:  3149\n",
      "Created missing:  0\n",
      "Display missing:  137\n",
      "Latitude missing:  12\n",
      "Longitude missing:  12\n",
      "Listing missing:  0\n",
      "Missing managerID:  0\n",
      "price missing:  0\n",
      "missing street:  10\n",
      "Missing interest:  0\n",
      "Missing photos:  3615\n"
     ]
    }
   ],
   "source": [
    "countFeatures = 0\n",
    "for row in data.features:\n",
    "    if not row:\n",
    "        countFeatures += 1\n",
    "print('Features missing: ', countFeatures)\n",
    "\n",
    "# Building ID\n",
    "countBuildingID = 0\n",
    "for row in data.building_id:\n",
    "    if row == '0':\n",
    "        countBuildingID += 1\n",
    "print('BuildingID missing: ', countBuildingID)\n",
    "\n",
    "#descriptions missing\n",
    "countDescription = 0\n",
    "for row in data.description:\n",
    "    if row.isspace() or not row:\n",
    "        countDescription += 1\n",
    "print('Descriptions missing: ', countDescription)\n",
    "\n",
    "# bathrooms missing\n",
    "countBathrooms = 0\n",
    "for row in data.bathrooms:\n",
    "    if not row:\n",
    "        countBathrooms += 1\n",
    "print('Bathroom missing: ', countBathrooms)\n",
    "\n",
    "# bedroom misisng\n",
    "countBedrooms = 0\n",
    "for row, desrow in zip(data.bedrooms, data.description):\n",
    "#     desrow.lower()\n",
    "    if not row and ((\"studio\" not in desrow) and (\"STUDIO\" not in desrow) and (\"Studio\" not in desrow)) :\n",
    "#         print(desrow)\n",
    "        countBedrooms += 1\n",
    "print('Bedrooms missing: ', countBedrooms)\n",
    "\n",
    "# Missing created\n",
    "countCreated = 0\n",
    "for row in data.created:\n",
    "    if not row:\n",
    "        countCreated += 1\n",
    "print('Created missing: ', countCreated)\n",
    "\n",
    "# Display address missing\n",
    "countDisplayID = 0\n",
    "for row in data.display_address:\n",
    "    if row.isspace() or not row:\n",
    "        countDisplayID += 1\n",
    "print('Display missing: ', countDisplayID)\n",
    "\n",
    "#latitude missing\n",
    "countLat = 0\n",
    "for row in data.latitude:\n",
    "    if not row:\n",
    "        countLat += 1\n",
    "print('Latitude missing: ', countLat)\n",
    "\n",
    "#longitude missing\n",
    "countLong = 0\n",
    "for row in data.longitude:\n",
    "    if not row:\n",
    "        countLong += 1\n",
    "print('Longitude missing: ', countLong)\n",
    "\n",
    "#listing id missing\n",
    "countListingID = 0\n",
    "for row in data.listing_id:\n",
    "    if not row:\n",
    "        countListingID += 1\n",
    "print('Listing missing: ', countListingID)\n",
    "\n",
    "\n",
    "# missing manager id\n",
    "countManagerID = 0\n",
    "for row in data.manager_id:\n",
    "    if not row:\n",
    "        countManagerID += 1\n",
    "print('Missing managerID: ', countManagerID)\n",
    "\n",
    "# missing price\n",
    "countPrice = 0\n",
    "for row in data.price:\n",
    "    if not row:\n",
    "        countPrice += 1\n",
    "print('price missing: ', countPrice)\n",
    "\n",
    "#missing street variable\n",
    "countStreet = 0\n",
    "for row in data.street_address:\n",
    "    if row.isspace() or not row:\n",
    "        countStreet += 1\n",
    "print('missing street: ', countStreet)\n",
    "\n",
    "# missing interest levels\n",
    "countInterest = 0\n",
    "for row in data.interest_level:\n",
    "    if not row:\n",
    "        countInterest += 1\n",
    "print('Missing interest: ', countInterest)\n",
    "\n",
    "#missing photos\n",
    "countPhotos = 0\n",
    "for row in data.photos:\n",
    "    if not row:\n",
    "        countPhotos += 1\n",
    "print('Missing photos: ', countPhotos)"
   ]
  },
  {
   "cell_type": "markdown",
   "metadata": {},
   "source": [
    "# Mapping long and lat using 95th percentile of those values"
   ]
  },
  {
   "cell_type": "code",
   "execution_count": 10,
   "metadata": {},
   "outputs": [
    {
     "data": {
      "text/plain": [
       "(40.7, 41)"
      ]
     },
     "execution_count": 10,
     "metadata": {},
     "output_type": "execute_result"
    },
    {
     "data": {
      "image/png": "[encoded data removed]",
      "text/plain": [
       "<Figure size 1440x1440 with 1 Axes>"
      ]
     },
     "metadata": {
      "needs_background": "light"
     },
     "output_type": "display_data"
    }
   ],
   "source": [
    "figure(figsize=(20,20))\n",
    "plot(data['longitude'], data['latitude'], '.', ms=1)\n",
    "xlim(-74.2, -73.7)\n",
    "ylim(40.7, 41)"
   ]
  },
  {
   "cell_type": "markdown",
   "metadata": {},
   "source": [
    "# Box plot of price, lat and long to demonstrate outliers"
   ]
  },
  {
   "cell_type": "code",
   "execution_count": 89,
   "metadata": {},
   "outputs": [
    {
     "data": {
      "image/png": "[encoded data removed]",
      "text/plain": [
       "<Figure size 432x288 with 1 Axes>"
      ]
     },
     "metadata": {
      "needs_background": "light"
     },
     "output_type": "display_data"
    }
   ],
   "source": [
    "priceBP = seaborn.boxplot(x=data['price'])\n",
    "priceBP.set(xlabel='Price', title='Boxplot for price')\n",
    "plt.show()\n",
    "# xlim(0, 17000)"
   ]
  },
  {
   "cell_type": "code",
   "execution_count": 90,
   "metadata": {},
   "outputs": [
    {
     "data": {
      "image/png": "[encoded data removed]",
      "text/plain": [
       "<Figure size 432x288 with 1 Axes>"
      ]
     },
     "metadata": {
      "needs_background": "light"
     },
     "output_type": "display_data"
    }
   ],
   "source": [
    "latBP = seaborn.boxplot(x=data['latitude'])\n",
    "latBP.set(xlabel='Latitude', title='Latitude Box Plot')\n",
    "plt.show()\n"
   ]
  },
  {
   "cell_type": "code",
   "execution_count": 91,
   "metadata": {},
   "outputs": [
    {
     "data": {
      "image/png": "[encoded data removed]",
      "text/plain": [
       "<Figure size 432x288 with 1 Axes>"
      ]
     },
     "metadata": {
      "needs_background": "light"
     },
     "output_type": "display_data"
    }
   ],
   "source": [
    "lonBP = seaborn.boxplot(x=data['longitude'])\n",
    "lonBP.set(xlabel='Longitude', title='Longitude Box Plot')\n",
    "plt.show()"
   ]
  },
  {
   "cell_type": "markdown",
   "metadata": {},
   "source": [
    "# box plots for outlier visualizations for other variables"
   ]
  },
  {
   "cell_type": "code",
   "execution_count": 92,
   "metadata": {},
   "outputs": [
    {
     "data": {
      "image/png": "[encoded data removed]",
      "text/plain": [
       "<Figure size 432x288 with 1 Axes>"
      ]
     },
     "metadata": {
      "needs_background": "light"
     },
     "output_type": "display_data"
    }
   ],
   "source": [
    "bedBP = seaborn.boxplot(x=data['bedrooms'])\n",
    "bedBP.set(xlabel='bedrooms', title='Bedrooms Box Plot')\n",
    "plt.show()"
   ]
  },
  {
   "cell_type": "code",
   "execution_count": 93,
   "metadata": {},
   "outputs": [
    {
     "data": {
      "image/png": "[encoded data removed]",
      "text/plain": [
       "<Figure size 432x288 with 1 Axes>"
      ]
     },
     "metadata": {
      "needs_background": "light"
     },
     "output_type": "display_data"
    }
   ],
   "source": [
    "bathBP = seaborn.boxplot(x=data['bathrooms'])\n",
    "bathBP.set(xlabel='bathrooms', title='Bathroom Box Plot')\n",
    "plt.show()"
   ]
  },
  {
   "cell_type": "code",
   "execution_count": 56,
   "metadata": {},
   "outputs": [
    {
     "data": {
      "image/png": "[encoded data removed]",
      "text/plain": [
       "<Figure size 432x288 with 1 Axes>"
      ]
     },
     "metadata": {
      "needs_background": "light"
     },
     "output_type": "display_data"
    }
   ],
   "source": [
    "plt.hist(data['interest_level'])\n",
    "plt.show()"
   ]
  },
  {
   "cell_type": "markdown",
   "metadata": {},
   "source": [
    "# Converting 'created' column from object to datetime "
   ]
  },
  {
   "cell_type": "code",
   "execution_count": 61,
   "metadata": {},
   "outputs": [],
   "source": [
    "data['created'] = data['created'].map(pandas.to_datetime)"
   ]
  },
  {
   "cell_type": "code",
   "execution_count": 62,
   "metadata": {},
   "outputs": [],
   "source": [
    "def get_hour(dt):\n",
    "    return dt.hour\n",
    "# creating a new hour column\n",
    "data['hour'] = data['created'].map(get_hour)"
   ]
  },
  {
   "cell_type": "code",
   "execution_count": 75,
   "metadata": {},
   "outputs": [
    {
     "data": {
      "image/png": "[encoded data removed]",
      "text/plain": [
       "<Figure size 432x288 with 1 Axes>"
      ]
     },
     "metadata": {
      "needs_background": "light"
     },
     "output_type": "display_data"
    }
   ],
   "source": [
    "plt.hist(data.hour, bins=np.arange(data.hour.min(), data.hour.max()+1))\n",
    "plt.xlabel(\"Hours (24h format)\")\n",
    "plt.ylabel(\"Frequency of postings\")\n",
    "plt.title(\"Frequency of postings per hour\")\n",
    "plt.show()"
   ]
  },
  {
   "cell_type": "markdown",
   "metadata": {},
   "source": [
    "# Busiest hours for posting"
   ]
  },
  {
   "cell_type": "code",
   "execution_count": 63,
   "metadata": {},
   "outputs": [
    {
     "data": {
      "text/plain": [
       "2     10596\n",
       "3      8318\n",
       "5      7954\n",
       "1      5749\n",
       "4      5021\n",
       "6      4446\n",
       "7      1047\n",
       "14      782\n",
       "15      753\n",
       "12      693\n",
       "13      616\n",
       "18      450\n",
       "11      444\n",
       "17      443\n",
       "16      370\n",
       "8       336\n",
       "10      284\n",
       "19      266\n",
       "20      191\n",
       "21      178\n",
       "22      139\n",
       "9       135\n",
       "23       86\n",
       "0        55\n",
       "Name: hour, dtype: int64"
      ]
     },
     "execution_count": 63,
     "metadata": {},
     "output_type": "execute_result"
    }
   ],
   "source": [
    "data['hour'].value_counts()"
   ]
  },
  {
   "cell_type": "code",
   "execution_count": 71,
   "metadata": {},
   "outputs": [
    {
     "data": {
      "image/png": "[encoded data removed]",
      "text/plain": [
       "<Figure size 432x288 with 1 Axes>"
      ]
     },
     "metadata": {
      "needs_background": "light"
     },
     "output_type": "display_data"
    }
   ],
   "source": [
    "plt.hist(data.latitude)\n",
    "plt.xlabel(\"Latitude\")\n",
    "plt.ylabel(\"Frequency\")\n",
    "plt.title(\"Latitude histogram\")\n",
    "plt.show()"
   ]
  },
  {
   "cell_type": "code",
   "execution_count": 72,
   "metadata": {},
   "outputs": [
    {
     "data": {
      "image/png": "[encoded data removed]",
      "text/plain": [
       "<Figure size 432x288 with 1 Axes>"
      ]
     },
     "metadata": {
      "needs_background": "light"
     },
     "output_type": "display_data"
    }
   ],
   "source": [
    "plt.hist(data.longitude)\n",
    "plt.xlabel(\"Longitude\")\n",
    "plt.ylabel(\"Frequency\")\n",
    "plt.title(\"Longitude histogram\")\n",
    "plt.show()"
   ]
  },
  {
   "cell_type": "code",
   "execution_count": 73,
   "metadata": {},
   "outputs": [
    {
     "data": {
      "image/png": "[encoded data removed]",
      "text/plain": [
       "<Figure size 432x288 with 1 Axes>"
      ]
     },
     "metadata": {
      "needs_background": "light"
     },
     "output_type": "display_data"
    }
   ],
   "source": [
    "plt.hist(data.price)\n",
    "plt.xlabel(\"Price\")\n",
    "plt.ylabel(\"Frequency\")\n",
    "plt.title(\"Price histogram\")\n",
    "plt.show()"
   ]
  },
  {
   "cell_type": "markdown",
   "metadata": {},
   "source": [
    "# Removing outliers for pretty visualization"
   ]
  },
  {
   "cell_type": "code",
   "execution_count": 9,
   "metadata": {},
   "outputs": [],
   "source": [
    "lower_bound = 0.05\n",
    "upper_bound = 0.95"
   ]
  },
  {
   "cell_type": "code",
   "execution_count": 77,
   "metadata": {},
   "outputs": [
    {
     "data": {
      "text/plain": [
       "4        -73.9539\n",
       "6        -73.9722\n",
       "9        -73.9625\n",
       "10       -73.9425\n",
       "15       -73.9743\n",
       "           ...   \n",
       "124000   -73.9396\n",
       "124002   -73.9578\n",
       "124004   -73.9554\n",
       "124008   -74.0017\n",
       "124009   -73.9712\n",
       "Name: longitude, Length: 44278, dtype: float64"
      ]
     },
     "execution_count": 77,
     "metadata": {},
     "output_type": "execute_result"
    }
   ],
   "source": [
    "res = data.longitude.quantile([lower_bound, upper_bound])\n",
    "true_index = (res.loc[lower_bound] < data.longitude.values) & (data.longitude.values < res.loc[upper_bound])\n",
    "true_index\n",
    "data.longitude[true_index]"
   ]
  },
  {
   "cell_type": "code",
   "execution_count": 79,
   "metadata": {},
   "outputs": [
    {
     "data": {
      "image/png": "[encoded data removed]",
      "text/plain": [
       "<Figure size 432x288 with 1 Axes>"
      ]
     },
     "metadata": {
      "needs_background": "light"
     },
     "output_type": "display_data"
    }
   ],
   "source": [
    "plt.hist(data.longitude[true_index])\n",
    "plt.xlabel(\"Longitude\")\n",
    "plt.ylabel(\"Frequency\")\n",
    "plt.title(\"Longitude histogram (without outliers)\")\n",
    "plt.show()"
   ]
  },
  {
   "cell_type": "code",
   "execution_count": 10,
   "metadata": {},
   "outputs": [
    {
     "data": {
      "text/plain": [
       "0.05    40.6887\n",
       "0.95    40.8196\n",
       "Name: latitude, dtype: float64"
      ]
     },
     "execution_count": 10,
     "metadata": {},
     "output_type": "execute_result"
    }
   ],
   "source": [
    "res = data.latitude.quantile([lower_bound, upper_bound])\n",
    "res\n",
    "true_index = (res.loc[lower_bound] < data.latitude.values) & (data.latitude.values < res.loc[upper_bound])\n",
    "data.latitude[true_index]"
   ]
  },
  {
   "cell_type": "code",
   "execution_count": 12,
   "metadata": {},
   "outputs": [
    {
     "data": {
      "text/html": [
       "<div>\n",
       "<style scoped>\n",
       "    .dataframe tbody tr th:only-of-type {\n",
       "        vertical-align: middle;\n",
       "    }\n",
       "\n",
       "    .dataframe tbody tr th {\n",
       "        vertical-align: top;\n",
       "    }\n",
       "\n",
       "    .dataframe thead th {\n",
       "        text-align: right;\n",
       "    }\n",
       "</style>\n",
       "<table border=\"1\" class=\"dataframe\">\n",
       "  <thead>\n",
       "    <tr style=\"text-align: right;\">\n",
       "      <th></th>\n",
       "      <th>bathrooms</th>\n",
       "      <th>bedrooms</th>\n",
       "      <th>building_id</th>\n",
       "      <th>created</th>\n",
       "      <th>description</th>\n",
       "      <th>display_address</th>\n",
       "      <th>features</th>\n",
       "      <th>latitude</th>\n",
       "      <th>listing_id</th>\n",
       "      <th>longitude</th>\n",
       "      <th>manager_id</th>\n",
       "      <th>photos</th>\n",
       "      <th>price</th>\n",
       "      <th>street_address</th>\n",
       "      <th>interest_level</th>\n",
       "    </tr>\n",
       "  </thead>\n",
       "  <tbody>\n",
       "    <tr>\n",
       "      <th>13701</th>\n",
       "      <td>6.0</td>\n",
       "      <td>5</td>\n",
       "      <td>27531221dd5b7a63504847f7aafe45bb</td>\n",
       "      <td>2016-06-03 02:10:23</td>\n",
       "      <td>Stately 5-story townhouse residence on East 67...</td>\n",
       "      <td>East 67th Street</td>\n",
       "      <td>[Fireplace, Doorman, Elevator, Dogs Allowed, C...</td>\n",
       "      <td>40.7657</td>\n",
       "      <td>7101290</td>\n",
       "      <td>-73.9614</td>\n",
       "      <td>df7d8f04e475b5f1a34b45509b14bd70</td>\n",
       "      <td>[https://photos.renthop.com/2/7101290_ea1c58ff...</td>\n",
       "      <td>45000</td>\n",
       "      <td>240 East 67th Street</td>\n",
       "      <td>low</td>\n",
       "    </tr>\n",
       "    <tr>\n",
       "      <th>26937</th>\n",
       "      <td>6.5</td>\n",
       "      <td>7</td>\n",
       "      <td>3be1175591e290053aa6997ac8f4e3bb</td>\n",
       "      <td>2016-06-22 03:15:54</td>\n",
       "      <td>This landmark English stone manor sits majesti...</td>\n",
       "      <td>206 Upper Mountain Avenu</td>\n",
       "      <td>[Garage, Garden, Doorman]</td>\n",
       "      <td>40.8336</td>\n",
       "      <td>7198431</td>\n",
       "      <td>-74.2160</td>\n",
       "      <td>1d019cccf631394cd7f2aba471a54ca4</td>\n",
       "      <td>[https://photos.renthop.com/2/7198431_70d9d8ff...</td>\n",
       "      <td>14500</td>\n",
       "      <td>206 Upper Mountain Avenu</td>\n",
       "      <td>low</td>\n",
       "    </tr>\n",
       "    <tr>\n",
       "      <th>30788</th>\n",
       "      <td>6.0</td>\n",
       "      <td>5</td>\n",
       "      <td>1c2f695696013f4068f89619d06b174f</td>\n",
       "      <td>2016-06-01 02:14:51</td>\n",
       "      <td>&lt;BR&gt;Home in the sky. One-of-a-kind, 5 Bedrooms...</td>\n",
       "      <td>East 60th Street</td>\n",
       "      <td>[Doorman, Elevator, Laundry in Unit, Dogs Allo...</td>\n",
       "      <td>40.7603</td>\n",
       "      <td>7088146</td>\n",
       "      <td>-73.9610</td>\n",
       "      <td>161a1a797a1e57f6ba979447a0eadf94</td>\n",
       "      <td>[https://photos.renthop.com/2/7088146_9c0380cd...</td>\n",
       "      <td>28000</td>\n",
       "      <td>401 East 60th Street</td>\n",
       "      <td>low</td>\n",
       "    </tr>\n",
       "    <tr>\n",
       "      <th>35053</th>\n",
       "      <td>5.5</td>\n",
       "      <td>5</td>\n",
       "      <td>ce6d18bf3238e668b2bf23f4110b7b67</td>\n",
       "      <td>2016-06-16 08:19:54</td>\n",
       "      <td>Enjoy your own private elevator up to this ama...</td>\n",
       "      <td>John St.</td>\n",
       "      <td>[Roof Deck, Dining Room, Doorman, Elevator, Fi...</td>\n",
       "      <td>40.7081</td>\n",
       "      <td>7173184</td>\n",
       "      <td>-74.0065</td>\n",
       "      <td>5314d4635a5d2d0ce5af039d5982b200</td>\n",
       "      <td>[https://photos.renthop.com/2/7173184_b615247f...</td>\n",
       "      <td>16500</td>\n",
       "      <td>100 John St.</td>\n",
       "      <td>low</td>\n",
       "    </tr>\n",
       "    <tr>\n",
       "      <th>52189</th>\n",
       "      <td>5.5</td>\n",
       "      <td>4</td>\n",
       "      <td>2094beb4097c7f56670afba5b01b31a4</td>\n",
       "      <td>2016-05-08 02:23:58</td>\n",
       "      <td>1 OF A KIND....Luxury PENTHOUSE Duplex with ma...</td>\n",
       "      <td>E 39th St.</td>\n",
       "      <td>[Swimming Pool, Roof Deck, Dining Room, Balcon...</td>\n",
       "      <td>40.7479</td>\n",
       "      <td>6981983</td>\n",
       "      <td>-73.9746</td>\n",
       "      <td>c9c33695ee2a2f818e9f1d8f7d1c4b39</td>\n",
       "      <td>[https://photos.renthop.com/2/6981983_6022bde4...</td>\n",
       "      <td>30000</td>\n",
       "      <td>240 E 39th St.</td>\n",
       "      <td>low</td>\n",
       "    </tr>\n",
       "    <tr>\n",
       "      <th>66485</th>\n",
       "      <td>5.5</td>\n",
       "      <td>5</td>\n",
       "      <td>2094beb4097c7f56670afba5b01b31a4</td>\n",
       "      <td>2016-05-20 06:32:57</td>\n",
       "      <td>No Fee! Massive renovated 4,000sf 5bed/5.5bath...</td>\n",
       "      <td>East 39th Street</td>\n",
       "      <td>[Fireplace, Swimming Pool, Roof Deck, Dining R...</td>\n",
       "      <td>40.7479</td>\n",
       "      <td>7044457</td>\n",
       "      <td>-73.9746</td>\n",
       "      <td>d024c48f43195c6c978a8f51aa46715c</td>\n",
       "      <td>[https://photos.renthop.com/2/7044457_eafd4e40...</td>\n",
       "      <td>25000</td>\n",
       "      <td>240 East 39th Street</td>\n",
       "      <td>low</td>\n",
       "    </tr>\n",
       "    <tr>\n",
       "      <th>79611</th>\n",
       "      <td>6.0</td>\n",
       "      <td>5</td>\n",
       "      <td>1c2f695696013f4068f89619d06b174f</td>\n",
       "      <td>2016-05-02 02:12:06</td>\n",
       "      <td>&lt;BR&gt;Home in the sky. One-of-a-kind, 5 Bedrooms...</td>\n",
       "      <td>East 60th Street</td>\n",
       "      <td>[Doorman, Elevator, Laundry in Unit, Dogs Allo...</td>\n",
       "      <td>40.7603</td>\n",
       "      <td>6952330</td>\n",
       "      <td>-73.9610</td>\n",
       "      <td>c8e5586edfdb8fd3cdc6f9c3a9bf4678</td>\n",
       "      <td>[https://photos.renthop.com/2/6952330_ca372c6f...</td>\n",
       "      <td>28000</td>\n",
       "      <td>401 East 60th Street</td>\n",
       "      <td>low</td>\n",
       "    </tr>\n",
       "    <tr>\n",
       "      <th>84566</th>\n",
       "      <td>7.0</td>\n",
       "      <td>5</td>\n",
       "      <td>0</td>\n",
       "      <td>2016-04-07 17:06:29</td>\n",
       "      <td>Extraordinary in every way. This single family...</td>\n",
       "      <td>West 9th St- High Class Townhome</td>\n",
       "      <td>[]</td>\n",
       "      <td>40.7335</td>\n",
       "      <td>6840943</td>\n",
       "      <td>-73.9974</td>\n",
       "      <td>e6472c7237327dd3903b3d6f6a94515a</td>\n",
       "      <td>[https://photos.renthop.com/2/6840943_7f4b82cf...</td>\n",
       "      <td>60000</td>\n",
       "      <td>47th West 9th St</td>\n",
       "      <td>low</td>\n",
       "    </tr>\n",
       "    <tr>\n",
       "      <th>91709</th>\n",
       "      <td>6.0</td>\n",
       "      <td>6</td>\n",
       "      <td>d20bce0bc08b2731f726067a1e501162</td>\n",
       "      <td>2016-04-16 02:22:15</td>\n",
       "      <td>MANSION IN THE SKY!!! This six-bedroom full-fl...</td>\n",
       "      <td>230 West 56th Street</td>\n",
       "      <td>[Doorman, Elevator, Furnished, Laundry in Unit...</td>\n",
       "      <td>40.7654</td>\n",
       "      <td>6881666</td>\n",
       "      <td>-73.9822</td>\n",
       "      <td>37ffeac28297e956deecd7b31940c6e7</td>\n",
       "      <td>[https://photos.renthop.com/2/6881666_bedcd181...</td>\n",
       "      <td>100000</td>\n",
       "      <td>230 West 56th Street</td>\n",
       "      <td>low</td>\n",
       "    </tr>\n",
       "    <tr>\n",
       "      <th>96387</th>\n",
       "      <td>5.5</td>\n",
       "      <td>4</td>\n",
       "      <td>2094beb4097c7f56670afba5b01b31a4</td>\n",
       "      <td>2016-04-05 03:28:02</td>\n",
       "      <td>1 OF A KIND....Luxury PENTHOUSE Duplex with ma...</td>\n",
       "      <td>E 39th St.</td>\n",
       "      <td>[Swimming Pool, Roof Deck, Dining Room, Balcon...</td>\n",
       "      <td>40.7479</td>\n",
       "      <td>6824508</td>\n",
       "      <td>-73.9746</td>\n",
       "      <td>c9c33695ee2a2f818e9f1d8f7d1c4b39</td>\n",
       "      <td>[https://photos.renthop.com/2/6824508_125396ce...</td>\n",
       "      <td>30000</td>\n",
       "      <td>240 E 39th St.</td>\n",
       "      <td>low</td>\n",
       "    </tr>\n",
       "    <tr>\n",
       "      <th>99199</th>\n",
       "      <td>5.5</td>\n",
       "      <td>4</td>\n",
       "      <td>0</td>\n",
       "      <td>2016-04-10 05:27:50</td>\n",
       "      <td>Brand New 3,600 Sqft Luxury Upper East Side Tr...</td>\n",
       "      <td>523b E 85th St.</td>\n",
       "      <td>[Dining Room, Garden/Patio, Terrace, Laundry i...</td>\n",
       "      <td>40.7749</td>\n",
       "      <td>6853808</td>\n",
       "      <td>-73.9464</td>\n",
       "      <td>5a098d61c10d161da0a026e70a006557</td>\n",
       "      <td>[https://photos.renthop.com/2/6853808_d4c94793...</td>\n",
       "      <td>30000</td>\n",
       "      <td>523b E 85th St.</td>\n",
       "      <td>low</td>\n",
       "    </tr>\n",
       "    <tr>\n",
       "      <th>104459</th>\n",
       "      <td>10.0</td>\n",
       "      <td>2</td>\n",
       "      <td>424f8014bddc288d26da5fe81d0bea02</td>\n",
       "      <td>2016-04-09 04:34:31</td>\n",
       "      <td>***The building?s well-attended lobby welcomes...</td>\n",
       "      <td>W 52 St.</td>\n",
       "      <td>[Doorman, Elevator, Fitness Center, Laundry in...</td>\n",
       "      <td>40.7633</td>\n",
       "      <td>6849204</td>\n",
       "      <td>-73.9849</td>\n",
       "      <td>0c71a59cb70215fbf49c9dd93efaa172</td>\n",
       "      <td>[https://photos.renthop.com/2/6849204_1f92b58a...</td>\n",
       "      <td>3600</td>\n",
       "      <td>260 W 52 St.</td>\n",
       "      <td>low</td>\n",
       "    </tr>\n",
       "  </tbody>\n",
       "</table>\n",
       "</div>"
      ],
      "text/plain": [
       "        bathrooms  bedrooms                       building_id  \\\n",
       "13701         6.0         5  27531221dd5b7a63504847f7aafe45bb   \n",
       "26937         6.5         7  3be1175591e290053aa6997ac8f4e3bb   \n",
       "30788         6.0         5  1c2f695696013f4068f89619d06b174f   \n",
       "35053         5.5         5  ce6d18bf3238e668b2bf23f4110b7b67   \n",
       "52189         5.5         4  2094beb4097c7f56670afba5b01b31a4   \n",
       "66485         5.5         5  2094beb4097c7f56670afba5b01b31a4   \n",
       "79611         6.0         5  1c2f695696013f4068f89619d06b174f   \n",
       "84566         7.0         5                                 0   \n",
       "91709         6.0         6  d20bce0bc08b2731f726067a1e501162   \n",
       "96387         5.5         4  2094beb4097c7f56670afba5b01b31a4   \n",
       "99199         5.5         4                                 0   \n",
       "104459       10.0         2  424f8014bddc288d26da5fe81d0bea02   \n",
       "\n",
       "                    created  \\\n",
       "13701   2016-06-03 02:10:23   \n",
       "26937   2016-06-22 03:15:54   \n",
       "30788   2016-06-01 02:14:51   \n",
       "35053   2016-06-16 08:19:54   \n",
       "52189   2016-05-08 02:23:58   \n",
       "66485   2016-05-20 06:32:57   \n",
       "79611   2016-05-02 02:12:06   \n",
       "84566   2016-04-07 17:06:29   \n",
       "91709   2016-04-16 02:22:15   \n",
       "96387   2016-04-05 03:28:02   \n",
       "99199   2016-04-10 05:27:50   \n",
       "104459  2016-04-09 04:34:31   \n",
       "\n",
       "                                              description  \\\n",
       "13701   Stately 5-story townhouse residence on East 67...   \n",
       "26937   This landmark English stone manor sits majesti...   \n",
       "30788   <BR>Home in the sky. One-of-a-kind, 5 Bedrooms...   \n",
       "35053   Enjoy your own private elevator up to this ama...   \n",
       "52189   1 OF A KIND....Luxury PENTHOUSE Duplex with ma...   \n",
       "66485   No Fee! Massive renovated 4,000sf 5bed/5.5bath...   \n",
       "79611   <BR>Home in the sky. One-of-a-kind, 5 Bedrooms...   \n",
       "84566   Extraordinary in every way. This single family...   \n",
       "91709   MANSION IN THE SKY!!! This six-bedroom full-fl...   \n",
       "96387   1 OF A KIND....Luxury PENTHOUSE Duplex with ma...   \n",
       "99199   Brand New 3,600 Sqft Luxury Upper East Side Tr...   \n",
       "104459  ***The building?s well-attended lobby welcomes...   \n",
       "\n",
       "                         display_address  \\\n",
       "13701                   East 67th Street   \n",
       "26937           206 Upper Mountain Avenu   \n",
       "30788                   East 60th Street   \n",
       "35053                           John St.   \n",
       "52189                         E 39th St.   \n",
       "66485                   East 39th Street   \n",
       "79611                   East 60th Street   \n",
       "84566   West 9th St- High Class Townhome   \n",
       "91709               230 West 56th Street   \n",
       "96387                         E 39th St.   \n",
       "99199                    523b E 85th St.   \n",
       "104459                          W 52 St.   \n",
       "\n",
       "                                                 features  latitude  \\\n",
       "13701   [Fireplace, Doorman, Elevator, Dogs Allowed, C...   40.7657   \n",
       "26937                           [Garage, Garden, Doorman]   40.8336   \n",
       "30788   [Doorman, Elevator, Laundry in Unit, Dogs Allo...   40.7603   \n",
       "35053   [Roof Deck, Dining Room, Doorman, Elevator, Fi...   40.7081   \n",
       "52189   [Swimming Pool, Roof Deck, Dining Room, Balcon...   40.7479   \n",
       "66485   [Fireplace, Swimming Pool, Roof Deck, Dining R...   40.7479   \n",
       "79611   [Doorman, Elevator, Laundry in Unit, Dogs Allo...   40.7603   \n",
       "84566                                                  []   40.7335   \n",
       "91709   [Doorman, Elevator, Furnished, Laundry in Unit...   40.7654   \n",
       "96387   [Swimming Pool, Roof Deck, Dining Room, Balcon...   40.7479   \n",
       "99199   [Dining Room, Garden/Patio, Terrace, Laundry i...   40.7749   \n",
       "104459  [Doorman, Elevator, Fitness Center, Laundry in...   40.7633   \n",
       "\n",
       "        listing_id  longitude                        manager_id  \\\n",
       "13701      7101290   -73.9614  df7d8f04e475b5f1a34b45509b14bd70   \n",
       "26937      7198431   -74.2160  1d019cccf631394cd7f2aba471a54ca4   \n",
       "30788      7088146   -73.9610  161a1a797a1e57f6ba979447a0eadf94   \n",
       "35053      7173184   -74.0065  5314d4635a5d2d0ce5af039d5982b200   \n",
       "52189      6981983   -73.9746  c9c33695ee2a2f818e9f1d8f7d1c4b39   \n",
       "66485      7044457   -73.9746  d024c48f43195c6c978a8f51aa46715c   \n",
       "79611      6952330   -73.9610  c8e5586edfdb8fd3cdc6f9c3a9bf4678   \n",
       "84566      6840943   -73.9974  e6472c7237327dd3903b3d6f6a94515a   \n",
       "91709      6881666   -73.9822  37ffeac28297e956deecd7b31940c6e7   \n",
       "96387      6824508   -73.9746  c9c33695ee2a2f818e9f1d8f7d1c4b39   \n",
       "99199      6853808   -73.9464  5a098d61c10d161da0a026e70a006557   \n",
       "104459     6849204   -73.9849  0c71a59cb70215fbf49c9dd93efaa172   \n",
       "\n",
       "                                                   photos   price  \\\n",
       "13701   [https://photos.renthop.com/2/7101290_ea1c58ff...   45000   \n",
       "26937   [https://photos.renthop.com/2/7198431_70d9d8ff...   14500   \n",
       "30788   [https://photos.renthop.com/2/7088146_9c0380cd...   28000   \n",
       "35053   [https://photos.renthop.com/2/7173184_b615247f...   16500   \n",
       "52189   [https://photos.renthop.com/2/6981983_6022bde4...   30000   \n",
       "66485   [https://photos.renthop.com/2/7044457_eafd4e40...   25000   \n",
       "79611   [https://photos.renthop.com/2/6952330_ca372c6f...   28000   \n",
       "84566   [https://photos.renthop.com/2/6840943_7f4b82cf...   60000   \n",
       "91709   [https://photos.renthop.com/2/6881666_bedcd181...  100000   \n",
       "96387   [https://photos.renthop.com/2/6824508_125396ce...   30000   \n",
       "99199   [https://photos.renthop.com/2/6853808_d4c94793...   30000   \n",
       "104459  [https://photos.renthop.com/2/6849204_1f92b58a...    3600   \n",
       "\n",
       "                  street_address interest_level  \n",
       "13701       240 East 67th Street            low  \n",
       "26937   206 Upper Mountain Avenu            low  \n",
       "30788       401 East 60th Street            low  \n",
       "35053               100 John St.            low  \n",
       "52189             240 E 39th St.            low  \n",
       "66485       240 East 39th Street            low  \n",
       "79611       401 East 60th Street            low  \n",
       "84566           47th West 9th St            low  \n",
       "91709       230 West 56th Street            low  \n",
       "96387             240 E 39th St.            low  \n",
       "99199            523b E 85th St.            low  \n",
       "104459              260 W 52 St.            low  "
      ]
     },
     "execution_count": 12,
     "metadata": {},
     "output_type": "execute_result"
    }
   ],
   "source": [
    "true_index = (data.bathrooms.values > 5)\n",
    "data[true_index]"
   ]
  },
  {
   "cell_type": "code",
   "execution_count": 82,
   "metadata": {},
   "outputs": [
    {
     "data": {
      "image/png": "[encoded data removed]",
      "text/plain": [
       "<Figure size 432x288 with 1 Axes>"
      ]
     },
     "metadata": {
      "needs_background": "light"
     },
     "output_type": "display_data"
    }
   ],
   "source": [
    "plt.hist(data.latitude[true_index])\n",
    "plt.xlabel(\"Latitude\")\n",
    "plt.ylabel(\"Frequency\")\n",
    "plt.title(\"Latitude histogram (without outliers)\")\n",
    "plt.show()"
   ]
  },
  {
   "cell_type": "code",
   "execution_count": 86,
   "metadata": {},
   "outputs": [
    {
     "data": {
      "text/plain": [
       "4         2400\n",
       "6         3800\n",
       "9         3495\n",
       "10        3000\n",
       "15        2795\n",
       "          ... \n",
       "124000    2800\n",
       "124002    2395\n",
       "124004    1850\n",
       "124008    4195\n",
       "124009    4280\n",
       "Name: price, Length: 44272, dtype: int64"
      ]
     },
     "execution_count": 86,
     "metadata": {},
     "output_type": "execute_result"
    }
   ],
   "source": [
    "res = data.price.quantile([lower_bound, upper_bound])\n",
    "true_index = (res.loc[lower_bound] < data.price.values) & (data.price.values < res.loc[upper_bound])\n",
    "data.price[true_index]\n"
   ]
  },
  {
   "cell_type": "code",
   "execution_count": 87,
   "metadata": {},
   "outputs": [
    {
     "data": {
      "image/png": "[encoded data removed]",
      "text/plain": [
       "<Figure size 432x288 with 1 Axes>"
      ]
     },
     "metadata": {
      "needs_background": "light"
     },
     "output_type": "display_data"
    }
   ],
   "source": [
    "plt.hist(data.price[true_index])\n",
    "plt.xlabel(\"Price\")\n",
    "plt.ylabel(\"Frequency\")\n",
    "plt.title(\"Price histogram (without outliers)\")\n",
    "plt.show()\n"
   ]
  },
  {
   "cell_type": "markdown",
   "metadata": {},
   "source": [
    "# image processing"
   ]
  },
  {
   "cell_type": "code",
   "execution_count": 11,
   "metadata": {},
   "outputs": [
    {
     "data": {
      "text/plain": [
       "<matplotlib.image.AxesImage at 0x1a24aa4d50>"
      ]
     },
     "execution_count": 11,
     "metadata": {},
     "output_type": "execute_result"
    },
    {
     "data": {
      "image/png": "[encoded data removed]",
      "text/plain": [
       "<Figure size 432x288 with 1 Axes>"
      ]
     },
     "metadata": {
      "needs_background": "light"
     },
     "output_type": "display_data"
    }
   ],
   "source": [
    "imgPath = '/Users/Home/Desktop/CMPT 459/projectDataset/images_sample/6811957/6811957_3dad56e8bf3477b2900ca39d57df041e.jpg'\n",
    "img = cv2.imread(imgPath)\n",
    "imshow(img)"
   ]
  },
  {
   "cell_type": "code",
   "execution_count": 20,
   "metadata": {},
   "outputs": [
    {
     "data": {
      "image/png": "[encoded data removed]",
      "text/plain": [
       "<Figure size 432x288 with 1 Axes>"
      ]
     },
     "metadata": {
      "needs_background": "light"
     },
     "output_type": "display_data"
    }
   ],
   "source": [
    "imgHist = cv2.calcHist([img], [0], None, [256],[0,256])\n",
    "# imgHist\n",
    "plt.hist(img.ravel(), 256, [0,256])\n",
    "plt.show()"
   ]
  },
  {
   "cell_type": "code",
   "execution_count": 40,
   "metadata": {},
   "outputs": [],
   "source": [
    "pixel, frqCount = np.unique(img, return_counts=True)\n",
    "# plt.hist(frqCount)\n",
    "# plt.show()\n",
    "# np.unique(img, return_counts=True)"
   ]
  },
  {
   "cell_type": "code",
   "execution_count": 39,
   "metadata": {},
   "outputs": [
    {
     "data": {
      "image/png": "[encoded data removed]",
      "text/plain": [
       "<Figure size 432x288 with 1 Axes>"
      ]
     },
     "metadata": {
      "needs_background": "light"
     },
     "output_type": "display_data"
    }
   ],
   "source": [
    "plt.scatter(x=pixel, y=frqCount)\n",
    "plt.show()"
   ]
  },
  {
   "cell_type": "markdown",
   "metadata": {},
   "source": [
    "# Feature extraction & processing"
   ]
  },
  {
   "cell_type": "code",
   "execution_count": 54,
   "metadata": {},
   "outputs": [
    {
     "data": {
      "text/html": [
       "<div>\n",
       "<style scoped>\n",
       "    .dataframe tbody tr th:only-of-type {\n",
       "        vertical-align: middle;\n",
       "    }\n",
       "\n",
       "    .dataframe tbody tr th {\n",
       "        vertical-align: top;\n",
       "    }\n",
       "\n",
       "    .dataframe thead th {\n",
       "        text-align: right;\n",
       "    }\n",
       "</style>\n",
       "<table border=\"1\" class=\"dataframe\">\n",
       "  <thead>\n",
       "    <tr style=\"text-align: right;\">\n",
       "      <th></th>\n",
       "      <th>pixel</th>\n",
       "      <th>frq</th>\n",
       "    </tr>\n",
       "  </thead>\n",
       "  <tbody>\n",
       "    <tr>\n",
       "      <th>0</th>\n",
       "      <td>4</td>\n",
       "      <td>2</td>\n",
       "    </tr>\n",
       "    <tr>\n",
       "      <th>1</th>\n",
       "      <td>5</td>\n",
       "      <td>6</td>\n",
       "    </tr>\n",
       "    <tr>\n",
       "      <th>2</th>\n",
       "      <td>6</td>\n",
       "      <td>8</td>\n",
       "    </tr>\n",
       "    <tr>\n",
       "      <th>3</th>\n",
       "      <td>7</td>\n",
       "      <td>20</td>\n",
       "    </tr>\n",
       "    <tr>\n",
       "      <th>4</th>\n",
       "      <td>8</td>\n",
       "      <td>49</td>\n",
       "    </tr>\n",
       "  </tbody>\n",
       "</table>\n",
       "</div>"
      ],
      "text/plain": [
       "   pixel  frq\n",
       "0      4    2\n",
       "1      5    6\n",
       "2      6    8\n",
       "3      7   20\n",
       "4      8   49"
      ]
     },
     "execution_count": 54,
     "metadata": {},
     "output_type": "execute_result"
    }
   ],
   "source": [
    "imgDf = pandas.DataFrame({'pixel': pixel, 'frq':frqCount})\n",
    "# imgDf['pixel'].value_counts()\n",
    "imgDf.head(5)\n",
    "# np.amin(imgDf.pixel)"
   ]
  },
  {
   "cell_type": "code",
   "execution_count": 67,
   "metadata": {},
   "outputs": [
    {
     "data": {
      "text/plain": [
       "['Dining Room',\n",
       " 'Pre-War',\n",
       " 'Laundry in Building',\n",
       " 'Dishwasher',\n",
       " 'Hardwood Floors',\n",
       " 'Dogs Allowed',\n",
       " 'Cats Allowed']"
      ]
     },
     "execution_count": 67,
     "metadata": {},
     "output_type": "execute_result"
    }
   ],
   "source": [
    "data.features[4]"
   ]
  },
  {
   "cell_type": "code",
   "execution_count": 66,
   "metadata": {},
   "outputs": [
    {
     "data": {
      "text/plain": [
       "7"
      ]
     },
     "execution_count": 66,
     "metadata": {},
     "output_type": "execute_result"
    }
   ],
   "source": [
    "len(data.features[4])"
   ]
  },
  {
   "cell_type": "code",
   "execution_count": 82,
   "metadata": {},
   "outputs": [
    {
     "data": {
      "text/html": [
       "<div>\n",
       "<style scoped>\n",
       "    .dataframe tbody tr th:only-of-type {\n",
       "        vertical-align: middle;\n",
       "    }\n",
       "\n",
       "    .dataframe tbody tr th {\n",
       "        vertical-align: top;\n",
       "    }\n",
       "\n",
       "    .dataframe thead th {\n",
       "        text-align: right;\n",
       "    }\n",
       "</style>\n",
       "<table border=\"1\" class=\"dataframe\">\n",
       "  <thead>\n",
       "    <tr style=\"text-align: right;\">\n",
       "      <th></th>\n",
       "      <th>bathrooms</th>\n",
       "      <th>bedrooms</th>\n",
       "      <th>building_id</th>\n",
       "      <th>created</th>\n",
       "      <th>description</th>\n",
       "      <th>display_address</th>\n",
       "      <th>features</th>\n",
       "      <th>latitude</th>\n",
       "      <th>listing_id</th>\n",
       "      <th>longitude</th>\n",
       "      <th>manager_id</th>\n",
       "      <th>photos</th>\n",
       "      <th>price</th>\n",
       "      <th>street_address</th>\n",
       "      <th>interest_level</th>\n",
       "      <th>hour</th>\n",
       "      <th>feature_len</th>\n",
       "    </tr>\n",
       "  </thead>\n",
       "  <tbody>\n",
       "  </tbody>\n",
       "</table>\n",
       "</div>"
      ],
      "text/plain": [
       "Empty DataFrame\n",
       "Columns: [bathrooms, bedrooms, building_id, created, description, display_address, features, latitude, listing_id, longitude, manager_id, photos, price, street_address, interest_level, hour, feature_len]\n",
       "Index: []"
      ]
     },
     "execution_count": 82,
     "metadata": {},
     "output_type": "execute_result"
    }
   ],
   "source": [
    "data['feature_len'] = data.features.apply(len)\n",
    "data.head(0)"
   ]
  },
  {
   "cell_type": "code",
   "execution_count": 72,
   "metadata": {},
   "outputs": [
    {
     "data": {
      "text/plain": [
       "<matplotlib.axes._subplots.AxesSubplot at 0x1a49d3de50>"
      ]
     },
     "execution_count": 72,
     "metadata": {},
     "output_type": "execute_result"
    },
    {
     "data": {
      "image/png": "[encoded data removed]",
      "text/plain": [
       "<Figure size 432x288 with 1 Axes>"
      ]
     },
     "metadata": {
      "needs_background": "light"
     },
     "output_type": "display_data"
    }
   ],
   "source": [
    "seaborn.distplot(data['bedrooms'],kde=False)"
   ]
  },
  {
   "cell_type": "markdown",
   "metadata": {},
   "source": [
    "# Does the number of features affect the interest levels? Doesn't seem it like"
   ]
  },
  {
   "cell_type": "code",
   "execution_count": 87,
   "metadata": {},
   "outputs": [
    {
     "data": {
      "text/plain": [
       "<matplotlib.axes._subplots.AxesSubplot at 0x1a49975610>"
      ]
     },
     "execution_count": 87,
     "metadata": {},
     "output_type": "execute_result"
    },
    {
     "data": {
      "image/png": "[encoded data removed]",
      "text/plain": [
       "<Figure size 432x288 with 1 Axes>"
      ]
     },
     "metadata": {
      "needs_background": "light"
     },
     "output_type": "display_data"
    }
   ],
   "source": [
    "seaborn.scatterplot(x='interest_level', y='feature_len', data=data)\n",
    "# ylim(0, 10000)\n",
    "# x.set(xlabel='int', title='Boxplot for price')"
   ]
  },
  {
   "cell_type": "code",
   "execution_count": 88,
   "metadata": {},
   "outputs": [
    {
     "data": {
      "text/plain": [
       "<matplotlib.axes._subplots.AxesSubplot at 0x1a49969490>"
      ]
     },
     "execution_count": 88,
     "metadata": {},
     "output_type": "execute_result"
    },
    {
     "data": {
      "image/png": "[encoded data removed]",
      "text/plain": [
       "<Figure size 432x288 with 1 Axes>"
      ]
     },
     "metadata": {
      "needs_background": "light"
     },
     "output_type": "display_data"
    }
   ],
   "source": [
    "seaborn.violinplot(x='interest_level', y='feature_len', data=data)"
   ]
  },
  {
   "cell_type": "code",
   "execution_count": 92,
   "metadata": {},
   "outputs": [
    {
     "data": {
      "text/plain": [
       "3     6211\n",
       "4     5459\n",
       "2     4938\n",
       "5     4547\n",
       "1     4340\n",
       "6     3835\n",
       "7     3374\n",
       "0     3218\n",
       "8     2840\n",
       "9     2453\n",
       "10    2217\n",
       "11    1681\n",
       "12    1377\n",
       "13    1009\n",
       "14     737\n",
       "15     456\n",
       "16     283\n",
       "17     161\n",
       "18      89\n",
       "19      45\n",
       "20      24\n",
       "21      14\n",
       "22      13\n",
       "26       8\n",
       "23       6\n",
       "24       5\n",
       "28       3\n",
       "27       3\n",
       "25       2\n",
       "39       1\n",
       "36       1\n",
       "32       1\n",
       "31       1\n",
       "Name: feature_len, dtype: int64"
      ]
     },
     "execution_count": 92,
     "metadata": {},
     "output_type": "execute_result"
    }
   ],
   "source": [
    "data.feature_len.value_counts()"
   ]
  },
  {
   "cell_type": "code",
   "execution_count": null,
   "metadata": {},
   "outputs": [],
   "source": []
  },
  {
   "cell_type": "code",
   "execution_count": 256,
   "metadata": {},
   "outputs": [
    {
     "data": {
      "text/html": [
       "<div>\n",
       "<style scoped>\n",
       "    .dataframe tbody tr th:only-of-type {\n",
       "        vertical-align: middle;\n",
       "    }\n",
       "\n",
       "    .dataframe tbody tr th {\n",
       "        vertical-align: top;\n",
       "    }\n",
       "\n",
       "    .dataframe thead th {\n",
       "        text-align: right;\n",
       "    }\n",
       "</style>\n",
       "<table border=\"1\" class=\"dataframe\">\n",
       "  <thead>\n",
       "    <tr style=\"text-align: right;\">\n",
       "      <th></th>\n",
       "      <th>bathrooms</th>\n",
       "      <th>bedrooms</th>\n",
       "      <th>building_id</th>\n",
       "      <th>created</th>\n",
       "      <th>description</th>\n",
       "      <th>display_address</th>\n",
       "      <th>features</th>\n",
       "      <th>latitude</th>\n",
       "      <th>listing_id</th>\n",
       "      <th>longitude</th>\n",
       "      <th>...</th>\n",
       "      <th>photos</th>\n",
       "      <th>price</th>\n",
       "      <th>street_address</th>\n",
       "      <th>interest_level</th>\n",
       "      <th>feature_len</th>\n",
       "      <th>pet_friendly</th>\n",
       "      <th>amenities</th>\n",
       "      <th>fitness</th>\n",
       "      <th>pool</th>\n",
       "      <th>accessability</th>\n",
       "    </tr>\n",
       "  </thead>\n",
       "  <tbody>\n",
       "    <tr>\n",
       "      <th>4</th>\n",
       "      <td>1.0</td>\n",
       "      <td>1</td>\n",
       "      <td>8579a0b0d54db803821a35a4a615e97a</td>\n",
       "      <td>2016-06-16 05:55:27</td>\n",
       "      <td>Spacious 1 Bedroom 1 Bathroom in Williamsburg!...</td>\n",
       "      <td>145 Borinquen Place</td>\n",
       "      <td>[Dining Room, Pre-War, Laundry in Building, Di...</td>\n",
       "      <td>40.7108</td>\n",
       "      <td>7170325</td>\n",
       "      <td>-73.9539</td>\n",
       "      <td>...</td>\n",
       "      <td>[https://photos.renthop.com/2/7170325_3bb5ac84...</td>\n",
       "      <td>2400</td>\n",
       "      <td>145 Borinquen Place</td>\n",
       "      <td>medium</td>\n",
       "      <td>7</td>\n",
       "      <td>True</td>\n",
       "      <td>True</td>\n",
       "      <td>False</td>\n",
       "      <td>False</td>\n",
       "      <td>False</td>\n",
       "    </tr>\n",
       "  </tbody>\n",
       "</table>\n",
       "<p>1 rows × 21 columns</p>\n",
       "</div>"
      ],
      "text/plain": [
       "   bathrooms  bedrooms                       building_id              created  \\\n",
       "4        1.0         1  8579a0b0d54db803821a35a4a615e97a  2016-06-16 05:55:27   \n",
       "\n",
       "                                         description      display_address  \\\n",
       "4  Spacious 1 Bedroom 1 Bathroom in Williamsburg!...  145 Borinquen Place   \n",
       "\n",
       "                                            features  latitude  listing_id  \\\n",
       "4  [Dining Room, Pre-War, Laundry in Building, Di...   40.7108     7170325   \n",
       "\n",
       "   longitude  ...                                             photos price  \\\n",
       "4   -73.9539  ...  [https://photos.renthop.com/2/7170325_3bb5ac84...  2400   \n",
       "\n",
       "        street_address interest_level feature_len  pet_friendly  amenities  \\\n",
       "4  145 Borinquen Place         medium           7          True       True   \n",
       "\n",
       "   fitness   pool  accessability  \n",
       "4    False  False          False  \n",
       "\n",
       "[1 rows x 21 columns]"
      ]
     },
     "execution_count": 256,
     "metadata": {},
     "output_type": "execute_result"
    }
   ],
   "source": [
    "data.head(1)"
   ]
  },
  {
   "cell_type": "code",
   "execution_count": 146,
   "metadata": {},
   "outputs": [
    {
     "name": "stdout",
     "output_type": "stream",
     "text": [
      "dining room\n",
      "pre-war\n",
      "laundry in building\n",
      "dishwasher\n",
      "hardwood floors\n",
      "dogs allowed\n",
      "cats allowed\n"
     ]
    }
   ],
   "source": [
    "for word in data.features[4]:\n",
    "    print(word.lower())"
   ]
  },
  {
   "cell_type": "code",
   "execution_count": 26,
   "metadata": {},
   "outputs": [],
   "source": [
    "def extractFeature(name, df, series, array):\n",
    "    feature = pandas.Series(False, df.index, name=name)\n",
    "    for row, word in enumerate(series):\n",
    "        for item in array:\n",
    "            if item in word:\n",
    "                feature.iloc[row] = True\n",
    "    df[name] = feature\n",
    "    return(df)\n",
    "\n",
    "# data['elevator']"
   ]
  },
  {
   "cell_type": "code",
   "execution_count": 27,
   "metadata": {},
   "outputs": [],
   "source": [
    "pet_friendly = ['Cats Allowed', 'Dogs Allowed']\n",
    "\n",
    "data = extractFeature('pet_friendly', data, data.features, pet_friendly)\n"
   ]
  },
  {
   "cell_type": "code",
   "execution_count": 28,
   "metadata": {},
   "outputs": [],
   "source": [
    "amenities = ['Dishwasher', 'Laundry', 'Washer', 'Dryer']\n",
    "\n",
    "data = extractFeature('amenities', data, data.features, amenities)"
   ]
  },
  {
   "cell_type": "code",
   "execution_count": 29,
   "metadata": {},
   "outputs": [],
   "source": [
    "fitness = ['Fitness Center']\n",
    "\n",
    "data = extractFeature('fitness', data, data.features, fitness)"
   ]
  },
  {
   "cell_type": "code",
   "execution_count": 30,
   "metadata": {},
   "outputs": [],
   "source": [
    "pool = ['Pool', 'Swimming Pool']\n",
    "\n",
    "data = extractFeature('pool', data, data.features, pool)"
   ]
  },
  {
   "cell_type": "code",
   "execution_count": 31,
   "metadata": {},
   "outputs": [],
   "source": [
    "# should we include doorman for accessability??\n",
    "accessability = ['Elevator', 'Doorman']\n",
    "\n",
    "data = extractFeature('accessability', data, data.features, accessability)"
   ]
  },
  {
   "cell_type": "code",
   "execution_count": 40,
   "metadata": {},
   "outputs": [],
   "source": [
    "pre_war = ['Pre-War', 'pre-war', 'prewar', 'Prewar']\n",
    "\n",
    "data = extractFeature('pre_war', data, data.features, pre_war)"
   ]
  },
  {
   "cell_type": "code",
   "execution_count": 262,
   "metadata": {},
   "outputs": [
    {
     "data": {
      "text/plain": [
       "True     28367\n",
       "False    20985\n",
       "Name: accessability, dtype: int64"
      ]
     },
     "execution_count": 262,
     "metadata": {},
     "output_type": "execute_result"
    }
   ],
   "source": [
    "data.accessability.value_counts()"
   ]
  },
  {
   "cell_type": "code",
   "execution_count": 263,
   "metadata": {},
   "outputs": [
    {
     "data": {
      "text/plain": [
       "False    25776\n",
       "True     23576\n",
       "Name: pet_friendly, dtype: int64"
      ]
     },
     "execution_count": 263,
     "metadata": {},
     "output_type": "execute_result"
    }
   ],
   "source": [
    "data.pet_friendly.value_counts()"
   ]
  },
  {
   "cell_type": "code",
   "execution_count": 264,
   "metadata": {},
   "outputs": [
    {
     "data": {
      "text/plain": [
       "False    28908\n",
       "True     20444\n",
       "Name: amenities, dtype: int64"
      ]
     },
     "execution_count": 264,
     "metadata": {},
     "output_type": "execute_result"
    }
   ],
   "source": [
    "data.amenities.value_counts()"
   ]
  },
  {
   "cell_type": "code",
   "execution_count": 265,
   "metadata": {},
   "outputs": [
    {
     "data": {
      "text/plain": [
       "False    36100\n",
       "True     13252\n",
       "Name: fitness, dtype: int64"
      ]
     },
     "execution_count": 265,
     "metadata": {},
     "output_type": "execute_result"
    }
   ],
   "source": [
    "data.fitness.value_counts()"
   ]
  },
  {
   "cell_type": "code",
   "execution_count": 266,
   "metadata": {},
   "outputs": [
    {
     "data": {
      "text/plain": [
       "False    46340\n",
       "True      3012\n",
       "Name: pool, dtype: int64"
      ]
     },
     "execution_count": 266,
     "metadata": {},
     "output_type": "execute_result"
    }
   ],
   "source": [
    "data.pool.value_counts()"
   ]
  },
  {
   "cell_type": "code",
   "execution_count": 267,
   "metadata": {},
   "outputs": [],
   "source": [
    "interest_pet_amenities = []\n",
    "for index, row in data.iterrows(): \n",
    "    if (data.amenities[index] and data.pet_friendly[index]):\n",
    "        interest_pet_amenities.append(data.interest_level[index])\n",
    "#         print(index, data.interest_level[index])"
   ]
  },
  {
   "cell_type": "markdown",
   "metadata": {},
   "source": [
    "# Interest levels when rental property has amenities & is pet friendly\n",
    "# seems like the ratio between medium interest & low interest is better with these add ons"
   ]
  },
  {
   "cell_type": "code",
   "execution_count": 268,
   "metadata": {},
   "outputs": [
    {
     "data": {
      "image/png": "[encoded data removed]",
      "text/plain": [
       "<Figure size 432x288 with 1 Axes>"
      ]
     },
     "metadata": {
      "needs_background": "light"
     },
     "output_type": "display_data"
    }
   ],
   "source": [
    "plt.hist(interest_pet_amenities)\n",
    "plt.show()"
   ]
  },
  {
   "cell_type": "code",
   "execution_count": 270,
   "metadata": {},
   "outputs": [
    {
     "data": {
      "image/png": "[encoded data removed]",
      "text/plain": [
       "<Figure size 432x288 with 1 Axes>"
      ]
     },
     "metadata": {
      "needs_background": "light"
     },
     "output_type": "display_data"
    }
   ],
   "source": [
    "# Raw data\n",
    "plt.hist(data.interest_level)\n",
    "plt.show()"
   ]
  },
  {
   "cell_type": "code",
   "execution_count": 271,
   "metadata": {},
   "outputs": [],
   "source": [
    "interest_access = []\n",
    "for index, row in data.iterrows(): \n",
    "    if (data.accessability[index]):\n",
    "        interest_access.append(data.interest_level[index])\n"
   ]
  },
  {
   "cell_type": "markdown",
   "metadata": {},
   "source": [
    "# rental property that is accessable (doorman, elevator)"
   ]
  },
  {
   "cell_type": "code",
   "execution_count": 272,
   "metadata": {},
   "outputs": [
    {
     "data": {
      "image/png": "[encoded data removed]",
      "text/plain": [
       "<Figure size 432x288 with 1 Axes>"
      ]
     },
     "metadata": {
      "needs_background": "light"
     },
     "output_type": "display_data"
    }
   ],
   "source": [
    "plt.hist(interest_access)\n",
    "plt.show()"
   ]
  },
  {
   "cell_type": "markdown",
   "metadata": {},
   "source": [
    "# rental propert that is accessible, has fitness, pet friendly, pool, "
   ]
  },
  {
   "cell_type": "code",
   "execution_count": 273,
   "metadata": {},
   "outputs": [],
   "source": [
    "interest_everything = []\n",
    "for index, row in data.iterrows(): \n",
    "    if (data.amenities[index] and data.pet_friendly[index] and data.accessability[index] and data.pool[index] and data.fitness[index]):\n",
    "        interest_everything.append(data.interest_level[index])\n"
   ]
  },
  {
   "cell_type": "code",
   "execution_count": 276,
   "metadata": {},
   "outputs": [
    {
     "name": "stdout",
     "output_type": "stream",
     "text": [
      "1160\n"
     ]
    },
    {
     "data": {
      "image/png": "[encoded data removed]",
      "text/plain": [
       "<Figure size 432x288 with 1 Axes>"
      ]
     },
     "metadata": {
      "needs_background": "light"
     },
     "output_type": "display_data"
    }
   ],
   "source": [
    "print(len(interest_everything))\n",
    "plt.hist(interest_everything)\n",
    "plt.show()"
   ]
  },
  {
   "cell_type": "code",
   "execution_count": 255,
   "metadata": {},
   "outputs": [
    {
     "name": "stdout",
     "output_type": "stream",
     "text": [
      "low       34284\n",
      "medium    11229\n",
      "high       3839\n",
      "Name: interest_level, dtype: int64\n"
     ]
    }
   ],
   "source": [
    "# plt.hist(interestAccess)\n",
    "# plt.show()\n",
    "print(data.interest_level.value_counts())\n",
    "# print(data.interest_level.count('medium'))\n",
    "# print(data.interest_level.count('high'))"
   ]
  },
  {
   "cell_type": "code",
   "execution_count": 277,
   "metadata": {},
   "outputs": [
    {
     "data": {
      "text/html": [
       "<div>\n",
       "<style scoped>\n",
       "    .dataframe tbody tr th:only-of-type {\n",
       "        vertical-align: middle;\n",
       "    }\n",
       "\n",
       "    .dataframe tbody tr th {\n",
       "        vertical-align: top;\n",
       "    }\n",
       "\n",
       "    .dataframe thead th {\n",
       "        text-align: right;\n",
       "    }\n",
       "</style>\n",
       "<table border=\"1\" class=\"dataframe\">\n",
       "  <thead>\n",
       "    <tr style=\"text-align: right;\">\n",
       "      <th></th>\n",
       "      <th>bathrooms</th>\n",
       "      <th>bedrooms</th>\n",
       "      <th>building_id</th>\n",
       "      <th>created</th>\n",
       "      <th>description</th>\n",
       "      <th>display_address</th>\n",
       "      <th>features</th>\n",
       "      <th>latitude</th>\n",
       "      <th>listing_id</th>\n",
       "      <th>longitude</th>\n",
       "      <th>...</th>\n",
       "      <th>photos</th>\n",
       "      <th>price</th>\n",
       "      <th>street_address</th>\n",
       "      <th>interest_level</th>\n",
       "      <th>feature_len</th>\n",
       "      <th>pet_friendly</th>\n",
       "      <th>amenities</th>\n",
       "      <th>fitness</th>\n",
       "      <th>pool</th>\n",
       "      <th>accessability</th>\n",
       "    </tr>\n",
       "  </thead>\n",
       "  <tbody>\n",
       "    <tr>\n",
       "      <th>4</th>\n",
       "      <td>1.0</td>\n",
       "      <td>1</td>\n",
       "      <td>8579a0b0d54db803821a35a4a615e97a</td>\n",
       "      <td>2016-06-16 05:55:27</td>\n",
       "      <td>Spacious 1 Bedroom 1 Bathroom in Williamsburg!...</td>\n",
       "      <td>145 Borinquen Place</td>\n",
       "      <td>[Dining Room, Pre-War, Laundry in Building, Di...</td>\n",
       "      <td>40.7108</td>\n",
       "      <td>7170325</td>\n",
       "      <td>-73.9539</td>\n",
       "      <td>...</td>\n",
       "      <td>[https://photos.renthop.com/2/7170325_3bb5ac84...</td>\n",
       "      <td>2400</td>\n",
       "      <td>145 Borinquen Place</td>\n",
       "      <td>medium</td>\n",
       "      <td>7</td>\n",
       "      <td>True</td>\n",
       "      <td>True</td>\n",
       "      <td>False</td>\n",
       "      <td>False</td>\n",
       "      <td>False</td>\n",
       "    </tr>\n",
       "  </tbody>\n",
       "</table>\n",
       "<p>1 rows × 21 columns</p>\n",
       "</div>"
      ],
      "text/plain": [
       "   bathrooms  bedrooms                       building_id              created  \\\n",
       "4        1.0         1  8579a0b0d54db803821a35a4a615e97a  2016-06-16 05:55:27   \n",
       "\n",
       "                                         description      display_address  \\\n",
       "4  Spacious 1 Bedroom 1 Bathroom in Williamsburg!...  145 Borinquen Place   \n",
       "\n",
       "                                            features  latitude  listing_id  \\\n",
       "4  [Dining Room, Pre-War, Laundry in Building, Di...   40.7108     7170325   \n",
       "\n",
       "   longitude  ...                                             photos price  \\\n",
       "4   -73.9539  ...  [https://photos.renthop.com/2/7170325_3bb5ac84...  2400   \n",
       "\n",
       "        street_address interest_level feature_len  pet_friendly  amenities  \\\n",
       "4  145 Borinquen Place         medium           7          True       True   \n",
       "\n",
       "   fitness   pool  accessability  \n",
       "4    False  False          False  \n",
       "\n",
       "[1 rows x 21 columns]"
      ]
     },
     "execution_count": 277,
     "metadata": {},
     "output_type": "execute_result"
    }
   ],
   "source": [
    "data.head(1)"
   ]
  },
  {
   "cell_type": "code",
   "execution_count": 161,
   "metadata": {},
   "outputs": [
    {
     "data": {
      "text/html": [
       "<div>\n",
       "<style scoped>\n",
       "    .dataframe tbody tr th:only-of-type {\n",
       "        vertical-align: middle;\n",
       "    }\n",
       "\n",
       "    .dataframe tbody tr th {\n",
       "        vertical-align: top;\n",
       "    }\n",
       "\n",
       "    .dataframe thead th {\n",
       "        text-align: right;\n",
       "    }\n",
       "</style>\n",
       "<table border=\"1\" class=\"dataframe\">\n",
       "  <thead>\n",
       "    <tr style=\"text-align: right;\">\n",
       "      <th></th>\n",
       "      <th>bathrooms</th>\n",
       "      <th>bedrooms</th>\n",
       "      <th>building_id</th>\n",
       "      <th>created</th>\n",
       "      <th>description</th>\n",
       "      <th>display_address</th>\n",
       "      <th>features</th>\n",
       "      <th>latitude</th>\n",
       "      <th>listing_id</th>\n",
       "      <th>longitude</th>\n",
       "      <th>manager_id</th>\n",
       "      <th>photos</th>\n",
       "      <th>price</th>\n",
       "      <th>street_address</th>\n",
       "      <th>interest_level</th>\n",
       "      <th>feature_len</th>\n",
       "    </tr>\n",
       "  </thead>\n",
       "  <tbody>\n",
       "    <tr>\n",
       "      <th>4</th>\n",
       "      <td>1.0</td>\n",
       "      <td>1</td>\n",
       "      <td>8579a0b0d54db803821a35a4a615e97a</td>\n",
       "      <td>2016-06-16 05:55:27</td>\n",
       "      <td>Spacious 1 Bedroom 1 Bathroom in Williamsburg!...</td>\n",
       "      <td>145 Borinquen Place</td>\n",
       "      <td>[Dining Room, Pre-War, Laundry in Building, Di...</td>\n",
       "      <td>40.7108</td>\n",
       "      <td>7170325</td>\n",
       "      <td>-73.9539</td>\n",
       "      <td>a10db4590843d78c784171a107bdacb4</td>\n",
       "      <td>[https://photos.renthop.com/2/7170325_3bb5ac84...</td>\n",
       "      <td>2400</td>\n",
       "      <td>145 Borinquen Place</td>\n",
       "      <td>medium</td>\n",
       "      <td>7</td>\n",
       "    </tr>\n",
       "  </tbody>\n",
       "</table>\n",
       "</div>"
      ],
      "text/plain": [
       "   bathrooms  bedrooms                       building_id              created  \\\n",
       "4        1.0         1  8579a0b0d54db803821a35a4a615e97a  2016-06-16 05:55:27   \n",
       "\n",
       "                                         description      display_address  \\\n",
       "4  Spacious 1 Bedroom 1 Bathroom in Williamsburg!...  145 Borinquen Place   \n",
       "\n",
       "                                            features  latitude  listing_id  \\\n",
       "4  [Dining Room, Pre-War, Laundry in Building, Di...   40.7108     7170325   \n",
       "\n",
       "   longitude                        manager_id  \\\n",
       "4   -73.9539  a10db4590843d78c784171a107bdacb4   \n",
       "\n",
       "                                              photos  price  \\\n",
       "4  [https://photos.renthop.com/2/7170325_3bb5ac84...   2400   \n",
       "\n",
       "        street_address interest_level  feature_len  \n",
       "4  145 Borinquen Place         medium            7  "
      ]
     },
     "execution_count": 161,
     "metadata": {},
     "output_type": "execute_result"
    }
   ],
   "source": [
    "data['feature_len'] = data.features.apply(len)\n",
    "data.head(1)"
   ]
  },
  {
   "cell_type": "code",
   "execution_count": 32,
   "metadata": {},
   "outputs": [
    {
     "name": "stdout",
     "output_type": "stream",
     "text": [
      "<class 'pandas.core.frame.DataFrame'>\n",
      "Int64Index: 49352 entries, 4 to 124009\n",
      "Data columns (total 20 columns):\n",
      " #   Column           Non-Null Count  Dtype  \n",
      "---  ------           --------------  -----  \n",
      " 0   bathrooms        49352 non-null  float64\n",
      " 1   bedrooms         49352 non-null  int64  \n",
      " 2   building_id      49352 non-null  object \n",
      " 3   created          49352 non-null  object \n",
      " 4   description      49352 non-null  object \n",
      " 5   display_address  49352 non-null  object \n",
      " 6   features         49352 non-null  object \n",
      " 7   latitude         49352 non-null  float64\n",
      " 8   listing_id       49352 non-null  int64  \n",
      " 9   longitude        49352 non-null  float64\n",
      " 10  manager_id       49352 non-null  object \n",
      " 11  photos           49352 non-null  object \n",
      " 12  price            49352 non-null  int64  \n",
      " 13  street_address   49352 non-null  object \n",
      " 14  interest_level   49352 non-null  object \n",
      " 15  pet_friendly     49352 non-null  bool   \n",
      " 16  amenities        49352 non-null  bool   \n",
      " 17  fitness          49352 non-null  bool   \n",
      " 18  pool             49352 non-null  bool   \n",
      " 19  accessability    49352 non-null  bool   \n",
      "dtypes: bool(5), float64(3), int64(3), object(9)\n",
      "memory usage: 6.3+ MB\n"
     ]
    }
   ],
   "source": [
    "data.info()"
   ]
  },
  {
   "cell_type": "code",
   "execution_count": 20,
   "metadata": {},
   "outputs": [
    {
     "data": {
      "text/plain": [
       "1.0     26581\n",
       "2.0      5566\n",
       "3.0       671\n",
       "1.5       605\n",
       "0.0       306\n",
       "2.5       274\n",
       "4.0       150\n",
       "3.5        70\n",
       "4.5        29\n",
       "5.0        20\n",
       "5.5         5\n",
       "6.0         4\n",
       "10.0        1\n",
       "6.5         1\n",
       "7.0         1\n",
       "Name: bathrooms, dtype: int64"
      ]
     },
     "execution_count": 20,
     "metadata": {},
     "output_type": "execute_result"
    }
   ],
   "source": [
    "low_int = data[data['interest_level'] == 'low']['bathrooms'].value_counts()\n",
    "low_int"
   ]
  },
  {
   "cell_type": "markdown",
   "metadata": {},
   "source": [
    "# Box chart for categorical features\n"
   ]
  },
  {
   "cell_type": "code",
   "execution_count": 22,
   "metadata": {},
   "outputs": [],
   "source": [
    "def bar_chart(feature):\n",
    "    low_int = data[data['interest_level'] == 'low'][feature].value_counts()\n",
    "    med_int = data[data['interest_level'] == 'medium'][feature].value_counts()\n",
    "    high_int = data[data['interest_level'] == 'high'][feature].value_counts()\n",
    "    df = pandas.DataFrame([low_int, med_int, high_int])\n",
    "    df.index = ['low','medium','high']\n",
    "    df.plot(kind='bar', stacked = True, figsize=(10,5))"
   ]
  },
  {
   "cell_type": "code",
   "execution_count": 34,
   "metadata": {},
   "outputs": [
    {
     "data": {
      "image/png": "[encoded data removed]",
      "text/plain": [
       "<Figure size 720x360 with 1 Axes>"
      ]
     },
     "metadata": {
      "needs_background": "light"
     },
     "output_type": "display_data"
    }
   ],
   "source": [
    "bar_chart('fitness')"
   ]
  },
  {
   "cell_type": "markdown",
   "metadata": {},
   "source": [
    "# Pet-Friendly generates a lot of low and medium level interest"
   ]
  },
  {
   "cell_type": "code",
   "execution_count": 35,
   "metadata": {},
   "outputs": [
    {
     "data": {
      "image/png": "[encoded data removed]",
      "text/plain": [
       "<Figure size 720x360 with 1 Axes>"
      ]
     },
     "metadata": {
      "needs_background": "light"
     },
     "output_type": "display_data"
    }
   ],
   "source": [
    "bar_chart('pet_friendly')"
   ]
  },
  {
   "cell_type": "markdown",
   "metadata": {},
   "source": [
    "# Almost half of medium and 35-40% of high level interest postings have amenities!!"
   ]
  },
  {
   "cell_type": "code",
   "execution_count": 37,
   "metadata": {},
   "outputs": [
    {
     "data": {
      "image/png": "[encoded data removed]",
      "text/plain": [
       "<Figure size 720x360 with 1 Axes>"
      ]
     },
     "metadata": {
      "needs_background": "light"
     },
     "output_type": "display_data"
    }
   ],
   "source": [
    "bar_chart('amenities')"
   ]
  },
  {
   "cell_type": "code",
   "execution_count": 38,
   "metadata": {},
   "outputs": [
    {
     "data": {
      "image/png": "[encoded data removed]",
      "text/plain": [
       "<Figure size 720x360 with 1 Axes>"
      ]
     },
     "metadata": {
      "needs_background": "light"
     },
     "output_type": "display_data"
    }
   ],
   "source": [
    "bar_chart('pool')"
   ]
  },
  {
   "cell_type": "markdown",
   "metadata": {},
   "source": [
    "# Accessability generates tons of low level interest and half of high level interest!!"
   ]
  },
  {
   "cell_type": "markdown",
   "metadata": {},
   "source": [
    "Accessability is defined as having access to elevator, and doorman.. it makes sense most apartments would have an elevator"
   ]
  },
  {
   "cell_type": "code",
   "execution_count": 39,
   "metadata": {},
   "outputs": [
    {
     "data": {
      "image/png": "[encoded data removed]",
      "text/plain": [
       "<Figure size 720x360 with 1 Axes>"
      ]
     },
     "metadata": {
      "needs_background": "light"
     },
     "output_type": "display_data"
    }
   ],
   "source": [
    "bar_chart('accessability')"
   ]
  },
  {
   "cell_type": "markdown",
   "metadata": {},
   "source": [
    "# Pre-war does not generate a lot of interest it seems"
   ]
  },
  {
   "cell_type": "markdown",
   "metadata": {},
   "source": [
    "Pre-war means that the building was built before the war"
   ]
  },
  {
   "cell_type": "code",
   "execution_count": 41,
   "metadata": {},
   "outputs": [
    {
     "data": {
      "image/png": "[encoded data removed]",
      "text/plain": [
       "<Figure size 720x360 with 1 Axes>"
      ]
     },
     "metadata": {
      "needs_background": "light"
     },
     "output_type": "display_data"
    }
   ],
   "source": [
    "bar_chart('pre_war')"
   ]
  },
  {
   "cell_type": "markdown",
   "metadata": {},
   "source": [
    "# TODO classify prices into ranges 2000->2500, 2501->3000, 3000->4000, etc. and then do barplot"
   ]
  },
  {
   "cell_type": "code",
   "execution_count": null,
   "metadata": {},
   "outputs": [],
   "source": []
  },
  {
   "cell_type": "code",
   "execution_count": null,
   "metadata": {},
   "outputs": [],
   "source": []
  },
  {
   "cell_type": "code",
   "execution_count": null,
   "metadata": {},
   "outputs": [],
   "source": []
  },
  {
   "cell_type": "code",
   "execution_count": null,
   "metadata": {},
   "outputs": [],
   "source": []
  },
  {
   "cell_type": "markdown",
   "metadata": {},
   "source": [
    "# Image Data Extraction"
   ]
  },
  {
   "cell_type": "markdown",
   "metadata": {},
   "source": [
    "Create dataframe with listing_id and RGB values "
   ]
  },
  {
   "cell_type": "code",
   "execution_count": null,
   "metadata": {},
   "outputs": [],
   "source": [
    "#Create dataframe with listing_id and RGB values\n",
    "rgbList = []\n",
    "for i in range(3):\n",
    "    for j in range(256):\n",
    "        key = str(i) + str(j)\n",
    "        rgbList += [key]\n",
    "rgbList += ['listing_id']\n",
    "rgbFrame = pandas.DataFrame(columns = rgbList)\n",
    "rgbFrame.set_index('listing_id')\n",
    "#print(rgbList)\n",
    "for i in range(len(ls)):\n",
    "    rgbFrame.loc[i] = [0]*768 + [ls[i]]\n",
    "print(rgbFrame.head())"
   ]
  },
  {
   "cell_type": "markdown",
   "metadata": {},
   "source": [
    "For each image corresponding to listing_ID update the RGB value in the rgbFrame"
   ]
  },
  {
   "cell_type": "code",
   "execution_count": null,
   "metadata": {},
   "outputs": [],
   "source": [
    "#For each image corresponding to listing_ID update the RGB value in the rgbFrame\n",
    "rootdir = r'C:\\Users\\HP\\Documents\\cmpt 459 Kaggle\\images_sample\\images_sample'\n",
    "\n",
    "for subdir, dirs, files in os.walk(rootdir):\n",
    "    for file in files:\n",
    "        print(os.path.join(subdir, file))\n",
    "        gray = cv2.imread(os.path.join(subdir, file),cv2.IMREAD_COLOR)\n",
    "        \n",
    "        for i in range(gray.shape[0]):\n",
    "            for j in range(gray.shape[1]):\n",
    "                count = 0\n",
    "                for x in np.nditer(gray[i][j]):\n",
    "                    \n",
    "                    key = str(count) + str(x)\n",
    "                    rgbFrame.at[(rgbFrame.index[rgbFrame['listing_id'] == int(subdir[-7:])])[0], key] += 1\n",
    "                    count = count + 1"
   ]
  },
  {
   "cell_type": "markdown",
   "metadata": {},
   "source": [
    "#Update the orginal dataframe with extracted data"
   ]
  },
  {
   "cell_type": "code",
   "execution_count": null,
   "metadata": {},
   "outputs": [],
   "source": [
    "#set index for the two dataframes and update from the second based on listing_id\n",
    "data_left = data.set_index('listing_id')\n",
    "rgb_right = rgbFrame.set_index('listing_id')\n",
    "\n",
    "data_left.update(rgb_right)\n",
    "data_left.reset_index(inplace=True)"
   ]
  },
  {
   "cell_type": "code",
   "execution_count": null,
   "metadata": {},
   "outputs": [],
   "source": [
    "#to view few of the rows after updating\n",
    "data_left[data_left['listing_id'].isin([6811957, 6812033])]"
   ]
  },
  {
   "cell_type": "code",
   "execution_count": null,
   "metadata": {},
   "outputs": [],
   "source": []
  },
  {
   "cell_type": "markdown",
   "metadata": {},
   "source": [
    "# Feature Data Extraction"
   ]
  },
  {
   "cell_type": "markdown",
   "metadata": {},
   "source": [
    "Find the unique features\n",
    "Note: \"features\" are not only predefined keywords. Many strings, delimitted by punctuation or space, are also in it."
   ]
  },
  {
   "cell_type": "code",
   "execution_count": null,
   "metadata": {},
   "outputs": [],
   "source": [
    "#To see the different unique features\n",
    "featureSet = set()\n",
    "for row in data.features:\n",
    "    for item in row:\n",
    "        featureSet.add(item.lower())\n",
    "print((list(featureSet)))"
   ]
  },
  {
   "cell_type": "markdown",
   "metadata": {},
   "source": [
    "Imports for text processing"
   ]
  },
  {
   "cell_type": "code",
   "execution_count": null,
   "metadata": {},
   "outputs": [],
   "source": [
    "#import nltk\n",
    "#nltk.download()\n",
    "from nltk.corpus import stopwords\n",
    "from nltk.tokenize import RegexpTokenizer\n",
    "from nltk.stem import WordNetLemmatizer\n",
    "from nltk.stem.porter import PorterStemmer"
   ]
  },
  {
   "cell_type": "markdown",
   "metadata": {},
   "source": [
    "Create string out of List:"
   ]
  },
  {
   "cell_type": "code",
   "execution_count": null,
   "metadata": {},
   "outputs": [],
   "source": [
    "def listToString(row):\n",
    "    my_string = ' '.join(row['features'])\n",
    "    return my_string\n",
    "\n",
    "data['featureString'] = data.apply (lambda row: listToString(row), axis=1)"
   ]
  },
  {
   "cell_type": "markdown",
   "metadata": {},
   "source": [
    "Scrub the strings:"
   ]
  },
  {
   "cell_type": "code",
   "execution_count": null,
   "metadata": {},
   "outputs": [],
   "source": [
    "#remove punctuation\n",
    "def noPunct(row):\n",
    "    noPunctuation = \"\".join([c for c in row['featureString'] if c not in string.punctuation])\n",
    "    return noPunctuation.lower()\n",
    "\n",
    "data['ScrubbedString'] = data.apply (lambda row: noPunct(row), axis=1)"
   ]
  },
  {
   "cell_type": "markdown",
   "metadata": {},
   "source": [
    "Tokenize the words"
   ]
  },
  {
   "cell_type": "code",
   "execution_count": null,
   "metadata": {},
   "outputs": [],
   "source": [
    "tokenizer = RegexpTokenizer(r'\\w+')    \n",
    "data['tokenizedWords'] = data['ScrubbedString'].apply (lambda x: tokenizer.tokenize(x))"
   ]
  },
  {
   "cell_type": "markdown",
   "metadata": {},
   "source": [
    "Remove Stopwords"
   ]
  },
  {
   "cell_type": "code",
   "execution_count": null,
   "metadata": {},
   "outputs": [],
   "source": [
    "def removStopwords(text):\n",
    "    words = [w for w in text if w not in stopwords.words('english')]\n",
    "    return words\n",
    "\n",
    "data['withoutStopwords'] = data['tokenizedWords'].apply(lambda x : removStopwords(x))"
   ]
  },
  {
   "cell_type": "markdown",
   "metadata": {},
   "source": [
    "Lemmatize the words:"
   ]
  },
  {
   "cell_type": "code",
   "execution_count": null,
   "metadata": {},
   "outputs": [],
   "source": [
    "lemmatizer = WordNetLemmatizer()\n",
    "\n",
    "def wordLemmatizer(text):\n",
    "    lemmatizedWord = [lemmatizer.lemmatize(i) for i in text]\n",
    "    return lemmatizedWord\n",
    "\n",
    "data['lemmatizedWords'] = data['withoutStopwords'].apply(lambda x : wordLemmatizer(x))"
   ]
  },
  {
   "cell_type": "markdown",
   "metadata": {},
   "source": [
    "Join the words to get a string:"
   ]
  },
  {
   "cell_type": "code",
   "execution_count": null,
   "metadata": {},
   "outputs": [],
   "source": [
    "def listToString(row):\n",
    "    my_string = ' '.join(row['lemmatizedWords'])\n",
    "    return my_string\n",
    "\n",
    "data['lemmatizedString'] = data.apply (lambda row: listToString(row), axis=1)"
   ]
  },
  {
   "cell_type": "code",
   "execution_count": null,
   "metadata": {},
   "outputs": [],
   "source": [
    "#Save json file\n",
    "#data.to_json(r'Path to be saved\\trainWithLemmatizedFeatures.json')"
   ]
  },
  {
   "cell_type": "markdown",
   "metadata": {},
   "source": [
    "# Description Stuff"
   ]
  },
  {
   "cell_type": "markdown",
   "metadata": {},
   "source": [
    "Repeat the process as done for \"features\""
   ]
  },
  {
   "cell_type": "code",
   "execution_count": null,
   "metadata": {},
   "outputs": [],
   "source": [
    "#remove punctuation\n",
    "def noPunct(row):\n",
    "    noPunctuation = \"\".join([c for c in row['description'] if c not in string.punctuation])\n",
    "    return noPunctuation.lower()\n",
    "\n",
    "data['descTokenizedStr'] = data.apply (lambda row: noPunct(row), axis=1)\n",
    "\n",
    "#tokenize\n",
    "tokenizer = RegexpTokenizer(r'\\w+')    \n",
    "data['descTokenizedStr'] = data['descTokenizedStr'].apply (lambda x: tokenizer.tokenize(x))\n",
    "\n",
    "#remove stopwords\n",
    "def removStopwords(text):\n",
    "    words = [w for w in text if w not in stopwords.words('english')]\n",
    "    return words\n",
    "\n",
    "data['descTokenizedStr'] = data['descTokenizedStr'].apply(lambda x : removStopwords(x))\n",
    "\n",
    "#lemmatize the words\n",
    "lemmatizer = WordNetLemmatizer()\n",
    "def wordLemmatizer(text):\n",
    "    lemmatizedWord = [lemmatizer.lemmatize(i) for i in text]\n",
    "    return lemmatizedWord\n",
    "\n",
    "data['descTokenizedStr'] = data['descTokenizedStr'].apply(lambda x : wordLemmatizer(x))\n",
    "\n",
    "#convert into string\n",
    "def listToString(row):\n",
    "    my_string = ' '.join(row['descTokenizedStr'])\n",
    "    return my_string\n",
    "\n",
    "data['descTokenizedStr'] = data.apply (lambda row: listToString(row), axis=1)\n",
    "\n",
    "#remove words not in dictionary\n",
    "words = set(nltk.corpus.words.words())\n",
    "def wordsInDict(text):\n",
    "    engText = \" \".join(w for w in nltk.wordpunct_tokenize(text) if w.lower() in words and len(w)>1)# or not w.isalpha())\n",
    "    return engText\n",
    "\n",
    "data['descEnglishTokenizedStr'] = data['descTokenizedStr'].apply(lambda x : wordsInDict(x))"
   ]
  },
  {
   "cell_type": "markdown",
   "metadata": {},
   "source": [
    "Remove non-english words"
   ]
  },
  {
   "cell_type": "code",
   "execution_count": null,
   "metadata": {},
   "outputs": [],
   "source": [
    "#Remove non-english words\n",
    "words = set(nltk.corpus.words.words())\n",
    "def wordsInDict(text):\n",
    "    engText = \" \".join(w for w in nltk.wordpunct_tokenize(text) if w.lower() in words and len(w)>1)# or not w.isalpha())\n",
    "    return engText\n",
    "    \n",
    "data['descEnglishTokenizedStr'] = data['descTokenizedStr'].apply(lambda x : wordsInDict(x))"
   ]
  },
  {
   "cell_type": "code",
   "execution_count": 1,
   "metadata": {},
   "outputs": [],
   "source": [
    "#Save json file\n",
    "#data.to_json(r'C:\\Users\\HP\\Documents\\cmpt 459 Kaggle\\two_sigma\\trainLemmatizedFeaturesAndDesc.json')"
   ]
  },
  {
   "cell_type": "code",
   "execution_count": null,
   "metadata": {},
   "outputs": [],
   "source": []
  }
 ],
 "metadata": {
  "kernelspec": {
   "display_name": "Python 3",
   "language": "python",
   "name": "python3"
  },
  "language_info": {
   "codemirror_mode": {
    "name": "ipython",
    "version": 3
   },
   "file_extension": ".py",
   "mimetype": "text/x-python",
   "name": "python",
   "nbconvert_exporter": "python",
   "pygments_lexer": "ipython3",
   "version": "3.7.6"
  }
 },
 "nbformat": 4,
 "nbformat_minor": 2
}
