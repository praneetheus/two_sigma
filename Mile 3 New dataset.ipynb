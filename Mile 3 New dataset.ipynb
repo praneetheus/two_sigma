{
 "cells": [
  {
   "cell_type": "code",
   "execution_count": 1,
   "metadata": {},
   "outputs": [
    {
     "name": "stdout",
     "output_type": "stream",
     "text": [
      "Populating the interactive namespace from numpy and matplotlib\n"
     ]
    }
   ],
   "source": [
    "%pylab inline\n",
    "import pandas as pd\n",
    "import seaborn\n",
    "import numpy as np\n",
    "import matplotlib.pyplot as plt\n",
    "import scipy\n",
    "import cv2\n",
    "import nltk\n",
    "import string\n",
    "from collections import defaultdict\n",
    "from collections import Counter\n",
    "from sklearn.feature_extraction.text import TfidfVectorizer\n",
    "from nltk.corpus import stopwords\n",
    "from nltk.tokenize import RegexpTokenizer\n",
    "from nltk.stem import WordNetLemmatizer\n",
    "from nltk.stem.porter import PorterStemmer\n",
    "from sklearn.ensemble import RandomForestClassifier\n",
    "from sklearn.svm import SVC\n",
    "from sklearn.model_selection import train_test_split\n",
    "from sklearn.metrics import log_loss\n",
    "import sys\n",
    "from sklearn.feature_selection import mutual_info_classif\n",
    "from sklearn.feature_selection import SelectKBest"
   ]
  },
  {
   "cell_type": "code",
   "execution_count": 2,
   "metadata": {},
   "outputs": [],
   "source": [
    "from sklearn.svm import LinearSVC\n",
    "from sklearn.linear_model import LogisticRegression\n",
    "from sklearn.preprocessing import StandardScaler\n",
    "from sklearn.pipeline import make_pipeline\n",
    "from sklearn.ensemble import StackingClassifier"
   ]
  },
  {
   "cell_type": "code",
   "execution_count": 3,
   "metadata": {},
   "outputs": [],
   "source": [
    "mile3_df = pd.read_json(r'C:\\Users\\HP\\Documents\\cmpt 459 Kaggle\\two_sigma\\final_train_df_m3.json')"
   ]
  },
  {
   "cell_type": "code",
   "execution_count": 4,
   "metadata": {},
   "outputs": [
    {
     "name": "stdout",
     "output_type": "stream",
     "text": [
      "<class 'pandas.core.frame.DataFrame'>\n",
      "Int64Index: 48329 entries, 0 to 48328\n",
      "Data columns (total 46 columns):\n",
      " #   Column             Non-Null Count  Dtype  \n",
      "---  ------             --------------  -----  \n",
      " 0   bathrooms          48329 non-null  float64\n",
      " 1   bedrooms           48329 non-null  int64  \n",
      " 2   building_id        48329 non-null  object \n",
      " 3   created            48329 non-null  object \n",
      " 4   description        48329 non-null  object \n",
      " 5   display_address    48329 non-null  object \n",
      " 6   features           48329 non-null  object \n",
      " 7   latitude           48329 non-null  float64\n",
      " 8   listing_id         48329 non-null  int64  \n",
      " 9   longitude          48329 non-null  float64\n",
      " 10  manager_id         48329 non-null  object \n",
      " 11  photos             48329 non-null  object \n",
      " 12  price              48329 non-null  int64  \n",
      " 13  street_address     48329 non-null  object \n",
      " 14  interest_level     48329 non-null  object \n",
      " 15  dt_distance        48329 non-null  float64\n",
      " 16  pet_policy         48329 non-null  int64  \n",
      " 17  listing_type       48329 non-null  int64  \n",
      " 18  unit_features      48329 non-null  int64  \n",
      " 19  building_features  48329 non-null  int64  \n",
      " 20  apartment          48329 non-null  float64\n",
      " 21  appliance          48329 non-null  float64\n",
      " 22  bathroom           48329 non-null  float64\n",
      " 23  bedroom            48329 non-null  float64\n",
      " 24  building           48329 non-null  float64\n",
      " 25  contact            48329 non-null  float64\n",
      " 26  floor              48329 non-null  float64\n",
      " 27  high               48329 non-null  float64\n",
      " 28  kitchen            48329 non-null  float64\n",
      " 29  room               48329 non-null  float64\n",
      " 30  mall_distance      48329 non-null  float64\n",
      " 31  created_hour       48329 non-null  int64  \n",
      " 32  created_month      48329 non-null  int64  \n",
      " 33  created_day        48329 non-null  int64  \n",
      " 34  num_photos         48329 non-null  int64  \n",
      " 35  description_len    48329 non-null  int64  \n",
      " 36  created_dt         48329 non-null  int64  \n",
      " 37  managerID_count    48329 non-null  int64  \n",
      " 38  buildingID_count   48329 non-null  int64  \n",
      " 39  weekends           48329 non-null  int64  \n",
      " 40  month_4            48329 non-null  int64  \n",
      " 41  month_5            48329 non-null  int64  \n",
      " 42  created_nights     48329 non-null  int64  \n",
      " 43  created_morning    48329 non-null  int64  \n",
      " 44  created_afternoon  48329 non-null  int64  \n",
      " 45  bed_bath_ratio     48329 non-null  float64\n",
      "dtypes: float64(16), int64(21), object(9)\n",
      "memory usage: 17.3+ MB\n"
     ]
    }
   ],
   "source": [
    "mile3_df.info()"
   ]
  },
  {
   "cell_type": "code",
   "execution_count": 13,
   "metadata": {},
   "outputs": [],
   "source": [
    "selected_feats = [\"bathrooms\", \"bedrooms\", \"latitude\", \"longitude\", \"price\", \"mall_distance\", \"dt_distance\",\n",
    "                  \"pet_policy\", \"listing_type\", \"unit_features\", \"building_features\", \"apartment\",\n",
    "                  \"appliance\", \"bathroom\", \"bedroom\", \"building\", \"contact\", \"floor\", \"high\", \"kitchen\", \"room\", \n",
    "                    \"num_photos\", \"description_len\",\n",
    "                 \"managerID_count\", \"buildingID_count\", \"weekends\", \"month_4\", \"month_5\", \"created_nights\",\n",
    "                 \"created_morning\", \"created_afternoon\", \"bed_bath_ratio\"]\n",
    "X = mile3_df[selected_feats]\n",
    "y = mile3_df[\"interest_level\"]"
   ]
  },
  {
   "cell_type": "code",
   "execution_count": 14,
   "metadata": {},
   "outputs": [],
   "source": [
    "estimators = [('rf', RandomForestClassifier(n_estimators=100, random_state=42)),\n",
    "             ('svr', make_pipeline(StandardScaler(),\n",
    "                               LinearSVC(random_state=42)))]\n",
    "clf = StackingClassifier(estimators=estimators, final_estimator=LogisticRegression())"
   ]
  },
  {
   "cell_type": "code",
   "execution_count": 15,
   "metadata": {},
   "outputs": [],
   "source": [
    "X_train, X_test, y_train, y_test = train_test_split(X, y, stratify=y, random_state=42)"
   ]
  },
  {
   "cell_type": "code",
   "execution_count": null,
   "metadata": {},
   "outputs": [
    {
     "name": "stderr",
     "output_type": "stream",
     "text": [
      "c:\\users\\hp\\appdata\\local\\programs\\python\\python37\\lib\\site-packages\\sklearn\\svm\\_base.py:947: ConvergenceWarning: Liblinear failed to converge, increase the number of iterations.\n",
      "  \"the number of iterations.\", ConvergenceWarning)\n",
      "c:\\users\\hp\\appdata\\local\\programs\\python\\python37\\lib\\site-packages\\sklearn\\svm\\_base.py:947: ConvergenceWarning: Liblinear failed to converge, increase the number of iterations.\n",
      "  \"the number of iterations.\", ConvergenceWarning)\n",
      "c:\\users\\hp\\appdata\\local\\programs\\python\\python37\\lib\\site-packages\\sklearn\\svm\\_base.py:947: ConvergenceWarning: Liblinear failed to converge, increase the number of iterations.\n",
      "  \"the number of iterations.\", ConvergenceWarning)\n"
     ]
    }
   ],
   "source": [
    "clf.fit(X_train, y_train).score(X_test, y_test)"
   ]
  },
  {
   "cell_type": "code",
   "execution_count": 9,
   "metadata": {},
   "outputs": [
    {
     "data": {
      "text/plain": [
       "0.6050516111078724"
      ]
     },
     "execution_count": 9,
     "metadata": {},
     "output_type": "execute_result"
    }
   ],
   "source": [
    "y_val_pred = clf.predict_proba(X_test)\n",
    "log_loss(y_test, y_val_pred)"
   ]
  },
  {
   "cell_type": "code",
   "execution_count": 10,
   "metadata": {},
   "outputs": [
    {
     "name": "stdout",
     "output_type": "stream",
     "text": [
      "(74659, 45)\n"
     ]
    }
   ],
   "source": [
    "df_test = pd.read_json(r'C:\\Users\\HP\\Documents\\cmpt 459 Kaggle\\two_sigma\\final_test_df_m3.json')\n",
    "print(df_test.shape)\n",
    "X = df_test[selected_feats]\n",
    "\n",
    "y = clf.predict_proba(X)"
   ]
  },
  {
   "cell_type": "code",
   "execution_count": 11,
   "metadata": {},
   "outputs": [],
   "source": [
    "labels2idx = {label: i for i, label in enumerate(clf.classes_)}"
   ]
  },
  {
   "cell_type": "code",
   "execution_count": 12,
   "metadata": {},
   "outputs": [],
   "source": [
    "sub = pd.DataFrame()\n",
    "sub[\"listing_id\"] = df_test[\"listing_id\"]\n",
    "for label in [\"high\", \"medium\", \"low\"]:\n",
    "    sub[label] = y[:, labels2idx[label]]\n",
    "sub.to_csv(\"submission_newdata_stack.csv\", index=False)"
   ]
  },
  {
   "cell_type": "code",
   "execution_count": null,
   "metadata": {},
   "outputs": [],
   "source": []
  }
 ],
 "metadata": {
  "kernelspec": {
   "display_name": "Python 3",
   "language": "python",
   "name": "python3"
  },
  "language_info": {
   "codemirror_mode": {
    "name": "ipython",
    "version": 3
   },
   "file_extension": ".py",
   "mimetype": "text/x-python",
   "name": "python",
   "nbconvert_exporter": "python",
   "pygments_lexer": "ipython3",
   "version": "3.7.6"
  }
 },
 "nbformat": 4,
 "nbformat_minor": 4
}
