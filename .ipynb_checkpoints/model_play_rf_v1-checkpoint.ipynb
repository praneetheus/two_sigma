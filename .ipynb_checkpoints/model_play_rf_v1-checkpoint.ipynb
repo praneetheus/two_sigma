{
 "cells": [
  {
   "cell_type": "code",
   "execution_count": 69,
   "metadata": {},
   "outputs": [
    {
     "name": "stdout",
     "output_type": "stream",
     "text": [
      "Populating the interactive namespace from numpy and matplotlib\n"
     ]
    },
    {
     "name": "stderr",
     "output_type": "stream",
     "text": [
      "C:\\ProgramData\\Anaconda3\\lib\\site-packages\\IPython\\core\\magics\\pylab.py:160: UserWarning: pylab import has clobbered these variables: ['unique']\n",
      "`%matplotlib` prevents importing * from pylab and numpy\n",
      "  \"\\n`%matplotlib` prevents importing * from pylab and numpy\"\n"
     ]
    }
   ],
   "source": [
    "%pylab inline\n",
    "import pandas as pd\n",
    "import seaborn\n",
    "import numpy as np\n",
    "import matplotlib.pyplot as plt\n",
    "import scipy\n",
    "from sklearn.metrics.pairwise import manhattan_distances"
   ]
  },
  {
   "cell_type": "code",
   "execution_count": 70,
   "metadata": {},
   "outputs": [],
   "source": [
    "import sys\n",
    "sys.path.append('/usr/local/lib/python3.7/site-packages')\n",
    "import cv2"
   ]
  },
  {
   "cell_type": "code",
   "execution_count": 71,
   "metadata": {},
   "outputs": [],
   "source": [
    "from sklearn.ensemble import RandomForestClassifier\n",
    "from sklearn.model_selection import train_test_split\n",
    "from sklearn.metrics import log_loss"
   ]
  },
  {
   "cell_type": "markdown",
   "metadata": {},
   "source": [
    "## TRAINING TIME!"
   ]
  },
  {
   "cell_type": "code",
   "execution_count": 72,
   "metadata": {
    "scrolled": true
   },
   "outputs": [],
   "source": [
    "# new_df.to_json('/Users/Home/Desktop/CMPT 459/MI2/train_fe.json')\n",
    "train_df = pd.read_json(r'C:\\Users\\Giovanni PC\\cmpt459\\data\\ml3\\final_train_df_m3.json')\n",
    "\n",
    "# new_df.to_json('/Users/Home/Desktop/CMPT 459/MI2/train_fe.json')\n",
    "test_df = pd.read_json(r'C:\\Users\\Giovanni PC\\cmpt459\\data\\final_test_df_m3.json')\n"
   ]
  },
  {
   "cell_type": "code",
   "execution_count": 26,
   "metadata": {},
   "outputs": [
    {
     "data": {
      "text/html": [
       "<div>\n",
       "<style scoped>\n",
       "    .dataframe tbody tr th:only-of-type {\n",
       "        vertical-align: middle;\n",
       "    }\n",
       "\n",
       "    .dataframe tbody tr th {\n",
       "        vertical-align: top;\n",
       "    }\n",
       "\n",
       "    .dataframe thead th {\n",
       "        text-align: right;\n",
       "    }\n",
       "</style>\n",
       "<table border=\"1\" class=\"dataframe\">\n",
       "  <thead>\n",
       "    <tr style=\"text-align: right;\">\n",
       "      <th></th>\n",
       "      <th>bathrooms</th>\n",
       "      <th>bedrooms</th>\n",
       "      <th>building_id</th>\n",
       "      <th>created</th>\n",
       "      <th>description</th>\n",
       "      <th>display_address</th>\n",
       "      <th>features</th>\n",
       "      <th>latitude</th>\n",
       "      <th>listing_id</th>\n",
       "      <th>longitude</th>\n",
       "      <th>...</th>\n",
       "      <th>created_dt</th>\n",
       "      <th>managerID_count</th>\n",
       "      <th>buildingID_count</th>\n",
       "      <th>weekends</th>\n",
       "      <th>month_4</th>\n",
       "      <th>month_5</th>\n",
       "      <th>created_nights</th>\n",
       "      <th>created_morning</th>\n",
       "      <th>created_afternoon</th>\n",
       "      <th>bed_bath_ratio</th>\n",
       "    </tr>\n",
       "  </thead>\n",
       "  <tbody>\n",
       "    <tr>\n",
       "      <td>0</td>\n",
       "      <td>1.0</td>\n",
       "      <td>1</td>\n",
       "      <td>8579a0b0d54db803821a35a4a615e97a</td>\n",
       "      <td>2016-06-16 05:55:27</td>\n",
       "      <td>Spacious 1 Bedroom 1 Bathroom in Williamsburg!...</td>\n",
       "      <td>145 Borinquen Place</td>\n",
       "      <td>[Dining Room, Pre-War, Laundry in Building, Di...</td>\n",
       "      <td>40.7108</td>\n",
       "      <td>7170325</td>\n",
       "      <td>-73.9539</td>\n",
       "      <td>...</td>\n",
       "      <td>1466056527000</td>\n",
       "      <td>107</td>\n",
       "      <td>5</td>\n",
       "      <td>0</td>\n",
       "      <td>0</td>\n",
       "      <td>0</td>\n",
       "      <td>1</td>\n",
       "      <td>0</td>\n",
       "      <td>0</td>\n",
       "      <td>1.0</td>\n",
       "    </tr>\n",
       "    <tr>\n",
       "      <td>1</td>\n",
       "      <td>1.0</td>\n",
       "      <td>2</td>\n",
       "      <td>b8e75fc949a6cd8225b455648a951712</td>\n",
       "      <td>2016-06-01 05:44:33</td>\n",
       "      <td>BRAND NEW GUT RENOVATED TRUE 2 BEDROOMFind you...</td>\n",
       "      <td>East 44th</td>\n",
       "      <td>[Doorman, Elevator, Laundry in Building, Dishw...</td>\n",
       "      <td>40.7513</td>\n",
       "      <td>7092344</td>\n",
       "      <td>-73.9722</td>\n",
       "      <td>...</td>\n",
       "      <td>1464759873000</td>\n",
       "      <td>26</td>\n",
       "      <td>51</td>\n",
       "      <td>0</td>\n",
       "      <td>0</td>\n",
       "      <td>0</td>\n",
       "      <td>1</td>\n",
       "      <td>0</td>\n",
       "      <td>0</td>\n",
       "      <td>2.0</td>\n",
       "    </tr>\n",
       "    <tr>\n",
       "      <td>2</td>\n",
       "      <td>1.0</td>\n",
       "      <td>2</td>\n",
       "      <td>cd759a988b8f23924b5a2058d5ab2b49</td>\n",
       "      <td>2016-06-14 15:19:59</td>\n",
       "      <td>**FLEX 2 BEDROOM WITH FULL PRESSURIZED WALL**L...</td>\n",
       "      <td>East 56th Street</td>\n",
       "      <td>[Doorman, Elevator, Laundry in Building, Laund...</td>\n",
       "      <td>40.7575</td>\n",
       "      <td>7158677</td>\n",
       "      <td>-73.9625</td>\n",
       "      <td>...</td>\n",
       "      <td>1465917599000</td>\n",
       "      <td>93</td>\n",
       "      <td>71</td>\n",
       "      <td>0</td>\n",
       "      <td>0</td>\n",
       "      <td>0</td>\n",
       "      <td>0</td>\n",
       "      <td>0</td>\n",
       "      <td>1</td>\n",
       "      <td>2.0</td>\n",
       "    </tr>\n",
       "    <tr>\n",
       "      <td>3</td>\n",
       "      <td>1.5</td>\n",
       "      <td>3</td>\n",
       "      <td>53a5b119ba8f7b61d4e010512e0dfc85</td>\n",
       "      <td>2016-06-24 07:54:24</td>\n",
       "      <td>A Brand New 3 Bedroom 1.5 bath ApartmentEnjoy ...</td>\n",
       "      <td>Metropolitan Avenue</td>\n",
       "      <td>[]</td>\n",
       "      <td>40.7145</td>\n",
       "      <td>7211212</td>\n",
       "      <td>-73.9425</td>\n",
       "      <td>...</td>\n",
       "      <td>1466754864000</td>\n",
       "      <td>90</td>\n",
       "      <td>3</td>\n",
       "      <td>1</td>\n",
       "      <td>0</td>\n",
       "      <td>0</td>\n",
       "      <td>0</td>\n",
       "      <td>1</td>\n",
       "      <td>0</td>\n",
       "      <td>2.0</td>\n",
       "    </tr>\n",
       "    <tr>\n",
       "      <td>4</td>\n",
       "      <td>1.0</td>\n",
       "      <td>0</td>\n",
       "      <td>bfb9405149bfff42a92980b594c28234</td>\n",
       "      <td>2016-06-28 03:50:23</td>\n",
       "      <td>Over-sized Studio w abundant closets. Availabl...</td>\n",
       "      <td>East 34th Street</td>\n",
       "      <td>[Doorman, Elevator, Fitness Center, Laundry in...</td>\n",
       "      <td>40.7439</td>\n",
       "      <td>7225292</td>\n",
       "      <td>-73.9743</td>\n",
       "      <td>...</td>\n",
       "      <td>1467085823000</td>\n",
       "      <td>55</td>\n",
       "      <td>86</td>\n",
       "      <td>0</td>\n",
       "      <td>0</td>\n",
       "      <td>0</td>\n",
       "      <td>1</td>\n",
       "      <td>0</td>\n",
       "      <td>0</td>\n",
       "      <td>0.0</td>\n",
       "    </tr>\n",
       "    <tr>\n",
       "      <td>...</td>\n",
       "      <td>...</td>\n",
       "      <td>...</td>\n",
       "      <td>...</td>\n",
       "      <td>...</td>\n",
       "      <td>...</td>\n",
       "      <td>...</td>\n",
       "      <td>...</td>\n",
       "      <td>...</td>\n",
       "      <td>...</td>\n",
       "      <td>...</td>\n",
       "      <td>...</td>\n",
       "      <td>...</td>\n",
       "      <td>...</td>\n",
       "      <td>...</td>\n",
       "      <td>...</td>\n",
       "      <td>...</td>\n",
       "      <td>...</td>\n",
       "      <td>...</td>\n",
       "      <td>...</td>\n",
       "      <td>...</td>\n",
       "      <td>...</td>\n",
       "    </tr>\n",
       "    <tr>\n",
       "      <td>48324</td>\n",
       "      <td>1.0</td>\n",
       "      <td>3</td>\n",
       "      <td>92bbbf38baadfde0576fc496bd41749c</td>\n",
       "      <td>2016-04-19 03:31:53</td>\n",
       "      <td>There is 700 square feet of recently renovated...</td>\n",
       "      <td>W 171 Street</td>\n",
       "      <td>[Elevator, Dishwasher, Hardwood Floors]</td>\n",
       "      <td>40.8433</td>\n",
       "      <td>6824800</td>\n",
       "      <td>-73.9396</td>\n",
       "      <td>...</td>\n",
       "      <td>1461036713000</td>\n",
       "      <td>10</td>\n",
       "      <td>5</td>\n",
       "      <td>0</td>\n",
       "      <td>1</td>\n",
       "      <td>0</td>\n",
       "      <td>1</td>\n",
       "      <td>0</td>\n",
       "      <td>0</td>\n",
       "      <td>3.0</td>\n",
       "    </tr>\n",
       "    <tr>\n",
       "      <td>48325</td>\n",
       "      <td>1.0</td>\n",
       "      <td>2</td>\n",
       "      <td>5565db9b7cba3603834c4aa6f2950960</td>\n",
       "      <td>2016-04-20 02:27:19</td>\n",
       "      <td>2 bedroom apartment with updated kitchen, rece...</td>\n",
       "      <td>Broadway</td>\n",
       "      <td>[Common Outdoor Space, Cats Allowed, Dogs Allo...</td>\n",
       "      <td>40.8198</td>\n",
       "      <td>6813268</td>\n",
       "      <td>-73.9578</td>\n",
       "      <td>...</td>\n",
       "      <td>1461119239000</td>\n",
       "      <td>14</td>\n",
       "      <td>126</td>\n",
       "      <td>0</td>\n",
       "      <td>1</td>\n",
       "      <td>0</td>\n",
       "      <td>1</td>\n",
       "      <td>0</td>\n",
       "      <td>0</td>\n",
       "      <td>2.0</td>\n",
       "    </tr>\n",
       "    <tr>\n",
       "      <td>48326</td>\n",
       "      <td>1.0</td>\n",
       "      <td>1</td>\n",
       "      <td>67997a128056ee1ed7d046bbb856e3c7</td>\n",
       "      <td>2016-04-02 03:03:42</td>\n",
       "      <td>No Brokers Fee * Never Lived 1 Bedroom 1 Bathr...</td>\n",
       "      <td>210 Brighton 15th St</td>\n",
       "      <td>[Dining Room, Elevator, Pre-War, Laundry in Bu...</td>\n",
       "      <td>40.5765</td>\n",
       "      <td>6927093</td>\n",
       "      <td>-73.9554</td>\n",
       "      <td>...</td>\n",
       "      <td>1459566222000</td>\n",
       "      <td>107</td>\n",
       "      <td>6</td>\n",
       "      <td>1</td>\n",
       "      <td>1</td>\n",
       "      <td>0</td>\n",
       "      <td>1</td>\n",
       "      <td>0</td>\n",
       "      <td>0</td>\n",
       "      <td>1.0</td>\n",
       "    </tr>\n",
       "    <tr>\n",
       "      <td>48327</td>\n",
       "      <td>1.0</td>\n",
       "      <td>2</td>\n",
       "      <td>3c0574a740154806c18bdf1fddd3d966</td>\n",
       "      <td>2016-04-06 18:15:06</td>\n",
       "      <td>Wonderful Bright Chelsea 2 Bedroom apartment o...</td>\n",
       "      <td>West 21st Street</td>\n",
       "      <td>[Pre-War, Laundry in Unit, Dishwasher, No Fee,...</td>\n",
       "      <td>40.7448</td>\n",
       "      <td>6892816</td>\n",
       "      <td>-74.0017</td>\n",
       "      <td>...</td>\n",
       "      <td>1459966506000</td>\n",
       "      <td>33</td>\n",
       "      <td>12</td>\n",
       "      <td>0</td>\n",
       "      <td>1</td>\n",
       "      <td>0</td>\n",
       "      <td>0</td>\n",
       "      <td>0</td>\n",
       "      <td>0</td>\n",
       "      <td>2.0</td>\n",
       "    </tr>\n",
       "    <tr>\n",
       "      <td>48328</td>\n",
       "      <td>1.0</td>\n",
       "      <td>3</td>\n",
       "      <td>d89f514c3ed0abaae52cba7017ac0701</td>\n",
       "      <td>2016-04-22 02:55:58</td>\n",
       "      <td>***PRIME MIDTOWN EAST OFF PARK AVE***TRUE 3 BE...</td>\n",
       "      <td>E 54th St</td>\n",
       "      <td>[Dining Room, Elevator, Laundry in Building, D...</td>\n",
       "      <td>40.7594</td>\n",
       "      <td>6901023</td>\n",
       "      <td>-73.9712</td>\n",
       "      <td>...</td>\n",
       "      <td>1461293758000</td>\n",
       "      <td>102</td>\n",
       "      <td>50</td>\n",
       "      <td>1</td>\n",
       "      <td>1</td>\n",
       "      <td>0</td>\n",
       "      <td>1</td>\n",
       "      <td>0</td>\n",
       "      <td>0</td>\n",
       "      <td>3.0</td>\n",
       "    </tr>\n",
       "  </tbody>\n",
       "</table>\n",
       "<p>48329 rows × 46 columns</p>\n",
       "</div>"
      ],
      "text/plain": [
       "       bathrooms  bedrooms                       building_id  \\\n",
       "0            1.0         1  8579a0b0d54db803821a35a4a615e97a   \n",
       "1            1.0         2  b8e75fc949a6cd8225b455648a951712   \n",
       "2            1.0         2  cd759a988b8f23924b5a2058d5ab2b49   \n",
       "3            1.5         3  53a5b119ba8f7b61d4e010512e0dfc85   \n",
       "4            1.0         0  bfb9405149bfff42a92980b594c28234   \n",
       "...          ...       ...                               ...   \n",
       "48324        1.0         3  92bbbf38baadfde0576fc496bd41749c   \n",
       "48325        1.0         2  5565db9b7cba3603834c4aa6f2950960   \n",
       "48326        1.0         1  67997a128056ee1ed7d046bbb856e3c7   \n",
       "48327        1.0         2  3c0574a740154806c18bdf1fddd3d966   \n",
       "48328        1.0         3  d89f514c3ed0abaae52cba7017ac0701   \n",
       "\n",
       "                   created                                        description  \\\n",
       "0      2016-06-16 05:55:27  Spacious 1 Bedroom 1 Bathroom in Williamsburg!...   \n",
       "1      2016-06-01 05:44:33  BRAND NEW GUT RENOVATED TRUE 2 BEDROOMFind you...   \n",
       "2      2016-06-14 15:19:59  **FLEX 2 BEDROOM WITH FULL PRESSURIZED WALL**L...   \n",
       "3      2016-06-24 07:54:24  A Brand New 3 Bedroom 1.5 bath ApartmentEnjoy ...   \n",
       "4      2016-06-28 03:50:23  Over-sized Studio w abundant closets. Availabl...   \n",
       "...                    ...                                                ...   \n",
       "48324  2016-04-19 03:31:53  There is 700 square feet of recently renovated...   \n",
       "48325  2016-04-20 02:27:19  2 bedroom apartment with updated kitchen, rece...   \n",
       "48326  2016-04-02 03:03:42  No Brokers Fee * Never Lived 1 Bedroom 1 Bathr...   \n",
       "48327  2016-04-06 18:15:06  Wonderful Bright Chelsea 2 Bedroom apartment o...   \n",
       "48328  2016-04-22 02:55:58  ***PRIME MIDTOWN EAST OFF PARK AVE***TRUE 3 BE...   \n",
       "\n",
       "            display_address  \\\n",
       "0       145 Borinquen Place   \n",
       "1                 East 44th   \n",
       "2          East 56th Street   \n",
       "3       Metropolitan Avenue   \n",
       "4          East 34th Street   \n",
       "...                     ...   \n",
       "48324          W 171 Street   \n",
       "48325              Broadway   \n",
       "48326  210 Brighton 15th St   \n",
       "48327      West 21st Street   \n",
       "48328             E 54th St   \n",
       "\n",
       "                                                features  latitude  \\\n",
       "0      [Dining Room, Pre-War, Laundry in Building, Di...   40.7108   \n",
       "1      [Doorman, Elevator, Laundry in Building, Dishw...   40.7513   \n",
       "2      [Doorman, Elevator, Laundry in Building, Laund...   40.7575   \n",
       "3                                                     []   40.7145   \n",
       "4      [Doorman, Elevator, Fitness Center, Laundry in...   40.7439   \n",
       "...                                                  ...       ...   \n",
       "48324            [Elevator, Dishwasher, Hardwood Floors]   40.8433   \n",
       "48325  [Common Outdoor Space, Cats Allowed, Dogs Allo...   40.8198   \n",
       "48326  [Dining Room, Elevator, Pre-War, Laundry in Bu...   40.5765   \n",
       "48327  [Pre-War, Laundry in Unit, Dishwasher, No Fee,...   40.7448   \n",
       "48328  [Dining Room, Elevator, Laundry in Building, D...   40.7594   \n",
       "\n",
       "       listing_id  longitude  ...     created_dt managerID_count  \\\n",
       "0         7170325   -73.9539  ...  1466056527000             107   \n",
       "1         7092344   -73.9722  ...  1464759873000              26   \n",
       "2         7158677   -73.9625  ...  1465917599000              93   \n",
       "3         7211212   -73.9425  ...  1466754864000              90   \n",
       "4         7225292   -73.9743  ...  1467085823000              55   \n",
       "...           ...        ...  ...            ...             ...   \n",
       "48324     6824800   -73.9396  ...  1461036713000              10   \n",
       "48325     6813268   -73.9578  ...  1461119239000              14   \n",
       "48326     6927093   -73.9554  ...  1459566222000             107   \n",
       "48327     6892816   -74.0017  ...  1459966506000              33   \n",
       "48328     6901023   -73.9712  ...  1461293758000             102   \n",
       "\n",
       "       buildingID_count weekends month_4  month_5  created_nights  \\\n",
       "0                     5        0       0        0               1   \n",
       "1                    51        0       0        0               1   \n",
       "2                    71        0       0        0               0   \n",
       "3                     3        1       0        0               0   \n",
       "4                    86        0       0        0               1   \n",
       "...                 ...      ...     ...      ...             ...   \n",
       "48324                 5        0       1        0               1   \n",
       "48325               126        0       1        0               1   \n",
       "48326                 6        1       1        0               1   \n",
       "48327                12        0       1        0               0   \n",
       "48328                50        1       1        0               1   \n",
       "\n",
       "       created_morning  created_afternoon  bed_bath_ratio  \n",
       "0                    0                  0             1.0  \n",
       "1                    0                  0             2.0  \n",
       "2                    0                  1             2.0  \n",
       "3                    1                  0             2.0  \n",
       "4                    0                  0             0.0  \n",
       "...                ...                ...             ...  \n",
       "48324                0                  0             3.0  \n",
       "48325                0                  0             2.0  \n",
       "48326                0                  0             1.0  \n",
       "48327                0                  0             2.0  \n",
       "48328                0                  0             3.0  \n",
       "\n",
       "[48329 rows x 46 columns]"
      ]
     },
     "execution_count": 26,
     "metadata": {},
     "output_type": "execute_result"
    }
   ],
   "source": [
    "train_df.head()\n",
    "test_df.head()"
   ]
  },
  {
   "cell_type": "code",
   "execution_count": 27,
   "metadata": {},
   "outputs": [
    {
     "name": "stdout",
     "output_type": "stream",
     "text": [
      "<class 'pandas.core.frame.DataFrame'>\n",
      "Int64Index: 48329 entries, 0 to 48328\n",
      "Data columns (total 46 columns):\n",
      "bathrooms            48329 non-null float64\n",
      "bedrooms             48329 non-null int64\n",
      "building_id          48329 non-null object\n",
      "created              48329 non-null object\n",
      "description          48329 non-null object\n",
      "display_address      48329 non-null object\n",
      "features             48329 non-null object\n",
      "latitude             48329 non-null float64\n",
      "listing_id           48329 non-null int64\n",
      "longitude            48329 non-null float64\n",
      "manager_id           48329 non-null object\n",
      "photos               48329 non-null object\n",
      "price                48329 non-null int64\n",
      "street_address       48329 non-null object\n",
      "interest_level       48329 non-null object\n",
      "dt_distance          48329 non-null float64\n",
      "pet_policy           48329 non-null int64\n",
      "listing_type         48329 non-null int64\n",
      "unit_features        48329 non-null int64\n",
      "building_features    48329 non-null int64\n",
      "apartment            48329 non-null float64\n",
      "appliance            48329 non-null float64\n",
      "bathroom             48329 non-null float64\n",
      "bedroom              48329 non-null float64\n",
      "building             48329 non-null float64\n",
      "contact              48329 non-null float64\n",
      "floor                48329 non-null float64\n",
      "high                 48329 non-null float64\n",
      "kitchen              48329 non-null float64\n",
      "room                 48329 non-null float64\n",
      "mall_distance        48329 non-null float64\n",
      "created_hour         48329 non-null int64\n",
      "created_month        48329 non-null int64\n",
      "created_day          48329 non-null int64\n",
      "num_photos           48329 non-null int64\n",
      "description_len      48329 non-null int64\n",
      "created_dt           48329 non-null int64\n",
      "managerID_count      48329 non-null int64\n",
      "buildingID_count     48329 non-null int64\n",
      "weekends             48329 non-null int64\n",
      "month_4              48329 non-null int64\n",
      "month_5              48329 non-null int64\n",
      "created_nights       48329 non-null int64\n",
      "created_morning      48329 non-null int64\n",
      "created_afternoon    48329 non-null int64\n",
      "bed_bath_ratio       48329 non-null float64\n",
      "dtypes: float64(16), int64(21), object(9)\n",
      "memory usage: 17.3+ MB\n"
     ]
    }
   ],
   "source": [
    "train_df.describe()\n",
    "train_df.info()"
   ]
  },
  {
   "cell_type": "markdown",
   "metadata": {},
   "source": [
    "\n"
   ]
  },
  {
   "cell_type": "code",
   "execution_count": 73,
   "metadata": {},
   "outputs": [
    {
     "data": {
      "text/plain": [
       "array([['0000abd7518b94c35a90d64b56fbf3e6', 12],\n",
       "       ['001ce808ce1720e24a9510e014c69707', 10],\n",
       "       ['003fc4e9a70053082f131b1054966aaf', 1],\n",
       "       ...,\n",
       "       ['ffb9eceeaa4d60da7b41cc8f0954cd50', 2],\n",
       "       ['ffd3c60281949a5cd806030203a79558', 6],\n",
       "       ['ffd7307e4924587b30ec014a95db1362', 115]], dtype=object)"
      ]
     },
     "execution_count": 73,
     "metadata": {},
     "output_type": "execute_result"
    }
   ],
   "source": [
    "unique, counts = np.unique(train_df.manager_id, return_counts=True)\n",
    "\n",
    "id_dict = np.asarray((unique,counts)).T\n",
    "id_dict"
   ]
  },
  {
   "cell_type": "code",
   "execution_count": 74,
   "metadata": {},
   "outputs": [],
   "source": [
    "id_dic = {}\n",
    "for val in id_dict:\n",
    "    id_dic[val[0]] = val[1]"
   ]
  },
  {
   "cell_type": "code",
   "execution_count": 75,
   "metadata": {},
   "outputs": [
    {
     "data": {
      "text/plain": [
       "2471"
      ]
     },
     "execution_count": 75,
     "metadata": {},
     "output_type": "execute_result"
    }
   ],
   "source": [
    "max(id_dic.values())"
   ]
  },
  {
   "cell_type": "code",
   "execution_count": 76,
   "metadata": {},
   "outputs": [],
   "source": [
    "v1_selected_feats = [\"bathrooms\", \"bedrooms\", \"latitude\", \"longitude\", \"price\", \"pet_policy\", \"listing_type\", \n",
    "                     \"unit_features\", \"building_features\", \"apartment\", \"appliance\", \"bathroom\", \"bedroom\",\n",
    "                     \"building\", \"contact\", \"floor\", \"high\", \"kitchen\", \"room\", \"num_photos\", \n",
    "                     \"description_len\", \"mall_distance\", \"dt_distance\"]"
   ]
  },
  {
   "cell_type": "code",
   "execution_count": 77,
   "metadata": {},
   "outputs": [],
   "source": [
    "X = train_df[v1_selected_feats]\n",
    "y = train_df[\"interest_level\"]"
   ]
  },
  {
   "cell_type": "code",
   "execution_count": 78,
   "metadata": {},
   "outputs": [],
   "source": [
    "from sklearn.model_selection import KFold\n",
    "from sklearn.preprocessing import MinMaxScaler\n",
    "from sklearn.ensemble import RandomForestClassifier"
   ]
  },
  {
   "cell_type": "code",
   "execution_count": 79,
   "metadata": {},
   "outputs": [],
   "source": [
    "scaler = MinMaxScaler(feature_range=(0, 1))\n",
    "X = scaler.fit_transform(X)"
   ]
  },
  {
   "cell_type": "code",
   "execution_count": 80,
   "metadata": {
    "scrolled": true
   },
   "outputs": [
    {
     "data": {
      "text/plain": [
       "array([[0.1       , 0.125     , 0.27075252, ..., 0.11411411, 0.19559873,\n",
       "        0.1097247 ],\n",
       "       [0.1       , 0.25      , 0.34930178, ..., 0.1951952 , 0.05667761,\n",
       "        0.11368588],\n",
       "       [0.1       , 0.25      , 0.36132661, ..., 0.17717718, 0.07044386,\n",
       "        0.14517726],\n",
       "       ...,\n",
       "       [0.1       , 0.125     , 0.01027929, ..., 0.12012012, 0.36704753,\n",
       "        0.37274708],\n",
       "       [0.1       , 0.25      , 0.33669511, ..., 0.17567568, 0.02552656,\n",
       "        0.04634581],\n",
       "       [0.1       , 0.375     , 0.36501164, ..., 0.08558559, 0.03237035,\n",
       "        0.13170925]])"
      ]
     },
     "execution_count": 80,
     "metadata": {},
     "output_type": "execute_result"
    }
   ],
   "source": [
    "X"
   ]
  },
  {
   "cell_type": "code",
   "execution_count": 81,
   "metadata": {},
   "outputs": [],
   "source": [
    "#Train for decision Tree\n",
    "test_scores = []\n",
    "train_scores = []\n",
    "log_scores = []\n",
    "log_scores_train = []\n",
    "\n",
    "min_sample_arr = [1, 50, 100, 200, 500] \n",
    "\n",
    "i = 0\n",
    "cv = KFold(n_splits=5, random_state=42, shuffle=True)\n",
    "for train_index, test_index in cv.split(X):\n",
    "    #min samples default 2, min samples leaf default =1. min weight frac =0 , max feat = 4\n",
    "    rfc  = RandomForestClassifier(n_estimators = 100, criterion = \"gini\", max_leaf_nodes = 4, max_features='auto', random_state=0, min_samples_leaf=1, min_samples_split = 2)\n",
    "    i += 1\n",
    "    X_train, X_test, y_train, y_test = X[train_index], X[test_index], y.iloc[train_index], y.iloc[test_index]\n",
    "    rfc.fit(X_train, y_train)\n",
    "    test_scores.append(rfc.score(X_test, y_test))\n",
    "    train_scores.append(rfc.score(X_train, y_train))\n",
    "    y_test_pred = rfc.predict_proba(X_test)\n",
    "    y_train_pred = rfc.predict_proba(X_train)\n",
    "    log_scores.append(log_loss(y_test, y_test_pred))\n",
    "    log_scores_train.append(log_loss(y_train, y_train_pred))\n",
    "    \n",
    "    #when the min sample change, there is pverfitting for small values,\n",
    "    #as the calues grow, the training set does progressively worse in comparison to the test \n",
    "    # use 50 as the number\n",
    "    "
   ]
  },
  {
   "cell_type": "code",
   "execution_count": 82,
   "metadata": {},
   "outputs": [
    {
     "data": {
      "text/plain": [
       "[0.7433498727383955,\n",
       " 0.7437944579951052,\n",
       " 0.7454356471530916,\n",
       " 0.7563410252505085,\n",
       " 0.7424130131487622]"
      ]
     },
     "execution_count": 82,
     "metadata": {},
     "output_type": "execute_result"
    }
   ],
   "source": [
    "log_scores\n"
   ]
  },
  {
   "cell_type": "code",
   "execution_count": 83,
   "metadata": {},
   "outputs": [
    {
     "data": {
      "text/plain": [
       "[0.7465511564118881,\n",
       " 0.7466381089869191,\n",
       " 0.7463127049513092,\n",
       " 0.7422223159818396,\n",
       " 0.7467515889480466]"
      ]
     },
     "execution_count": 83,
     "metadata": {},
     "output_type": "execute_result"
    }
   ],
   "source": [
    "log_scores_train"
   ]
  },
  {
   "cell_type": "code",
   "execution_count": 84,
   "metadata": {},
   "outputs": [
    {
     "data": {
      "text/plain": [
       "array([[0.09514738, 0.63270366, 0.27214896],\n",
       "       [0.0688304 , 0.68772551, 0.24344409],\n",
       "       [0.07310354, 0.69754842, 0.22934805],\n",
       "       ...,\n",
       "       [0.09778623, 0.64811341, 0.25410036],\n",
       "       [0.07213606, 0.67593527, 0.25192867],\n",
       "       [0.07160578, 0.6789583 , 0.24943592]])"
      ]
     },
     "execution_count": 84,
     "metadata": {},
     "output_type": "execute_result"
    }
   ],
   "source": [
    "y_train_pred\n"
   ]
  },
  {
   "cell_type": "code",
   "execution_count": 85,
   "metadata": {},
   "outputs": [
    {
     "data": {
      "text/plain": [
       "{'high': 0, 'low': 1, 'medium': 2}"
      ]
     },
     "execution_count": 85,
     "metadata": {},
     "output_type": "execute_result"
    }
   ],
   "source": [
    "labels2idx = {label: i for i, label in enumerate(rfc.classes_)}\n",
    "labels2idx"
   ]
  },
  {
   "cell_type": "code",
   "execution_count": 86,
   "metadata": {},
   "outputs": [],
   "source": [
    "X_train, X_val, y_train, y_val = train_test_split(X, y, test_size=0.33)"
   ]
  },
  {
   "cell_type": "code",
   "execution_count": 87,
   "metadata": {},
   "outputs": [
    {
     "data": {
      "text/plain": [
       "0.7849591576508108"
      ]
     },
     "execution_count": 87,
     "metadata": {},
     "output_type": "execute_result"
    }
   ],
   "source": [
    "rfc_test  = RandomForestClassifier(n_estimators = 100, criterion = \"gini\", min_weight_fraction_leaf = 0.2, max_leaf_nodes = 4, min_samples_split = 5, max_features='sqrt', random_state=0, min_samples_leaf=200, max_depth=10)\n",
    "rfc_test.fit(X_train, y_train)\n",
    "y_val_pred = rfc_test.predict_proba(X_val)\n",
    "log_loss(y_val, y_val_pred)"
   ]
  },
  {
   "cell_type": "code",
   "execution_count": 88,
   "metadata": {},
   "outputs": [],
   "source": [
    "test_X = test_df[v1_selected_feats]"
   ]
  },
  {
   "cell_type": "code",
   "execution_count": 89,
   "metadata": {},
   "outputs": [],
   "source": [
    "test_X = scaler.fit_transform(test_X)"
   ]
  },
  {
   "cell_type": "code",
   "execution_count": 90,
   "metadata": {},
   "outputs": [],
   "source": [
    "test_y = rfc_test.predict_proba(test_X)"
   ]
  },
  {
   "cell_type": "code",
   "execution_count": 91,
   "metadata": {},
   "outputs": [
    {
     "data": {
      "text/plain": [
       "{'high': 0, 'low': 1, 'medium': 2}"
      ]
     },
     "execution_count": 91,
     "metadata": {},
     "output_type": "execute_result"
    }
   ],
   "source": [
    "labels2idx = {label: i for i, label in enumerate(rfc_test.classes_)}\n",
    "labels2idx"
   ]
  },
  {
   "cell_type": "code",
   "execution_count": 92,
   "metadata": {},
   "outputs": [],
   "source": [
    "sub = pd.DataFrame()\n",
    "sub[\"listing_id\"] = test_df[\"listing_id\"]\n",
    "for label in [\"high\", \"medium\", \"low\"]:\n",
    "    sub[label] = test_y[:, labels2idx[label]]\n",
    "sub.to_csv(r\"C:\\Users\\Giovanni PC\\cmpt459\\data\\submission_m3_rf_v1.csv\", index=False)\n"
   ]
  }
 ],
 "metadata": {
  "kernelspec": {
   "display_name": "Python 3",
   "language": "python",
   "name": "python3"
  },
  "language_info": {
   "codemirror_mode": {
    "name": "ipython",
    "version": 3
   },
   "file_extension": ".py",
   "mimetype": "text/x-python",
   "name": "python",
   "nbconvert_exporter": "python",
   "pygments_lexer": "ipython3",
   "version": "3.7.4"
  }
 },
 "nbformat": 4,
 "nbformat_minor": 4
}
