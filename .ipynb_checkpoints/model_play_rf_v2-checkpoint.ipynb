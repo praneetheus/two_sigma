{
 "cells": [
  {
   "cell_type": "code",
   "execution_count": 64,
   "metadata": {},
   "outputs": [
    {
     "name": "stdout",
     "output_type": "stream",
     "text": [
      "Populating the interactive namespace from numpy and matplotlib\n"
     ]
    },
    {
     "name": "stderr",
     "output_type": "stream",
     "text": [
      "C:\\ProgramData\\Anaconda3\\lib\\site-packages\\IPython\\core\\magics\\pylab.py:160: UserWarning: pylab import has clobbered these variables: ['unique']\n",
      "`%matplotlib` prevents importing * from pylab and numpy\n",
      "  \"\\n`%matplotlib` prevents importing * from pylab and numpy\"\n"
     ]
    }
   ],
   "source": [
    "%pylab inline\n",
    "import pandas as pd\n",
    "import seaborn\n",
    "import numpy as np\n",
    "import matplotlib.pyplot as plt\n",
    "import scipy\n",
    "from sklearn.metrics.pairwise import manhattan_distances"
   ]
  },
  {
   "cell_type": "code",
   "execution_count": 65,
   "metadata": {},
   "outputs": [],
   "source": [
    "import sys\n",
    "sys.path.append('/usr/local/lib/python3.7/site-packages')\n",
    "import cv2"
   ]
  },
  {
   "cell_type": "code",
   "execution_count": 66,
   "metadata": {},
   "outputs": [],
   "source": [
    "# from sklearn.ensemble import RandomForestClassifier\n",
    "from sklearn.svm import SVC\n",
    "from sklearn.model_selection import train_test_split\n",
    "from sklearn.metrics import log_loss"
   ]
  },
  {
   "cell_type": "markdown",
   "metadata": {},
   "source": [
    "## TRAINING TIME!"
   ]
  },
  {
   "cell_type": "code",
   "execution_count": 67,
   "metadata": {
    "scrolled": true
   },
   "outputs": [],
   "source": [
    "# new_df.to_json('/Users/Home/Desktop/CMPT 459/MI2/train_fe.json')\n",
    "train_df = pd.read_json(r'C:\\Users\\Giovanni PC\\cmpt459\\data\\ml3\\final_train_df_m3_v2.json')\n",
    "# new_df.to_json('/Users/Home/Desktop/CMPT 459/MI2/train_fe.json')\n",
    "test_df = pd.read_json(r'C:\\Users\\Giovanni PC\\cmpt459\\data\\final_test_df_m3_v2.json')"
   ]
  },
  {
   "cell_type": "code",
   "execution_count": 68,
   "metadata": {},
   "outputs": [
    {
     "data": {
      "text/html": [
       "<div>\n",
       "<style scoped>\n",
       "    .dataframe tbody tr th:only-of-type {\n",
       "        vertical-align: middle;\n",
       "    }\n",
       "\n",
       "    .dataframe tbody tr th {\n",
       "        vertical-align: top;\n",
       "    }\n",
       "\n",
       "    .dataframe thead th {\n",
       "        text-align: right;\n",
       "    }\n",
       "</style>\n",
       "<table border=\"1\" class=\"dataframe\">\n",
       "  <thead>\n",
       "    <tr style=\"text-align: right;\">\n",
       "      <th></th>\n",
       "      <th>bathrooms</th>\n",
       "      <th>bedrooms</th>\n",
       "      <th>building_id</th>\n",
       "      <th>created</th>\n",
       "      <th>description</th>\n",
       "      <th>display_address</th>\n",
       "      <th>features</th>\n",
       "      <th>latitude</th>\n",
       "      <th>listing_id</th>\n",
       "      <th>longitude</th>\n",
       "      <th>...</th>\n",
       "      <th>low_frac</th>\n",
       "      <th>medium_frac</th>\n",
       "      <th>count</th>\n",
       "      <th>manager_skill</th>\n",
       "      <th>high_frac_b</th>\n",
       "      <th>low_frac_b</th>\n",
       "      <th>medium_frac_b</th>\n",
       "      <th>bi_count</th>\n",
       "      <th>building_interest</th>\n",
       "      <th>int_level</th>\n",
       "    </tr>\n",
       "  </thead>\n",
       "  <tbody>\n",
       "    <tr>\n",
       "      <td>0</td>\n",
       "      <td>1.0</td>\n",
       "      <td>1</td>\n",
       "      <td>8579a0b0d54db803821a35a4a615e97a</td>\n",
       "      <td>2016-06-16 05:55:27</td>\n",
       "      <td>Spacious 1 Bedroom 1 Bathroom in Williamsburg!...</td>\n",
       "      <td>145 Borinquen Place</td>\n",
       "      <td>[Dining Room, Pre-War, Laundry in Building, Di...</td>\n",
       "      <td>40.7108</td>\n",
       "      <td>7170325</td>\n",
       "      <td>-73.9539</td>\n",
       "      <td>...</td>\n",
       "      <td>0.542056</td>\n",
       "      <td>0.411215</td>\n",
       "      <td>107</td>\n",
       "      <td>0.504673</td>\n",
       "      <td>0.076139</td>\n",
       "      <td>0.679429</td>\n",
       "      <td>0.244432</td>\n",
       "      <td>5</td>\n",
       "      <td>0.396710</td>\n",
       "      <td>1</td>\n",
       "    </tr>\n",
       "    <tr>\n",
       "      <td>1</td>\n",
       "      <td>1.0</td>\n",
       "      <td>2</td>\n",
       "      <td>b8e75fc949a6cd8225b455648a951712</td>\n",
       "      <td>2016-06-01 05:44:33</td>\n",
       "      <td>BRAND NEW GUT RENOVATED TRUE 2 BEDROOMFind you...</td>\n",
       "      <td>East 44th</td>\n",
       "      <td>[Doorman, Elevator, Laundry in Building, Dishw...</td>\n",
       "      <td>40.7513</td>\n",
       "      <td>7092344</td>\n",
       "      <td>-73.9722</td>\n",
       "      <td>...</td>\n",
       "      <td>0.346154</td>\n",
       "      <td>0.615385</td>\n",
       "      <td>26</td>\n",
       "      <td>0.692308</td>\n",
       "      <td>0.058824</td>\n",
       "      <td>0.529412</td>\n",
       "      <td>0.411765</td>\n",
       "      <td>51</td>\n",
       "      <td>0.535294</td>\n",
       "      <td>2</td>\n",
       "    </tr>\n",
       "    <tr>\n",
       "      <td>2</td>\n",
       "      <td>1.0</td>\n",
       "      <td>2</td>\n",
       "      <td>cd759a988b8f23924b5a2058d5ab2b49</td>\n",
       "      <td>2016-06-14 15:19:59</td>\n",
       "      <td>**FLEX 2 BEDROOM WITH FULL PRESSURIZED WALL**L...</td>\n",
       "      <td>East 56th Street</td>\n",
       "      <td>[Doorman, Elevator, Laundry in Building, Laund...</td>\n",
       "      <td>40.7575</td>\n",
       "      <td>7158677</td>\n",
       "      <td>-73.9625</td>\n",
       "      <td>...</td>\n",
       "      <td>0.763441</td>\n",
       "      <td>0.204301</td>\n",
       "      <td>93</td>\n",
       "      <td>0.268817</td>\n",
       "      <td>0.028169</td>\n",
       "      <td>0.619718</td>\n",
       "      <td>0.352113</td>\n",
       "      <td>71</td>\n",
       "      <td>0.374648</td>\n",
       "      <td>1</td>\n",
       "    </tr>\n",
       "    <tr>\n",
       "      <td>3</td>\n",
       "      <td>1.5</td>\n",
       "      <td>3</td>\n",
       "      <td>53a5b119ba8f7b61d4e010512e0dfc85</td>\n",
       "      <td>2016-06-24 07:54:24</td>\n",
       "      <td>A Brand New 3 Bedroom 1.5 bath ApartmentEnjoy ...</td>\n",
       "      <td>Metropolitan Avenue</td>\n",
       "      <td>[]</td>\n",
       "      <td>40.7145</td>\n",
       "      <td>7211212</td>\n",
       "      <td>-73.9425</td>\n",
       "      <td>...</td>\n",
       "      <td>0.744444</td>\n",
       "      <td>0.255556</td>\n",
       "      <td>90</td>\n",
       "      <td>0.255556</td>\n",
       "      <td>0.076139</td>\n",
       "      <td>0.679429</td>\n",
       "      <td>0.244432</td>\n",
       "      <td>3</td>\n",
       "      <td>0.396710</td>\n",
       "      <td>1</td>\n",
       "    </tr>\n",
       "    <tr>\n",
       "      <td>4</td>\n",
       "      <td>1.0</td>\n",
       "      <td>0</td>\n",
       "      <td>bfb9405149bfff42a92980b594c28234</td>\n",
       "      <td>2016-06-28 03:50:23</td>\n",
       "      <td>Over-sized Studio w abundant closets. Availabl...</td>\n",
       "      <td>East 34th Street</td>\n",
       "      <td>[Doorman, Elevator, Fitness Center, Laundry in...</td>\n",
       "      <td>40.7439</td>\n",
       "      <td>7225292</td>\n",
       "      <td>-73.9743</td>\n",
       "      <td>...</td>\n",
       "      <td>0.854545</td>\n",
       "      <td>0.145455</td>\n",
       "      <td>55</td>\n",
       "      <td>0.145455</td>\n",
       "      <td>0.034884</td>\n",
       "      <td>0.779070</td>\n",
       "      <td>0.186047</td>\n",
       "      <td>86</td>\n",
       "      <td>0.212791</td>\n",
       "      <td>2</td>\n",
       "    </tr>\n",
       "    <tr>\n",
       "      <td>...</td>\n",
       "      <td>...</td>\n",
       "      <td>...</td>\n",
       "      <td>...</td>\n",
       "      <td>...</td>\n",
       "      <td>...</td>\n",
       "      <td>...</td>\n",
       "      <td>...</td>\n",
       "      <td>...</td>\n",
       "      <td>...</td>\n",
       "      <td>...</td>\n",
       "      <td>...</td>\n",
       "      <td>...</td>\n",
       "      <td>...</td>\n",
       "      <td>...</td>\n",
       "      <td>...</td>\n",
       "      <td>...</td>\n",
       "      <td>...</td>\n",
       "      <td>...</td>\n",
       "      <td>...</td>\n",
       "      <td>...</td>\n",
       "      <td>...</td>\n",
       "    </tr>\n",
       "    <tr>\n",
       "      <td>48324</td>\n",
       "      <td>1.0</td>\n",
       "      <td>3</td>\n",
       "      <td>92bbbf38baadfde0576fc496bd41749c</td>\n",
       "      <td>2016-04-19 03:31:53</td>\n",
       "      <td>There is 700 square feet of recently renovated...</td>\n",
       "      <td>W 171 Street</td>\n",
       "      <td>[Elevator, Dishwasher, Hardwood Floors]</td>\n",
       "      <td>40.8433</td>\n",
       "      <td>6824800</td>\n",
       "      <td>-73.9396</td>\n",
       "      <td>...</td>\n",
       "      <td>0.679429</td>\n",
       "      <td>0.244432</td>\n",
       "      <td>10</td>\n",
       "      <td>0.396710</td>\n",
       "      <td>0.076139</td>\n",
       "      <td>0.679429</td>\n",
       "      <td>0.244432</td>\n",
       "      <td>5</td>\n",
       "      <td>0.396710</td>\n",
       "      <td>2</td>\n",
       "    </tr>\n",
       "    <tr>\n",
       "      <td>48325</td>\n",
       "      <td>1.0</td>\n",
       "      <td>2</td>\n",
       "      <td>5565db9b7cba3603834c4aa6f2950960</td>\n",
       "      <td>2016-04-20 02:27:19</td>\n",
       "      <td>2 bedroom apartment with updated kitchen, rece...</td>\n",
       "      <td>Broadway</td>\n",
       "      <td>[Common Outdoor Space, Cats Allowed, Dogs Allo...</td>\n",
       "      <td>40.8198</td>\n",
       "      <td>6813268</td>\n",
       "      <td>-73.9578</td>\n",
       "      <td>...</td>\n",
       "      <td>0.679429</td>\n",
       "      <td>0.244432</td>\n",
       "      <td>14</td>\n",
       "      <td>0.396710</td>\n",
       "      <td>0.198413</td>\n",
       "      <td>0.436508</td>\n",
       "      <td>0.365079</td>\n",
       "      <td>126</td>\n",
       "      <td>0.916667</td>\n",
       "      <td>1</td>\n",
       "    </tr>\n",
       "    <tr>\n",
       "      <td>48326</td>\n",
       "      <td>1.0</td>\n",
       "      <td>1</td>\n",
       "      <td>67997a128056ee1ed7d046bbb856e3c7</td>\n",
       "      <td>2016-04-02 03:03:42</td>\n",
       "      <td>No Brokers Fee * Never Lived 1 Bedroom 1 Bathr...</td>\n",
       "      <td>210 Brighton 15th St</td>\n",
       "      <td>[Dining Room, Elevator, Pre-War, Laundry in Bu...</td>\n",
       "      <td>40.5765</td>\n",
       "      <td>6927093</td>\n",
       "      <td>-73.9554</td>\n",
       "      <td>...</td>\n",
       "      <td>0.542056</td>\n",
       "      <td>0.411215</td>\n",
       "      <td>107</td>\n",
       "      <td>0.504673</td>\n",
       "      <td>0.076139</td>\n",
       "      <td>0.679429</td>\n",
       "      <td>0.244432</td>\n",
       "      <td>6</td>\n",
       "      <td>0.396710</td>\n",
       "      <td>1</td>\n",
       "    </tr>\n",
       "    <tr>\n",
       "      <td>48327</td>\n",
       "      <td>1.0</td>\n",
       "      <td>2</td>\n",
       "      <td>3c0574a740154806c18bdf1fddd3d966</td>\n",
       "      <td>2016-04-06 18:15:06</td>\n",
       "      <td>Wonderful Bright Chelsea 2 Bedroom apartment o...</td>\n",
       "      <td>West 21st Street</td>\n",
       "      <td>[Pre-War, Laundry in Unit, Dishwasher, No Fee,...</td>\n",
       "      <td>40.7448</td>\n",
       "      <td>6892816</td>\n",
       "      <td>-74.0017</td>\n",
       "      <td>...</td>\n",
       "      <td>0.636364</td>\n",
       "      <td>0.303030</td>\n",
       "      <td>33</td>\n",
       "      <td>0.424242</td>\n",
       "      <td>0.000000</td>\n",
       "      <td>0.666667</td>\n",
       "      <td>0.333333</td>\n",
       "      <td>12</td>\n",
       "      <td>0.266667</td>\n",
       "      <td>1</td>\n",
       "    </tr>\n",
       "    <tr>\n",
       "      <td>48328</td>\n",
       "      <td>1.0</td>\n",
       "      <td>3</td>\n",
       "      <td>d89f514c3ed0abaae52cba7017ac0701</td>\n",
       "      <td>2016-04-22 02:55:58</td>\n",
       "      <td>***PRIME MIDTOWN EAST OFF PARK AVE***TRUE 3 BE...</td>\n",
       "      <td>E 54th St</td>\n",
       "      <td>[Dining Room, Elevator, Laundry in Building, D...</td>\n",
       "      <td>40.7594</td>\n",
       "      <td>6901023</td>\n",
       "      <td>-73.9712</td>\n",
       "      <td>...</td>\n",
       "      <td>0.186275</td>\n",
       "      <td>0.500000</td>\n",
       "      <td>102</td>\n",
       "      <td>1.127451</td>\n",
       "      <td>0.120000</td>\n",
       "      <td>0.520000</td>\n",
       "      <td>0.360000</td>\n",
       "      <td>50</td>\n",
       "      <td>0.668000</td>\n",
       "      <td>0</td>\n",
       "    </tr>\n",
       "  </tbody>\n",
       "</table>\n",
       "<p>48329 rows × 56 columns</p>\n",
       "</div>"
      ],
      "text/plain": [
       "       bathrooms  bedrooms                       building_id  \\\n",
       "0            1.0         1  8579a0b0d54db803821a35a4a615e97a   \n",
       "1            1.0         2  b8e75fc949a6cd8225b455648a951712   \n",
       "2            1.0         2  cd759a988b8f23924b5a2058d5ab2b49   \n",
       "3            1.5         3  53a5b119ba8f7b61d4e010512e0dfc85   \n",
       "4            1.0         0  bfb9405149bfff42a92980b594c28234   \n",
       "...          ...       ...                               ...   \n",
       "48324        1.0         3  92bbbf38baadfde0576fc496bd41749c   \n",
       "48325        1.0         2  5565db9b7cba3603834c4aa6f2950960   \n",
       "48326        1.0         1  67997a128056ee1ed7d046bbb856e3c7   \n",
       "48327        1.0         2  3c0574a740154806c18bdf1fddd3d966   \n",
       "48328        1.0         3  d89f514c3ed0abaae52cba7017ac0701   \n",
       "\n",
       "                   created                                        description  \\\n",
       "0      2016-06-16 05:55:27  Spacious 1 Bedroom 1 Bathroom in Williamsburg!...   \n",
       "1      2016-06-01 05:44:33  BRAND NEW GUT RENOVATED TRUE 2 BEDROOMFind you...   \n",
       "2      2016-06-14 15:19:59  **FLEX 2 BEDROOM WITH FULL PRESSURIZED WALL**L...   \n",
       "3      2016-06-24 07:54:24  A Brand New 3 Bedroom 1.5 bath ApartmentEnjoy ...   \n",
       "4      2016-06-28 03:50:23  Over-sized Studio w abundant closets. Availabl...   \n",
       "...                    ...                                                ...   \n",
       "48324  2016-04-19 03:31:53  There is 700 square feet of recently renovated...   \n",
       "48325  2016-04-20 02:27:19  2 bedroom apartment with updated kitchen, rece...   \n",
       "48326  2016-04-02 03:03:42  No Brokers Fee * Never Lived 1 Bedroom 1 Bathr...   \n",
       "48327  2016-04-06 18:15:06  Wonderful Bright Chelsea 2 Bedroom apartment o...   \n",
       "48328  2016-04-22 02:55:58  ***PRIME MIDTOWN EAST OFF PARK AVE***TRUE 3 BE...   \n",
       "\n",
       "            display_address  \\\n",
       "0       145 Borinquen Place   \n",
       "1                 East 44th   \n",
       "2          East 56th Street   \n",
       "3       Metropolitan Avenue   \n",
       "4          East 34th Street   \n",
       "...                     ...   \n",
       "48324          W 171 Street   \n",
       "48325              Broadway   \n",
       "48326  210 Brighton 15th St   \n",
       "48327      West 21st Street   \n",
       "48328             E 54th St   \n",
       "\n",
       "                                                features  latitude  \\\n",
       "0      [Dining Room, Pre-War, Laundry in Building, Di...   40.7108   \n",
       "1      [Doorman, Elevator, Laundry in Building, Dishw...   40.7513   \n",
       "2      [Doorman, Elevator, Laundry in Building, Laund...   40.7575   \n",
       "3                                                     []   40.7145   \n",
       "4      [Doorman, Elevator, Fitness Center, Laundry in...   40.7439   \n",
       "...                                                  ...       ...   \n",
       "48324            [Elevator, Dishwasher, Hardwood Floors]   40.8433   \n",
       "48325  [Common Outdoor Space, Cats Allowed, Dogs Allo...   40.8198   \n",
       "48326  [Dining Room, Elevator, Pre-War, Laundry in Bu...   40.5765   \n",
       "48327  [Pre-War, Laundry in Unit, Dishwasher, No Fee,...   40.7448   \n",
       "48328  [Dining Room, Elevator, Laundry in Building, D...   40.7594   \n",
       "\n",
       "       listing_id  longitude  ...  low_frac medium_frac  count manager_skill  \\\n",
       "0         7170325   -73.9539  ...  0.542056    0.411215    107      0.504673   \n",
       "1         7092344   -73.9722  ...  0.346154    0.615385     26      0.692308   \n",
       "2         7158677   -73.9625  ...  0.763441    0.204301     93      0.268817   \n",
       "3         7211212   -73.9425  ...  0.744444    0.255556     90      0.255556   \n",
       "4         7225292   -73.9743  ...  0.854545    0.145455     55      0.145455   \n",
       "...           ...        ...  ...       ...         ...    ...           ...   \n",
       "48324     6824800   -73.9396  ...  0.679429    0.244432     10      0.396710   \n",
       "48325     6813268   -73.9578  ...  0.679429    0.244432     14      0.396710   \n",
       "48326     6927093   -73.9554  ...  0.542056    0.411215    107      0.504673   \n",
       "48327     6892816   -74.0017  ...  0.636364    0.303030     33      0.424242   \n",
       "48328     6901023   -73.9712  ...  0.186275    0.500000    102      1.127451   \n",
       "\n",
       "      high_frac_b  low_frac_b  medium_frac_b  bi_count  building_interest  \\\n",
       "0        0.076139    0.679429       0.244432         5           0.396710   \n",
       "1        0.058824    0.529412       0.411765        51           0.535294   \n",
       "2        0.028169    0.619718       0.352113        71           0.374648   \n",
       "3        0.076139    0.679429       0.244432         3           0.396710   \n",
       "4        0.034884    0.779070       0.186047        86           0.212791   \n",
       "...           ...         ...            ...       ...                ...   \n",
       "48324    0.076139    0.679429       0.244432         5           0.396710   \n",
       "48325    0.198413    0.436508       0.365079       126           0.916667   \n",
       "48326    0.076139    0.679429       0.244432         6           0.396710   \n",
       "48327    0.000000    0.666667       0.333333        12           0.266667   \n",
       "48328    0.120000    0.520000       0.360000        50           0.668000   \n",
       "\n",
       "       int_level  \n",
       "0              1  \n",
       "1              2  \n",
       "2              1  \n",
       "3              1  \n",
       "4              2  \n",
       "...          ...  \n",
       "48324          2  \n",
       "48325          1  \n",
       "48326          1  \n",
       "48327          1  \n",
       "48328          0  \n",
       "\n",
       "[48329 rows x 56 columns]"
      ]
     },
     "execution_count": 68,
     "metadata": {},
     "output_type": "execute_result"
    }
   ],
   "source": [
    "train_df"
   ]
  },
  {
   "cell_type": "code",
   "execution_count": 69,
   "metadata": {},
   "outputs": [
    {
     "name": "stdout",
     "output_type": "stream",
     "text": [
      "<class 'pandas.core.frame.DataFrame'>\n",
      "Int64Index: 48329 entries, 0 to 48328\n",
      "Data columns (total 56 columns):\n",
      "bathrooms            48329 non-null float64\n",
      "bedrooms             48329 non-null int64\n",
      "building_id          48329 non-null object\n",
      "created              48329 non-null object\n",
      "description          48329 non-null object\n",
      "display_address      48329 non-null object\n",
      "features             48329 non-null object\n",
      "latitude             48329 non-null float64\n",
      "listing_id           48329 non-null int64\n",
      "longitude            48329 non-null float64\n",
      "manager_id           48329 non-null object\n",
      "photos               48329 non-null object\n",
      "price                48329 non-null int64\n",
      "street_address       48329 non-null object\n",
      "interest_level       48329 non-null object\n",
      "dt_distance          48329 non-null float64\n",
      "pet_policy           48329 non-null int64\n",
      "listing_type         48329 non-null int64\n",
      "unit_features        48329 non-null int64\n",
      "building_features    48329 non-null int64\n",
      "apartment            48329 non-null float64\n",
      "appliance            48329 non-null float64\n",
      "bathroom             48329 non-null float64\n",
      "bedroom              48329 non-null float64\n",
      "building             48329 non-null float64\n",
      "contact              48329 non-null float64\n",
      "floor                48329 non-null float64\n",
      "high                 48329 non-null float64\n",
      "kitchen              48329 non-null float64\n",
      "room                 48329 non-null float64\n",
      "mall_distance        48329 non-null float64\n",
      "created_hour         48329 non-null int64\n",
      "created_month        48329 non-null int64\n",
      "created_day          48329 non-null int64\n",
      "num_photos           48329 non-null int64\n",
      "description_len      48329 non-null int64\n",
      "created_dt           48329 non-null int64\n",
      "managerID_count      48329 non-null int64\n",
      "buildingID_count     48329 non-null int64\n",
      "weekends             48329 non-null int64\n",
      "month_4              48329 non-null int64\n",
      "month_5              48329 non-null int64\n",
      "created_nights       48329 non-null int64\n",
      "created_morning      48329 non-null int64\n",
      "created_afternoon    48329 non-null int64\n",
      "high_frac            48329 non-null float64\n",
      "low_frac             48329 non-null float64\n",
      "medium_frac          48329 non-null float64\n",
      "count                48329 non-null int64\n",
      "manager_skill        48329 non-null float64\n",
      "high_frac_b          48329 non-null float64\n",
      "low_frac_b           48329 non-null float64\n",
      "medium_frac_b        48329 non-null float64\n",
      "bi_count             48329 non-null int64\n",
      "building_interest    48329 non-null float64\n",
      "int_level            48329 non-null int64\n",
      "dtypes: float64(23), int64(24), object(9)\n",
      "memory usage: 21.0+ MB\n"
     ]
    }
   ],
   "source": [
    "train_df.describe()\n",
    "train_df.info()"
   ]
  },
  {
   "cell_type": "markdown",
   "metadata": {},
   "source": [
    "\n"
   ]
  },
  {
   "cell_type": "code",
   "execution_count": 70,
   "metadata": {},
   "outputs": [
    {
     "data": {
      "text/plain": [
       "array([['0000abd7518b94c35a90d64b56fbf3e6', 12],\n",
       "       ['001ce808ce1720e24a9510e014c69707', 10],\n",
       "       ['003fc4e9a70053082f131b1054966aaf', 1],\n",
       "       ...,\n",
       "       ['ffb9eceeaa4d60da7b41cc8f0954cd50', 2],\n",
       "       ['ffd3c60281949a5cd806030203a79558', 6],\n",
       "       ['ffd7307e4924587b30ec014a95db1362', 115]], dtype=object)"
      ]
     },
     "execution_count": 70,
     "metadata": {},
     "output_type": "execute_result"
    }
   ],
   "source": [
    "unique, counts = np.unique(train_df.manager_id, return_counts=True)\n",
    "\n",
    "id_dict = np.asarray((unique,counts)).T\n",
    "id_dict"
   ]
  },
  {
   "cell_type": "code",
   "execution_count": 71,
   "metadata": {},
   "outputs": [],
   "source": [
    "id_dic = {}\n",
    "for val in id_dict:\n",
    "    id_dic[val[0]] = val[1]"
   ]
  },
  {
   "cell_type": "code",
   "execution_count": 72,
   "metadata": {},
   "outputs": [
    {
     "data": {
      "text/plain": [
       "2471"
      ]
     },
     "execution_count": 72,
     "metadata": {},
     "output_type": "execute_result"
    }
   ],
   "source": [
    "\n",
    "\n",
    "max(id_dic.values())"
   ]
  },
  {
   "cell_type": "code",
   "execution_count": 73,
   "metadata": {},
   "outputs": [],
   "source": [
    "train_df[\"pos\"] = train_df.longitude.round(3).astype(str) + '' + train_df.latitude.round(3).astype(str)\n",
    "test_df[\"pos\"] = test_df.longitude.round(3).astype(str) + '' + test_df.latitude.round(3).astype(str)\n",
    "\n",
    "vals = train_df['pos'].value_counts()\n",
    "dvals = vals.to_dict()\n",
    "train_df[\"density\"] = train_df['pos'].apply(lambda x: dvals.get(x, vals.min()))\n",
    "test_df[\"density\"] = test_df['pos'].apply(lambda x: dvals.get(x, vals.min()))"
   ]
  },
  {
   "cell_type": "code",
   "execution_count": 74,
   "metadata": {},
   "outputs": [],
   "source": [
    "## TO UPDATE\n",
    "v2_selected_feats = [\"bathrooms\", \"bedrooms\", \"latitude\", \"longitude\", \"price\", \"pet_policy\", \"listing_type\", \n",
    "                     \"unit_features\", \"building_features\", \"apartment\", \"appliance\", \"bathroom\", \"bedroom\",\n",
    "                     \"building\", \"contact\", \"floor\", \"high\", \"kitchen\", \"room\", \"num_photos\", \n",
    "                     \"description_len\", \"mall_distance\", \"dt_distance\", \"managerID_count\", \"buildingID_count\", \n",
    "                    \"weekends\", \"month_4\", \"month_5\", \"created_nights\",\"created_morning\", \"created_afternoon\", \n",
    "                     \"manager_skill\", \"building_interest\", \"density\"]"
   ]
  },
  {
   "cell_type": "code",
   "execution_count": 75,
   "metadata": {},
   "outputs": [],
   "source": [
    "X = train_df[v2_selected_feats]\n",
    "y = train_df[\"interest_level\"]"
   ]
  },
  {
   "cell_type": "code",
   "execution_count": 76,
   "metadata": {},
   "outputs": [],
   "source": [
    "from sklearn.model_selection import KFold\n",
    "from sklearn.preprocessing import MinMaxScaler\n",
    "from sklearn.tree import DecisionTreeClassifier\n",
    "from sklearn.ensemble import RandomForestClassifier"
   ]
  },
  {
   "cell_type": "code",
   "execution_count": 77,
   "metadata": {},
   "outputs": [],
   "source": [
    "scaler = MinMaxScaler(feature_range=(0, 1))\n",
    "X = scaler.fit_transform(X)"
   ]
  },
  {
   "cell_type": "code",
   "execution_count": 78,
   "metadata": {},
   "outputs": [
    {
     "data": {
      "text/plain": [
       "array([[0.1       , 0.125     , 0.27075252, ..., 0.32003647, 0.20208747,\n",
       "        0.01162791],\n",
       "       [0.1       , 0.25      , 0.34930178, ..., 0.43902439, 0.25847084,\n",
       "        0.18023256],\n",
       "       [0.1       , 0.25      , 0.36132661, ..., 0.17046945, 0.19311156,\n",
       "        0.18313953],\n",
       "       ...,\n",
       "       [0.1       , 0.125     , 0.01027929, ..., 0.32003647, 0.20208747,\n",
       "        0.08430233],\n",
       "       [0.1       , 0.25      , 0.33669511, ..., 0.26903178, 0.14917916,\n",
       "        0.04360465],\n",
       "       [0.1       , 0.375     , 0.36501164, ..., 0.71496891, 0.31246253,\n",
       "        0.12790698]])"
      ]
     },
     "execution_count": 78,
     "metadata": {},
     "output_type": "execute_result"
    }
   ],
   "source": [
    "X"
   ]
  },
  {
   "cell_type": "code",
   "execution_count": 79,
   "metadata": {},
   "outputs": [],
   "source": [
    "#Train for decision Tree\n",
    "test_scores = []\n",
    "train_scores = []\n",
    "log_scores = []\n",
    "log_scores_train = []\n",
    "\n",
    "min_leaf_sample_arr = [1, 50, 100, 200, 500] \n",
    "n_estimators_arr = [100, 250, 500, 750, 1000] \n",
    "\n",
    "i = 0\n",
    "cv = KFold(n_splits=5, random_state=42, shuffle=True)\n",
    "for train_index, test_index in cv.split(X):\n",
    "    #min samples default 2, min samples leaf default =1. min weight frac =0 , max feat = 4 \n",
    "    # change max depth, nest, criterion,  min_weight_fraction_leaf = 0.2, \n",
    "    # orig: n_estimators = 100, criterion = \"gini\", max_leaf_nodes = 4, max_features='auto', random_state=0, min_samples_leaf=1, min_samples_split = 2\n",
    "    rfc  = RandomForestClassifier(n_estimators = n_estimators_arr[i],max_leaf_nodes = 20, max_features='sqrt', random_state=0, min_samples_leaf=min_leaf_sample_arr[i], min_samples_split = 5) # max_depth=10, )\n",
    "    i += 1\n",
    "    X_train, X_test, y_train, y_test = X[train_index], X[test_index], y.iloc[train_index], y.iloc[test_index]\n",
    "    rfc.fit(X_train, y_train)\n",
    "    test_scores.append(rfc.score(X_test, y_test))\n",
    "    train_scores.append(rfc.score(X_train, y_train))\n",
    "    y_test_pred = rfc.predict_proba(X_test)\n",
    "    y_train_pred = rfc.predict_proba(X_train)\n",
    "    log_scores.append(log_loss(y_test, y_test_pred))\n",
    "    log_scores_train.append(log_loss(y_train, y_train_pred))\n",
    "    \n",
    "    #when the min sample change, there is pverfitting for small values,\n",
    "    #as the calues grow, the training set does progressively worse in comparison to the test \n",
    "    # use 50 as the number\n",
    "    "
   ]
  },
  {
   "cell_type": "code",
   "execution_count": 80,
   "metadata": {},
   "outputs": [
    {
     "data": {
      "text/plain": [
       "[0.6411221843558614,\n",
       " 0.6404210476778414,\n",
       " 0.6409692858995667,\n",
       " 0.6517529326762964,\n",
       " 0.6408103391342175]"
      ]
     },
     "execution_count": 80,
     "metadata": {},
     "output_type": "execute_result"
    }
   ],
   "source": [
    "log_scores\n"
   ]
  },
  {
   "cell_type": "code",
   "execution_count": 81,
   "metadata": {},
   "outputs": [
    {
     "data": {
      "text/plain": [
       "[0.6400077796102539,\n",
       " 0.6387097774004026,\n",
       " 0.6377005720361435,\n",
       " 0.6379686932423048,\n",
       " 0.6427182413844122]"
      ]
     },
     "execution_count": 81,
     "metadata": {},
     "output_type": "execute_result"
    }
   ],
   "source": [
    "log_scores_train"
   ]
  },
  {
   "cell_type": "code",
   "execution_count": 82,
   "metadata": {},
   "outputs": [
    {
     "data": {
      "text/plain": [
       "array([[0.13204644, 0.50281522, 0.36513834],\n",
       "       [0.1289781 , 0.48892226, 0.38209964],\n",
       "       [0.07283272, 0.66513172, 0.26203556],\n",
       "       ...,\n",
       "       [0.13054582, 0.54942129, 0.32003288],\n",
       "       [0.06271133, 0.66446377, 0.2728249 ],\n",
       "       [0.16164338, 0.43817217, 0.40018444]])"
      ]
     },
     "execution_count": 82,
     "metadata": {},
     "output_type": "execute_result"
    }
   ],
   "source": [
    "y_train_pred\n"
   ]
  },
  {
   "cell_type": "code",
   "execution_count": 83,
   "metadata": {},
   "outputs": [
    {
     "data": {
      "text/plain": [
       "{'high': 0, 'low': 1, 'medium': 2}"
      ]
     },
     "execution_count": 83,
     "metadata": {},
     "output_type": "execute_result"
    }
   ],
   "source": [
    "labels2idx = {label: i for i, label in enumerate(rfc.classes_)}\n",
    "labels2idx"
   ]
  },
  {
   "cell_type": "code",
   "execution_count": null,
   "metadata": {},
   "outputs": [],
   "source": []
  },
  {
   "cell_type": "code",
   "execution_count": 84,
   "metadata": {},
   "outputs": [],
   "source": [
    "X_train, X_val, y_train, y_val = train_test_split(X, y, test_size=0.33)"
   ]
  },
  {
   "cell_type": "code",
   "execution_count": 97,
   "metadata": {},
   "outputs": [
    {
     "data": {
      "text/plain": [
       "0.6493232100193669"
      ]
     },
     "execution_count": 97,
     "metadata": {},
     "output_type": "execute_result"
    }
   ],
   "source": [
    "rfc_test  = RandomForestClassifier(n_estimators = 1000,max_leaf_nodes = 20, max_features='sqrt', random_state=0, min_samples_leaf=500, min_samples_split = 5)\n",
    "rfc_test.fit(X_train, y_train)\n",
    "y_val_pred = rfc_test.predict_proba(X_val)\n",
    "log_loss(y_val, y_val_pred)"
   ]
  },
  {
   "cell_type": "code",
   "execution_count": 87,
   "metadata": {},
   "outputs": [],
   "source": [
    "test_X = test_df[v2_selected_feats]"
   ]
  },
  {
   "cell_type": "code",
   "execution_count": 88,
   "metadata": {},
   "outputs": [],
   "source": [
    "test_X = scaler.fit_transform(test_X)"
   ]
  },
  {
   "cell_type": "code",
   "execution_count": 90,
   "metadata": {},
   "outputs": [],
   "source": [
    "test_y = rfc_test.predict_proba(test_X)"
   ]
  },
  {
   "cell_type": "code",
   "execution_count": 91,
   "metadata": {},
   "outputs": [
    {
     "data": {
      "text/plain": [
       "{'high': 0, 'low': 1, 'medium': 2}"
      ]
     },
     "execution_count": 91,
     "metadata": {},
     "output_type": "execute_result"
    }
   ],
   "source": [
    "labels2idx = {label: i for i, label in enumerate(rfc_test.classes_)}\n",
    "labels2idx"
   ]
  },
  {
   "cell_type": "code",
   "execution_count": 92,
   "metadata": {},
   "outputs": [],
   "source": [
    "sub = pd.DataFrame()\n",
    "sub[\"listing_id\"] = test_df[\"listing_id\"]\n",
    "for label in [\"high\", \"medium\", \"low\"]:\n",
    "    sub[label] = test_y[:, labels2idx[label]]\n",
    "sub.to_csv(r\"C:\\Users\\Giovanni PC\\cmpt459\\data\\submission_m3_rf_v2.csv\", index=False)\n"
   ]
  }
 ],
 "metadata": {
  "kernelspec": {
   "display_name": "Python 3",
   "language": "python",
   "name": "python3"
  },
  "language_info": {
   "codemirror_mode": {
    "name": "ipython",
    "version": 3
   },
   "file_extension": ".py",
   "mimetype": "text/x-python",
   "name": "python",
   "nbconvert_exporter": "python",
   "pygments_lexer": "ipython3",
   "version": "3.7.4"
  }
 },
 "nbformat": 4,
 "nbformat_minor": 4
}
