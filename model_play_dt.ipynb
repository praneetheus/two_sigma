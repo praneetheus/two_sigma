{
 "cells": [
  {
   "cell_type": "code",
   "execution_count": 259,
   "metadata": {},
   "outputs": [
    {
     "name": "stdout",
     "output_type": "stream",
     "text": [
      "Populating the interactive namespace from numpy and matplotlib\n"
     ]
    }
   ],
   "source": [
    "%pylab inline\n",
    "import pandas as pd\n",
    "import seaborn\n",
    "import numpy as np\n",
    "import matplotlib.pyplot as plt\n",
    "import scipy\n",
    "from sklearn.metrics.pairwise import manhattan_distances"
   ]
  },
  {
   "cell_type": "code",
   "execution_count": 260,
   "metadata": {},
   "outputs": [],
   "source": [
    "import sys\n",
    "sys.path.append('/usr/local/lib/python3.7/site-packages')\n",
    "import cv2"
   ]
  },
  {
   "cell_type": "code",
   "execution_count": 261,
   "metadata": {},
   "outputs": [],
   "source": [
    "# from sklearn.ensemble import RandomForestClassifier\n",
    "from sklearn.svm import SVC\n",
    "from sklearn.model_selection import train_test_split\n",
    "from sklearn.metrics import log_loss"
   ]
  },
  {
   "cell_type": "markdown",
   "metadata": {},
   "source": [
    "## TRAINING TIME!"
   ]
  },
  {
   "cell_type": "code",
   "execution_count": 262,
   "metadata": {
    "scrolled": true
   },
   "outputs": [],
   "source": [
    "# new_df.to_json('/Users/Home/Desktop/CMPT 459/MI2/train_fe.json')\n",
    "train_df = pd.read_json(r'C:\\Users\\Giovanni PC\\cmpt459\\data\\final_train_df.json')"
   ]
  },
  {
   "cell_type": "code",
   "execution_count": 263,
   "metadata": {},
   "outputs": [
    {
     "data": {
      "text/html": [
       "<div>\n",
       "<style scoped>\n",
       "    .dataframe tbody tr th:only-of-type {\n",
       "        vertical-align: middle;\n",
       "    }\n",
       "\n",
       "    .dataframe tbody tr th {\n",
       "        vertical-align: top;\n",
       "    }\n",
       "\n",
       "    .dataframe thead th {\n",
       "        text-align: right;\n",
       "    }\n",
       "</style>\n",
       "<table border=\"1\" class=\"dataframe\">\n",
       "  <thead>\n",
       "    <tr style=\"text-align: right;\">\n",
       "      <th></th>\n",
       "      <th>bathrooms</th>\n",
       "      <th>bedrooms</th>\n",
       "      <th>building_id</th>\n",
       "      <th>created</th>\n",
       "      <th>description</th>\n",
       "      <th>display_address</th>\n",
       "      <th>features</th>\n",
       "      <th>latitude</th>\n",
       "      <th>listing_id</th>\n",
       "      <th>longitude</th>\n",
       "      <th>...</th>\n",
       "      <th>floor</th>\n",
       "      <th>high</th>\n",
       "      <th>kitchen</th>\n",
       "      <th>room</th>\n",
       "      <th>mall_distance</th>\n",
       "      <th>created_hour</th>\n",
       "      <th>created_month</th>\n",
       "      <th>created_day</th>\n",
       "      <th>num_photos</th>\n",
       "      <th>description_len</th>\n",
       "    </tr>\n",
       "  </thead>\n",
       "  <tbody>\n",
       "    <tr>\n",
       "      <td>0</td>\n",
       "      <td>1.0</td>\n",
       "      <td>1</td>\n",
       "      <td>8579a0b0d54db803821a35a4a615e97a</td>\n",
       "      <td>1466056527000</td>\n",
       "      <td>Spacious 1 Bedroom 1 Bathroom in Williamsburg!...</td>\n",
       "      <td>145 Borinquen Place</td>\n",
       "      <td>[Dining Room, Pre-War, Laundry in Building, Di...</td>\n",
       "      <td>40.7108</td>\n",
       "      <td>7170325</td>\n",
       "      <td>-73.9539</td>\n",
       "      <td>...</td>\n",
       "      <td>0.110607</td>\n",
       "      <td>0.000000</td>\n",
       "      <td>0.098530</td>\n",
       "      <td>0.000000</td>\n",
       "      <td>0.04995</td>\n",
       "      <td>5</td>\n",
       "      <td>6</td>\n",
       "      <td>16</td>\n",
       "      <td>12</td>\n",
       "      <td>77</td>\n",
       "    </tr>\n",
       "    <tr>\n",
       "      <td>1</td>\n",
       "      <td>1.0</td>\n",
       "      <td>2</td>\n",
       "      <td>b8e75fc949a6cd8225b455648a951712</td>\n",
       "      <td>1464759873000</td>\n",
       "      <td>BRAND NEW GUT RENOVATED TRUE 2 BEDROOMFind you...</td>\n",
       "      <td>East 44th</td>\n",
       "      <td>[Doorman, Elevator, Laundry in Building, Dishw...</td>\n",
       "      <td>40.7513</td>\n",
       "      <td>7092344</td>\n",
       "      <td>-73.9722</td>\n",
       "      <td>...</td>\n",
       "      <td>0.000000</td>\n",
       "      <td>0.109239</td>\n",
       "      <td>0.000000</td>\n",
       "      <td>0.000000</td>\n",
       "      <td>0.01463</td>\n",
       "      <td>5</td>\n",
       "      <td>6</td>\n",
       "      <td>1</td>\n",
       "      <td>6</td>\n",
       "      <td>131</td>\n",
       "    </tr>\n",
       "    <tr>\n",
       "      <td>2</td>\n",
       "      <td>1.0</td>\n",
       "      <td>2</td>\n",
       "      <td>cd759a988b8f23924b5a2058d5ab2b49</td>\n",
       "      <td>1465917599000</td>\n",
       "      <td>**FLEX 2 BEDROOM WITH FULL PRESSURIZED WALL**L...</td>\n",
       "      <td>East 56th Street</td>\n",
       "      <td>[Doorman, Elevator, Laundry in Building, Laund...</td>\n",
       "      <td>40.7575</td>\n",
       "      <td>7158677</td>\n",
       "      <td>-73.9625</td>\n",
       "      <td>...</td>\n",
       "      <td>0.000000</td>\n",
       "      <td>0.000000</td>\n",
       "      <td>0.063995</td>\n",
       "      <td>0.086122</td>\n",
       "      <td>0.01813</td>\n",
       "      <td>15</td>\n",
       "      <td>6</td>\n",
       "      <td>14</td>\n",
       "      <td>6</td>\n",
       "      <td>119</td>\n",
       "    </tr>\n",
       "    <tr>\n",
       "      <td>3</td>\n",
       "      <td>1.5</td>\n",
       "      <td>3</td>\n",
       "      <td>53a5b119ba8f7b61d4e010512e0dfc85</td>\n",
       "      <td>1466754864000</td>\n",
       "      <td>A Brand New 3 Bedroom 1.5 bath ApartmentEnjoy ...</td>\n",
       "      <td>Metropolitan Avenue</td>\n",
       "      <td>[]</td>\n",
       "      <td>40.7145</td>\n",
       "      <td>7211212</td>\n",
       "      <td>-73.9425</td>\n",
       "      <td>...</td>\n",
       "      <td>0.085758</td>\n",
       "      <td>0.000000</td>\n",
       "      <td>0.076394</td>\n",
       "      <td>0.205618</td>\n",
       "      <td>0.06505</td>\n",
       "      <td>7</td>\n",
       "      <td>6</td>\n",
       "      <td>24</td>\n",
       "      <td>5</td>\n",
       "      <td>95</td>\n",
       "    </tr>\n",
       "    <tr>\n",
       "      <td>4</td>\n",
       "      <td>1.0</td>\n",
       "      <td>0</td>\n",
       "      <td>bfb9405149bfff42a92980b594c28234</td>\n",
       "      <td>1467085823000</td>\n",
       "      <td>Over-sized Studio w abundant closets. Availabl...</td>\n",
       "      <td>East 34th Street</td>\n",
       "      <td>[Doorman, Elevator, Fitness Center, Laundry in...</td>\n",
       "      <td>40.7439</td>\n",
       "      <td>7225292</td>\n",
       "      <td>-73.9743</td>\n",
       "      <td>...</td>\n",
       "      <td>0.000000</td>\n",
       "      <td>0.000000</td>\n",
       "      <td>0.000000</td>\n",
       "      <td>0.000000</td>\n",
       "      <td>0.01993</td>\n",
       "      <td>3</td>\n",
       "      <td>6</td>\n",
       "      <td>28</td>\n",
       "      <td>4</td>\n",
       "      <td>41</td>\n",
       "    </tr>\n",
       "    <tr>\n",
       "      <td>...</td>\n",
       "      <td>...</td>\n",
       "      <td>...</td>\n",
       "      <td>...</td>\n",
       "      <td>...</td>\n",
       "      <td>...</td>\n",
       "      <td>...</td>\n",
       "      <td>...</td>\n",
       "      <td>...</td>\n",
       "      <td>...</td>\n",
       "      <td>...</td>\n",
       "      <td>...</td>\n",
       "      <td>...</td>\n",
       "      <td>...</td>\n",
       "      <td>...</td>\n",
       "      <td>...</td>\n",
       "      <td>...</td>\n",
       "      <td>...</td>\n",
       "      <td>...</td>\n",
       "      <td>...</td>\n",
       "      <td>...</td>\n",
       "      <td>...</td>\n",
       "    </tr>\n",
       "    <tr>\n",
       "      <td>48324</td>\n",
       "      <td>1.0</td>\n",
       "      <td>3</td>\n",
       "      <td>92bbbf38baadfde0576fc496bd41749c</td>\n",
       "      <td>1459828713000</td>\n",
       "      <td>There is 700 square feet of recently renovated...</td>\n",
       "      <td>W 171 Street</td>\n",
       "      <td>[Elevator, Dishwasher, Hardwood Floors]</td>\n",
       "      <td>40.8433</td>\n",
       "      <td>6824800</td>\n",
       "      <td>-73.9396</td>\n",
       "      <td>...</td>\n",
       "      <td>0.071316</td>\n",
       "      <td>0.000000</td>\n",
       "      <td>0.063529</td>\n",
       "      <td>0.000000</td>\n",
       "      <td>0.03042</td>\n",
       "      <td>3</td>\n",
       "      <td>4</td>\n",
       "      <td>5</td>\n",
       "      <td>5</td>\n",
       "      <td>131</td>\n",
       "    </tr>\n",
       "    <tr>\n",
       "      <td>48325</td>\n",
       "      <td>1.0</td>\n",
       "      <td>2</td>\n",
       "      <td>5565db9b7cba3603834c4aa6f2950960</td>\n",
       "      <td>1459563931000</td>\n",
       "      <td>2 bedroom apartment with updated kitchen, rece...</td>\n",
       "      <td>Broadway</td>\n",
       "      <td>[Common Outdoor Space, Cats Allowed, Dogs Allo...</td>\n",
       "      <td>40.8198</td>\n",
       "      <td>6813268</td>\n",
       "      <td>-73.9578</td>\n",
       "      <td>...</td>\n",
       "      <td>0.000000</td>\n",
       "      <td>0.000000</td>\n",
       "      <td>0.104327</td>\n",
       "      <td>0.000000</td>\n",
       "      <td>0.02884</td>\n",
       "      <td>2</td>\n",
       "      <td>4</td>\n",
       "      <td>2</td>\n",
       "      <td>5</td>\n",
       "      <td>70</td>\n",
       "    </tr>\n",
       "    <tr>\n",
       "      <td>48326</td>\n",
       "      <td>1.0</td>\n",
       "      <td>1</td>\n",
       "      <td>67997a128056ee1ed7d046bbb856e3c7</td>\n",
       "      <td>1461649323000</td>\n",
       "      <td>No Brokers Fee * Never Lived 1 Bedroom 1 Bathr...</td>\n",
       "      <td>210 Brighton 15th St</td>\n",
       "      <td>[Dining Room, Elevator, Pre-War, Laundry in Bu...</td>\n",
       "      <td>40.5765</td>\n",
       "      <td>6927093</td>\n",
       "      <td>-73.9554</td>\n",
       "      <td>...</td>\n",
       "      <td>0.000000</td>\n",
       "      <td>0.000000</td>\n",
       "      <td>0.000000</td>\n",
       "      <td>0.000000</td>\n",
       "      <td>0.09354</td>\n",
       "      <td>5</td>\n",
       "      <td>4</td>\n",
       "      <td>26</td>\n",
       "      <td>3</td>\n",
       "      <td>81</td>\n",
       "    </tr>\n",
       "    <tr>\n",
       "      <td>48327</td>\n",
       "      <td>1.0</td>\n",
       "      <td>2</td>\n",
       "      <td>3c0574a740154806c18bdf1fddd3d966</td>\n",
       "      <td>1461034053000</td>\n",
       "      <td>Wonderful Bright Chelsea 2 Bedroom apartment o...</td>\n",
       "      <td>West 21st Street</td>\n",
       "      <td>[Pre-War, Laundry in Unit, Dishwasher, No Fee,...</td>\n",
       "      <td>40.7448</td>\n",
       "      <td>6892816</td>\n",
       "      <td>-74.0017</td>\n",
       "      <td>...</td>\n",
       "      <td>0.080766</td>\n",
       "      <td>0.000000</td>\n",
       "      <td>0.071947</td>\n",
       "      <td>0.000000</td>\n",
       "      <td>0.00671</td>\n",
       "      <td>2</td>\n",
       "      <td>4</td>\n",
       "      <td>19</td>\n",
       "      <td>5</td>\n",
       "      <td>118</td>\n",
       "    </tr>\n",
       "    <tr>\n",
       "      <td>48328</td>\n",
       "      <td>1.0</td>\n",
       "      <td>3</td>\n",
       "      <td>d89f514c3ed0abaae52cba7017ac0701</td>\n",
       "      <td>1461130440000</td>\n",
       "      <td>***PRIME MIDTOWN EAST OFF PARK AVE***TRUE 3 BE...</td>\n",
       "      <td>E 54th St</td>\n",
       "      <td>[Dining Room, Elevator, Laundry in Building, D...</td>\n",
       "      <td>40.7594</td>\n",
       "      <td>6901023</td>\n",
       "      <td>-73.9712</td>\n",
       "      <td>...</td>\n",
       "      <td>0.000000</td>\n",
       "      <td>0.000000</td>\n",
       "      <td>0.099192</td>\n",
       "      <td>0.000000</td>\n",
       "      <td>0.00845</td>\n",
       "      <td>5</td>\n",
       "      <td>4</td>\n",
       "      <td>20</td>\n",
       "      <td>8</td>\n",
       "      <td>58</td>\n",
       "    </tr>\n",
       "  </tbody>\n",
       "</table>\n",
       "<p>48329 rows × 36 columns</p>\n",
       "</div>"
      ],
      "text/plain": [
       "       bathrooms  bedrooms                       building_id        created  \\\n",
       "0            1.0         1  8579a0b0d54db803821a35a4a615e97a  1466056527000   \n",
       "1            1.0         2  b8e75fc949a6cd8225b455648a951712  1464759873000   \n",
       "2            1.0         2  cd759a988b8f23924b5a2058d5ab2b49  1465917599000   \n",
       "3            1.5         3  53a5b119ba8f7b61d4e010512e0dfc85  1466754864000   \n",
       "4            1.0         0  bfb9405149bfff42a92980b594c28234  1467085823000   \n",
       "...          ...       ...                               ...            ...   \n",
       "48324        1.0         3  92bbbf38baadfde0576fc496bd41749c  1459828713000   \n",
       "48325        1.0         2  5565db9b7cba3603834c4aa6f2950960  1459563931000   \n",
       "48326        1.0         1  67997a128056ee1ed7d046bbb856e3c7  1461649323000   \n",
       "48327        1.0         2  3c0574a740154806c18bdf1fddd3d966  1461034053000   \n",
       "48328        1.0         3  d89f514c3ed0abaae52cba7017ac0701  1461130440000   \n",
       "\n",
       "                                             description  \\\n",
       "0      Spacious 1 Bedroom 1 Bathroom in Williamsburg!...   \n",
       "1      BRAND NEW GUT RENOVATED TRUE 2 BEDROOMFind you...   \n",
       "2      **FLEX 2 BEDROOM WITH FULL PRESSURIZED WALL**L...   \n",
       "3      A Brand New 3 Bedroom 1.5 bath ApartmentEnjoy ...   \n",
       "4      Over-sized Studio w abundant closets. Availabl...   \n",
       "...                                                  ...   \n",
       "48324  There is 700 square feet of recently renovated...   \n",
       "48325  2 bedroom apartment with updated kitchen, rece...   \n",
       "48326  No Brokers Fee * Never Lived 1 Bedroom 1 Bathr...   \n",
       "48327  Wonderful Bright Chelsea 2 Bedroom apartment o...   \n",
       "48328  ***PRIME MIDTOWN EAST OFF PARK AVE***TRUE 3 BE...   \n",
       "\n",
       "            display_address  \\\n",
       "0       145 Borinquen Place   \n",
       "1                 East 44th   \n",
       "2          East 56th Street   \n",
       "3       Metropolitan Avenue   \n",
       "4          East 34th Street   \n",
       "...                     ...   \n",
       "48324          W 171 Street   \n",
       "48325              Broadway   \n",
       "48326  210 Brighton 15th St   \n",
       "48327      West 21st Street   \n",
       "48328             E 54th St   \n",
       "\n",
       "                                                features  latitude  \\\n",
       "0      [Dining Room, Pre-War, Laundry in Building, Di...   40.7108   \n",
       "1      [Doorman, Elevator, Laundry in Building, Dishw...   40.7513   \n",
       "2      [Doorman, Elevator, Laundry in Building, Laund...   40.7575   \n",
       "3                                                     []   40.7145   \n",
       "4      [Doorman, Elevator, Fitness Center, Laundry in...   40.7439   \n",
       "...                                                  ...       ...   \n",
       "48324            [Elevator, Dishwasher, Hardwood Floors]   40.8433   \n",
       "48325  [Common Outdoor Space, Cats Allowed, Dogs Allo...   40.8198   \n",
       "48326  [Dining Room, Elevator, Pre-War, Laundry in Bu...   40.5765   \n",
       "48327  [Pre-War, Laundry in Unit, Dishwasher, No Fee,...   40.7448   \n",
       "48328  [Dining Room, Elevator, Laundry in Building, D...   40.7594   \n",
       "\n",
       "       listing_id  longitude  ...     floor      high   kitchen      room  \\\n",
       "0         7170325   -73.9539  ...  0.110607  0.000000  0.098530  0.000000   \n",
       "1         7092344   -73.9722  ...  0.000000  0.109239  0.000000  0.000000   \n",
       "2         7158677   -73.9625  ...  0.000000  0.000000  0.063995  0.086122   \n",
       "3         7211212   -73.9425  ...  0.085758  0.000000  0.076394  0.205618   \n",
       "4         7225292   -73.9743  ...  0.000000  0.000000  0.000000  0.000000   \n",
       "...           ...        ...  ...       ...       ...       ...       ...   \n",
       "48324     6824800   -73.9396  ...  0.071316  0.000000  0.063529  0.000000   \n",
       "48325     6813268   -73.9578  ...  0.000000  0.000000  0.104327  0.000000   \n",
       "48326     6927093   -73.9554  ...  0.000000  0.000000  0.000000  0.000000   \n",
       "48327     6892816   -74.0017  ...  0.080766  0.000000  0.071947  0.000000   \n",
       "48328     6901023   -73.9712  ...  0.000000  0.000000  0.099192  0.000000   \n",
       "\n",
       "      mall_distance created_hour  created_month  created_day  num_photos  \\\n",
       "0           0.04995            5              6           16          12   \n",
       "1           0.01463            5              6            1           6   \n",
       "2           0.01813           15              6           14           6   \n",
       "3           0.06505            7              6           24           5   \n",
       "4           0.01993            3              6           28           4   \n",
       "...             ...          ...            ...          ...         ...   \n",
       "48324       0.03042            3              4            5           5   \n",
       "48325       0.02884            2              4            2           5   \n",
       "48326       0.09354            5              4           26           3   \n",
       "48327       0.00671            2              4           19           5   \n",
       "48328       0.00845            5              4           20           8   \n",
       "\n",
       "       description_len  \n",
       "0                   77  \n",
       "1                  131  \n",
       "2                  119  \n",
       "3                   95  \n",
       "4                   41  \n",
       "...                ...  \n",
       "48324              131  \n",
       "48325               70  \n",
       "48326               81  \n",
       "48327              118  \n",
       "48328               58  \n",
       "\n",
       "[48329 rows x 36 columns]"
      ]
     },
     "execution_count": 263,
     "metadata": {},
     "output_type": "execute_result"
    }
   ],
   "source": [
    "train_df"
   ]
  },
  {
   "cell_type": "code",
   "execution_count": 264,
   "metadata": {},
   "outputs": [
    {
     "name": "stdout",
     "output_type": "stream",
     "text": [
      "<class 'pandas.core.frame.DataFrame'>\n",
      "Int64Index: 48329 entries, 0 to 48328\n",
      "Data columns (total 36 columns):\n",
      "bathrooms            48329 non-null float64\n",
      "bedrooms             48329 non-null int64\n",
      "building_id          48329 non-null object\n",
      "created              48329 non-null int64\n",
      "description          48329 non-null object\n",
      "display_address      48329 non-null object\n",
      "features             48329 non-null object\n",
      "latitude             48329 non-null float64\n",
      "listing_id           48329 non-null int64\n",
      "longitude            48329 non-null float64\n",
      "manager_id           48329 non-null object\n",
      "photos               48329 non-null object\n",
      "price                48329 non-null int64\n",
      "street_address       48329 non-null object\n",
      "interest_level       48329 non-null object\n",
      "dt_distance          48329 non-null object\n",
      "pet_policy           48329 non-null int64\n",
      "listing_type         48329 non-null int64\n",
      "unit_features        48329 non-null int64\n",
      "building_features    48329 non-null int64\n",
      "apartment            48329 non-null float64\n",
      "appliance            48329 non-null float64\n",
      "bathroom             48329 non-null float64\n",
      "bedroom              48329 non-null float64\n",
      "building             48329 non-null float64\n",
      "contact              48329 non-null float64\n",
      "floor                48329 non-null float64\n",
      "high                 48329 non-null float64\n",
      "kitchen              48329 non-null float64\n",
      "room                 48329 non-null float64\n",
      "mall_distance        48329 non-null float64\n",
      "created_hour         48329 non-null int64\n",
      "created_month        48329 non-null int64\n",
      "created_day          48329 non-null int64\n",
      "num_photos           48329 non-null int64\n",
      "description_len      48329 non-null int64\n",
      "dtypes: float64(14), int64(13), object(9)\n",
      "memory usage: 13.6+ MB\n"
     ]
    }
   ],
   "source": [
    "train_df.describe()\n",
    "train_df.info()"
   ]
  },
  {
   "cell_type": "markdown",
   "metadata": {},
   "source": [
    "\n"
   ]
  },
  {
   "cell_type": "code",
   "execution_count": 265,
   "metadata": {},
   "outputs": [
    {
     "data": {
      "text/plain": [
       "0    0.0569\n",
       "1    0.0589\n",
       "2    0.0748\n",
       "3    0.0646\n",
       "4    0.0494\n",
       "Name: dt_distance, dtype: float64"
      ]
     },
     "execution_count": 265,
     "metadata": {},
     "output_type": "execute_result"
    }
   ],
   "source": [
    "# New section\n",
    "downtown = [40.7209, -74.0007]\n",
    "\n",
    "def man_distances(row):\n",
    "    dist = manhattan_distances([[row.latitude, row.longitude]], [downtown])\n",
    "    return dist[0][0]\n",
    "\n",
    "\n",
    "train_df['dt_distance'] = train_df.apply(lambda row: man_distances(row), axis=1)\n",
    "train_df.dt_distance.head()"
   ]
  },
  {
   "cell_type": "code",
   "execution_count": 266,
   "metadata": {},
   "outputs": [],
   "source": [
    "selected_feats = [\"bathrooms\", \"bedrooms\", \"latitude\", \"longitude\", \"price\",\n",
    "                  \"dt_distance\", \"pet_policy\", \"listing_type\", \"unit_features\", \"building_features\", \"apartment\",\n",
    "                  \"appliance\", \"bathroom\", \"bedroom\", \"building\", \"contact\", \"floor\", \"high\", \"kitchen\", \"room\", \n",
    "                  \"mall_distance\", \"created_hour\", \"created_month\", \"created_day\", \"num_photos\", \"description_len\"]"
   ]
  },
  {
   "cell_type": "code",
   "execution_count": 267,
   "metadata": {},
   "outputs": [],
   "source": [
    "X = train_df[selected_feats]\n",
    "y = train_df[\"interest_level\"]"
   ]
  },
  {
   "cell_type": "code",
   "execution_count": 268,
   "metadata": {},
   "outputs": [],
   "source": [
    "from sklearn.model_selection import KFold\n",
    "from sklearn.preprocessing import MinMaxScaler\n",
    "from sklearn.tree import DecisionTreeClassifier"
   ]
  },
  {
   "cell_type": "code",
   "execution_count": 269,
   "metadata": {},
   "outputs": [],
   "source": [
    "scaler = MinMaxScaler(feature_range=(0, 1))\n",
    "X = scaler.fit_transform(X)"
   ]
  },
  {
   "cell_type": "code",
   "execution_count": 270,
   "metadata": {},
   "outputs": [
    {
     "data": {
      "text/plain": [
       "array([[0.1       , 0.125     , 0.27075252, ..., 0.5       , 0.17647059,\n",
       "        0.11411411],\n",
       "       [0.1       , 0.25      , 0.34930178, ..., 0.        , 0.08823529,\n",
       "        0.1951952 ],\n",
       "       [0.1       , 0.25      , 0.36132661, ..., 0.43333333, 0.08823529,\n",
       "        0.17717718],\n",
       "       ...,\n",
       "       [0.1       , 0.125     , 0.01027929, ..., 0.83333333, 0.04411765,\n",
       "        0.12012012],\n",
       "       [0.1       , 0.25      , 0.33669511, ..., 0.6       , 0.07352941,\n",
       "        0.17567568],\n",
       "       [0.1       , 0.375     , 0.36501164, ..., 0.63333333, 0.11764706,\n",
       "        0.08558559]])"
      ]
     },
     "execution_count": 270,
     "metadata": {},
     "output_type": "execute_result"
    }
   ],
   "source": [
    "X"
   ]
  },
  {
   "cell_type": "code",
   "execution_count": 271,
   "metadata": {},
   "outputs": [],
   "source": [
    "#Train for decision Tree\n",
    "test_scores = []\n",
    "train_scores = []\n",
    "log_scores = []\n",
    "log_scores_train = []\n",
    "\n",
    "min_sample_arr = [1, 50, 100, 200, 500] \n",
    "\n",
    "i = 0\n",
    "cv = KFold(n_splits=5, random_state=42, shuffle=True)\n",
    "for train_index, test_index in cv.split(X):\n",
    "    dectree  = DecisionTreeClassifier(splitter='random', max_features='sqrt', random_state=0, min_samples_leaf=min_sample_arr[i], max_depth=10)\n",
    "    i += 1\n",
    "    X_train, X_test, y_train, y_test = X[train_index], X[test_index], y.iloc[train_index], y.iloc[test_index]\n",
    "    dectree.fit(X_train, y_train)\n",
    "    test_scores.append(dectree.score(X_test, y_test))\n",
    "    train_scores.append(dectree.score(X_train, y_train))\n",
    "    y_test_pred = dectree.predict_proba(X_test)\n",
    "    y_train_pred = dectree.predict_proba(X_train)\n",
    "    log_scores.append(log_loss(y_test, y_test_pred))\n",
    "    log_scores_train.append(log_loss(y_train, y_train_pred))\n",
    "    \n",
    "    #when the min sample change, there is pverfitting for small values,\n",
    "    #as the calues grow, the training set does progressively worse in comparison to the test \n",
    "    # use 50 as the number\n",
    "    "
   ]
  },
  {
   "cell_type": "code",
   "execution_count": 272,
   "metadata": {},
   "outputs": [
    {
     "data": {
      "text/plain": [
       "[0.8974916722462367,\n",
       " 0.7496315236517167,\n",
       " 0.7307054020817676,\n",
       " 0.763572054013412,\n",
       " 0.7596309960637618]"
      ]
     },
     "execution_count": 272,
     "metadata": {},
     "output_type": "execute_result"
    }
   ],
   "source": [
    "log_scores\n"
   ]
  },
  {
   "cell_type": "code",
   "execution_count": 273,
   "metadata": {},
   "outputs": [
    {
     "data": {
      "text/plain": [
       "[0.7240336477013386,\n",
       " 0.7263551512257378,\n",
       " 0.7361892272645845,\n",
       " 0.7459331861570265,\n",
       " 0.763558545341905]"
      ]
     },
     "execution_count": 273,
     "metadata": {},
     "output_type": "execute_result"
    }
   ],
   "source": [
    "log_scores_train"
   ]
  },
  {
   "cell_type": "code",
   "execution_count": 274,
   "metadata": {},
   "outputs": [
    {
     "data": {
      "text/plain": [
       "array([[0.08130224, 0.66869042, 0.25000733],\n",
       "       [0.08130224, 0.66869042, 0.25000733],\n",
       "       [0.08130224, 0.66869042, 0.25000733],\n",
       "       ...,\n",
       "       [0.08130224, 0.66869042, 0.25000733],\n",
       "       [0.08130224, 0.66869042, 0.25000733],\n",
       "       [0.08130224, 0.66869042, 0.25000733]])"
      ]
     },
     "execution_count": 274,
     "metadata": {},
     "output_type": "execute_result"
    }
   ],
   "source": [
    "y_train_pred\n"
   ]
  },
  {
   "cell_type": "code",
   "execution_count": 275,
   "metadata": {},
   "outputs": [
    {
     "data": {
      "text/plain": [
       "{'high': 0, 'low': 1, 'medium': 2}"
      ]
     },
     "execution_count": 275,
     "metadata": {},
     "output_type": "execute_result"
    }
   ],
   "source": [
    "labels2idx = {label: i for i, label in enumerate(dectree.classes_)}\n",
    "labels2idx"
   ]
  },
  {
   "cell_type": "code",
   "execution_count": 276,
   "metadata": {},
   "outputs": [],
   "source": [
    "# new_df.to_json('/Users/Home/Desktop/CMPT 459/MI2/train_fe.json')\n",
    "test_df = pd.read_json(r'C:\\Users\\Giovanni PC\\cmpt459\\data\\final_test.json')"
   ]
  },
  {
   "cell_type": "code",
   "execution_count": 277,
   "metadata": {},
   "outputs": [],
   "source": [
    "X_train, X_val, y_train, y_val = train_test_split(X, y, test_size=0.33)"
   ]
  },
  {
   "cell_type": "code",
   "execution_count": 278,
   "metadata": {},
   "outputs": [
    {
     "data": {
      "text/plain": [
       "0.746840501859756"
      ]
     },
     "execution_count": 278,
     "metadata": {},
     "output_type": "execute_result"
    }
   ],
   "source": [
    "dectree  = DecisionTreeClassifier(splitter='random', max_features='sqrt', random_state=0, min_samples_leaf=200, max_depth=10)\n",
    "dectree.fit(X_train, y_train)\n",
    "y_val_pred = dectree.predict_proba(X_val)\n",
    "log_loss(y_val, y_val_pred)"
   ]
  },
  {
   "cell_type": "code",
   "execution_count": 279,
   "metadata": {},
   "outputs": [],
   "source": [
    "test_X = test_df[selected_feats]"
   ]
  },
  {
   "cell_type": "code",
   "execution_count": 280,
   "metadata": {},
   "outputs": [],
   "source": [
    "test_X = scaler.fit_transform(test_X)"
   ]
  },
  {
   "cell_type": "code",
   "execution_count": 281,
   "metadata": {},
   "outputs": [],
   "source": [
    "test_y = dectree.predict_proba(test_X)"
   ]
  },
  {
   "cell_type": "code",
   "execution_count": 282,
   "metadata": {},
   "outputs": [
    {
     "data": {
      "text/plain": [
       "{'high': 0, 'low': 1, 'medium': 2}"
      ]
     },
     "execution_count": 282,
     "metadata": {},
     "output_type": "execute_result"
    }
   ],
   "source": [
    "labels2idx = {label: i for i, label in enumerate(dectree.classes_)}\n",
    "labels2idx"
   ]
  },
  {
   "cell_type": "code",
   "execution_count": 283,
   "metadata": {},
   "outputs": [],
   "source": [
    "sub = pd.DataFrame()\n",
    "sub[\"listing_id\"] = test_df[\"listing_id\"]\n",
    "for label in [\"high\", \"medium\", \"low\"]:\n",
    "    sub[label] = test_y[:, labels2idx[label]]\n",
    "sub.to_csv(r\"C:\\Users\\Giovanni PC\\cmpt459\\data\\submission_dt.csv\", index=False)\n"
   ]
  }
 ],
 "metadata": {
  "kernelspec": {
   "display_name": "Python 3",
   "language": "python",
   "name": "python3"
  },
  "language_info": {
   "codemirror_mode": {
    "name": "ipython",
    "version": 3
   },
   "file_extension": ".py",
   "mimetype": "text/x-python",
   "name": "python",
   "nbconvert_exporter": "python",
   "pygments_lexer": "ipython3",
   "version": "3.7.4"
  }
 },
 "nbformat": 4,
 "nbformat_minor": 4
}
