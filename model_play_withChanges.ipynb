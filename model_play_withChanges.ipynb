{
 "cells": [
  {
   "cell_type": "code",
   "execution_count": 1,
   "metadata": {},
   "outputs": [
    {
     "name": "stdout",
     "output_type": "stream",
     "text": [
      "Populating the interactive namespace from numpy and matplotlib\n"
     ]
    }
   ],
   "source": [
    "%pylab inline\n",
    "import pandas as pd\n",
    "import seaborn\n",
    "import numpy as np\n",
    "import matplotlib.pyplot as plt\n",
    "import scipy"
   ]
  },
  {
   "cell_type": "code",
   "execution_count": 2,
   "metadata": {},
   "outputs": [],
   "source": [
    "import cv2\n",
    "import nltk\n",
    "import string\n",
    "from collections import defaultdict\n",
    "from collections import Counter\n",
    "from sklearn.feature_extraction.text import TfidfVectorizer\n",
    "from nltk.corpus import stopwords\n",
    "from nltk.tokenize import RegexpTokenizer\n",
    "from nltk.stem import WordNetLemmatizer\n",
    "from nltk.stem.porter import PorterStemmer"
   ]
  },
  {
   "cell_type": "code",
   "execution_count": 2,
   "metadata": {},
   "outputs": [],
   "source": [
    "import sys\n",
    "sys.path.append('/usr/local/lib/python3.7/site-packages')\n",
    "import cv2"
   ]
  },
  {
   "cell_type": "code",
   "execution_count": 3,
   "metadata": {},
   "outputs": [],
   "source": [
    "# from sklearn.ensemble import RandomForestClassifier\n",
    "from sklearn.svm import SVC\n",
    "from sklearn.model_selection import train_test_split\n",
    "from sklearn.metrics import log_loss"
   ]
  },
  {
   "cell_type": "code",
   "execution_count": 4,
   "metadata": {},
   "outputs": [],
   "source": [
    "# df = pd.read_json('/Users/Home/Desktop/CMPT 459/projectDataset/train.json')"
   ]
  },
  {
   "cell_type": "code",
   "execution_count": 161,
   "metadata": {},
   "outputs": [],
   "source": [
    "feat_df = pd.read_json(r'C:\\Users\\HP\\Documents\\cmpt 459 Kaggle\\two_sigma\\trainTilltemp3_model_play.json')"
   ]
  },
  {
   "cell_type": "code",
   "execution_count": 5,
   "metadata": {},
   "outputs": [
    {
     "name": "stdout",
     "output_type": "stream",
     "text": [
      "(49352, 15)\n"
     ]
    }
   ],
   "source": [
    "print(df.shape)"
   ]
  },
  {
   "cell_type": "code",
   "execution_count": 6,
   "metadata": {},
   "outputs": [
    {
     "data": {
      "text/html": [
       "<div>\n",
       "<style scoped>\n",
       "    .dataframe tbody tr th:only-of-type {\n",
       "        vertical-align: middle;\n",
       "    }\n",
       "\n",
       "    .dataframe tbody tr th {\n",
       "        vertical-align: top;\n",
       "    }\n",
       "\n",
       "    .dataframe thead th {\n",
       "        text-align: right;\n",
       "    }\n",
       "</style>\n",
       "<table border=\"1\" class=\"dataframe\">\n",
       "  <thead>\n",
       "    <tr style=\"text-align: right;\">\n",
       "      <th></th>\n",
       "      <th>bathrooms</th>\n",
       "      <th>bedrooms</th>\n",
       "      <th>building_id</th>\n",
       "      <th>created</th>\n",
       "      <th>description</th>\n",
       "      <th>display_address</th>\n",
       "      <th>features</th>\n",
       "      <th>latitude</th>\n",
       "      <th>listing_id</th>\n",
       "      <th>longitude</th>\n",
       "      <th>manager_id</th>\n",
       "      <th>photos</th>\n",
       "      <th>price</th>\n",
       "      <th>street_address</th>\n",
       "      <th>interest_level</th>\n",
       "    </tr>\n",
       "  </thead>\n",
       "  <tbody>\n",
       "    <tr>\n",
       "      <th>124000</th>\n",
       "      <td>1.0</td>\n",
       "      <td>3</td>\n",
       "      <td>92bbbf38baadfde0576fc496bd41749c</td>\n",
       "      <td>2016-04-05 03:58:33</td>\n",
       "      <td>There is 700 square feet of recently renovated...</td>\n",
       "      <td>W 171 Street</td>\n",
       "      <td>[Elevator, Dishwasher, Hardwood Floors]</td>\n",
       "      <td>40.8433</td>\n",
       "      <td>6824800</td>\n",
       "      <td>-73.9396</td>\n",
       "      <td>a61e21da3ba18c7a3d54cfdcc247e1f8</td>\n",
       "      <td>[https://photos.renthop.com/2/6824800_0682be16...</td>\n",
       "      <td>2800</td>\n",
       "      <td>620 W 171 Street</td>\n",
       "      <td>low</td>\n",
       "    </tr>\n",
       "    <tr>\n",
       "      <th>124002</th>\n",
       "      <td>1.0</td>\n",
       "      <td>2</td>\n",
       "      <td>5565db9b7cba3603834c4aa6f2950960</td>\n",
       "      <td>2016-04-02 02:25:31</td>\n",
       "      <td>2 bedroom apartment with updated kitchen, rece...</td>\n",
       "      <td>Broadway</td>\n",
       "      <td>[Common Outdoor Space, Cats Allowed, Dogs Allo...</td>\n",
       "      <td>40.8198</td>\n",
       "      <td>6813268</td>\n",
       "      <td>-73.9578</td>\n",
       "      <td>8f90e5e10e8a2d7cf997f016d89230eb</td>\n",
       "      <td>[https://photos.renthop.com/2/6813268_1e6fcc32...</td>\n",
       "      <td>2395</td>\n",
       "      <td>3333 Broadway</td>\n",
       "      <td>medium</td>\n",
       "    </tr>\n",
       "    <tr>\n",
       "      <th>124004</th>\n",
       "      <td>1.0</td>\n",
       "      <td>1</td>\n",
       "      <td>67997a128056ee1ed7d046bbb856e3c7</td>\n",
       "      <td>2016-04-26 05:42:03</td>\n",
       "      <td>No Brokers Fee * Never Lived 1 Bedroom 1 Bathr...</td>\n",
       "      <td>210 Brighton 15th St</td>\n",
       "      <td>[Dining Room, Elevator, Pre-War, Laundry in Bu...</td>\n",
       "      <td>40.5765</td>\n",
       "      <td>6927093</td>\n",
       "      <td>-73.9554</td>\n",
       "      <td>a10db4590843d78c784171a107bdacb4</td>\n",
       "      <td>[https://photos.renthop.com/2/6927093_93a52104...</td>\n",
       "      <td>1850</td>\n",
       "      <td>210 Brighton 15th St</td>\n",
       "      <td>medium</td>\n",
       "    </tr>\n",
       "    <tr>\n",
       "      <th>124008</th>\n",
       "      <td>1.0</td>\n",
       "      <td>2</td>\n",
       "      <td>3c0574a740154806c18bdf1fddd3d966</td>\n",
       "      <td>2016-04-19 02:47:33</td>\n",
       "      <td>Wonderful Bright Chelsea 2 Bedroom apartment o...</td>\n",
       "      <td>West 21st Street</td>\n",
       "      <td>[Pre-War, Laundry in Unit, Dishwasher, No Fee,...</td>\n",
       "      <td>40.7448</td>\n",
       "      <td>6892816</td>\n",
       "      <td>-74.0017</td>\n",
       "      <td>c3cd45f4381ac371507090e9ffabea80</td>\n",
       "      <td>[https://photos.renthop.com/2/6892816_1a8d087a...</td>\n",
       "      <td>4195</td>\n",
       "      <td>350 West 21st Street</td>\n",
       "      <td>medium</td>\n",
       "    </tr>\n",
       "    <tr>\n",
       "      <th>124009</th>\n",
       "      <td>1.0</td>\n",
       "      <td>3</td>\n",
       "      <td>d89f514c3ed0abaae52cba7017ac0701</td>\n",
       "      <td>2016-04-20 05:34:00</td>\n",
       "      <td>***PRIME MIDTOWN EAST OFF PARK AVE***TRUE 3 BE...</td>\n",
       "      <td>E 54th St</td>\n",
       "      <td>[Dining Room, Elevator, Laundry in Building, D...</td>\n",
       "      <td>40.7594</td>\n",
       "      <td>6901023</td>\n",
       "      <td>-73.9712</td>\n",
       "      <td>e90f2ded843cdb2efd65ef47d9fc8029</td>\n",
       "      <td>[https://photos.renthop.com/2/6901023_02052d90...</td>\n",
       "      <td>4280</td>\n",
       "      <td>123 E 54th St</td>\n",
       "      <td>high</td>\n",
       "    </tr>\n",
       "  </tbody>\n",
       "</table>\n",
       "</div>"
      ],
      "text/plain": [
       "        bathrooms  bedrooms                       building_id  \\\n",
       "124000        1.0         3  92bbbf38baadfde0576fc496bd41749c   \n",
       "124002        1.0         2  5565db9b7cba3603834c4aa6f2950960   \n",
       "124004        1.0         1  67997a128056ee1ed7d046bbb856e3c7   \n",
       "124008        1.0         2  3c0574a740154806c18bdf1fddd3d966   \n",
       "124009        1.0         3  d89f514c3ed0abaae52cba7017ac0701   \n",
       "\n",
       "                    created  \\\n",
       "124000  2016-04-05 03:58:33   \n",
       "124002  2016-04-02 02:25:31   \n",
       "124004  2016-04-26 05:42:03   \n",
       "124008  2016-04-19 02:47:33   \n",
       "124009  2016-04-20 05:34:00   \n",
       "\n",
       "                                              description  \\\n",
       "124000  There is 700 square feet of recently renovated...   \n",
       "124002  2 bedroom apartment with updated kitchen, rece...   \n",
       "124004  No Brokers Fee * Never Lived 1 Bedroom 1 Bathr...   \n",
       "124008  Wonderful Bright Chelsea 2 Bedroom apartment o...   \n",
       "124009  ***PRIME MIDTOWN EAST OFF PARK AVE***TRUE 3 BE...   \n",
       "\n",
       "             display_address  \\\n",
       "124000          W 171 Street   \n",
       "124002              Broadway   \n",
       "124004  210 Brighton 15th St   \n",
       "124008      West 21st Street   \n",
       "124009             E 54th St   \n",
       "\n",
       "                                                 features  latitude  \\\n",
       "124000            [Elevator, Dishwasher, Hardwood Floors]   40.8433   \n",
       "124002  [Common Outdoor Space, Cats Allowed, Dogs Allo...   40.8198   \n",
       "124004  [Dining Room, Elevator, Pre-War, Laundry in Bu...   40.5765   \n",
       "124008  [Pre-War, Laundry in Unit, Dishwasher, No Fee,...   40.7448   \n",
       "124009  [Dining Room, Elevator, Laundry in Building, D...   40.7594   \n",
       "\n",
       "        listing_id  longitude                        manager_id  \\\n",
       "124000     6824800   -73.9396  a61e21da3ba18c7a3d54cfdcc247e1f8   \n",
       "124002     6813268   -73.9578  8f90e5e10e8a2d7cf997f016d89230eb   \n",
       "124004     6927093   -73.9554  a10db4590843d78c784171a107bdacb4   \n",
       "124008     6892816   -74.0017  c3cd45f4381ac371507090e9ffabea80   \n",
       "124009     6901023   -73.9712  e90f2ded843cdb2efd65ef47d9fc8029   \n",
       "\n",
       "                                                   photos  price  \\\n",
       "124000  [https://photos.renthop.com/2/6824800_0682be16...   2800   \n",
       "124002  [https://photos.renthop.com/2/6813268_1e6fcc32...   2395   \n",
       "124004  [https://photos.renthop.com/2/6927093_93a52104...   1850   \n",
       "124008  [https://photos.renthop.com/2/6892816_1a8d087a...   4195   \n",
       "124009  [https://photos.renthop.com/2/6901023_02052d90...   4280   \n",
       "\n",
       "              street_address interest_level  \n",
       "124000      620 W 171 Street            low  \n",
       "124002         3333 Broadway         medium  \n",
       "124004  210 Brighton 15th St         medium  \n",
       "124008  350 West 21st Street         medium  \n",
       "124009         123 E 54th St           high  "
      ]
     },
     "execution_count": 6,
     "metadata": {},
     "output_type": "execute_result"
    }
   ],
   "source": [
    "df.tail()"
   ]
  },
  {
   "cell_type": "code",
   "execution_count": 8,
   "metadata": {},
   "outputs": [],
   "source": [
    "df['created'] = df['created'].map(pd.to_datetime)"
   ]
  },
  {
   "cell_type": "code",
   "execution_count": 11,
   "metadata": {},
   "outputs": [],
   "source": [
    "def get_hour(dt):\n",
    "    return dt.hour\n",
    "# creating a new hour column\n",
    "df['hour'] = df['created'].map(get_hour)"
   ]
  },
  {
   "cell_type": "code",
   "execution_count": 12,
   "metadata": {},
   "outputs": [
    {
     "data": {
      "text/plain": [
       "(49352, 16)"
      ]
     },
     "execution_count": 12,
     "metadata": {},
     "output_type": "execute_result"
    }
   ],
   "source": [
    "df.shape"
   ]
  },
  {
   "cell_type": "code",
   "execution_count": 4,
   "metadata": {},
   "outputs": [],
   "source": [
    "lower_bound = 0.005\n",
    "upper_bound = 0.995"
   ]
  },
  {
   "cell_type": "code",
   "execution_count": 5,
   "metadata": {},
   "outputs": [
    {
     "data": {
      "text/plain": [
       "(48839,)"
      ]
     },
     "execution_count": 5,
     "metadata": {},
     "output_type": "execute_result"
    }
   ],
   "source": [
    "res = df.price.quantile([lower_bound, upper_bound])\n",
    "true_index = (res.loc[lower_bound] < df.price.values) & (df.price.values < res.loc[upper_bound])\n",
    "df.price[true_index].shape\n",
    "# true_index\n",
    "# new_df = df"
   ]
  },
  {
   "cell_type": "code",
   "execution_count": 6,
   "metadata": {},
   "outputs": [
    {
     "data": {
      "image/png": "[encoded data removed]",
      "text/plain": [
       "<Figure size 432x288 with 1 Axes>"
      ]
     },
     "metadata": {
      "needs_background": "light"
     },
     "output_type": "display_data"
    }
   ],
   "source": [
    "plt.hist(df.price[true_index])\n",
    "plt.xlabel(\"Price\")\n",
    "plt.ylabel(\"Frequency\")\n",
    "plt.title(\"Price histogram (without outliers)\")\n",
    "plt.show()"
   ]
  },
  {
   "cell_type": "code",
   "execution_count": 7,
   "metadata": {},
   "outputs": [
    {
     "data": {
      "text/html": [
       "<div>\n",
       "<style scoped>\n",
       "    .dataframe tbody tr th:only-of-type {\n",
       "        vertical-align: middle;\n",
       "    }\n",
       "\n",
       "    .dataframe tbody tr th {\n",
       "        vertical-align: top;\n",
       "    }\n",
       "\n",
       "    .dataframe thead th {\n",
       "        text-align: right;\n",
       "    }\n",
       "</style>\n",
       "<table border=\"1\" class=\"dataframe\">\n",
       "  <thead>\n",
       "    <tr style=\"text-align: right;\">\n",
       "      <th></th>\n",
       "      <th>bathrooms</th>\n",
       "      <th>bedrooms</th>\n",
       "      <th>building_id</th>\n",
       "      <th>created</th>\n",
       "      <th>description</th>\n",
       "      <th>display_address</th>\n",
       "      <th>features</th>\n",
       "      <th>latitude</th>\n",
       "      <th>listing_id</th>\n",
       "      <th>longitude</th>\n",
       "      <th>manager_id</th>\n",
       "      <th>photos</th>\n",
       "      <th>price</th>\n",
       "      <th>street_address</th>\n",
       "      <th>interest_level</th>\n",
       "    </tr>\n",
       "  </thead>\n",
       "  <tbody>\n",
       "    <tr>\n",
       "      <th>92641</th>\n",
       "      <td>2.5</td>\n",
       "      <td>3</td>\n",
       "      <td>63025b68e739a0ed3b969c9d7f0fbffb</td>\n",
       "      <td>2016-04-28 02:27:39</td>\n",
       "      <td>CooperCooper.com :: Listing ID #12_0722; Acces...</td>\n",
       "      <td>West 77th Street</td>\n",
       "      <td>[Doorman, Fitness Center, Elevator, Balcony, L...</td>\n",
       "      <td>40.7824</td>\n",
       "      <td>6935564</td>\n",
       "      <td>-73.9805</td>\n",
       "      <td>6e5c10246156ae5bdcd9b487ca99d96a</td>\n",
       "      <td>[https://photos.renthop.com/2/6935564_0c783013...</td>\n",
       "      <td>15046</td>\n",
       "      <td>227 West 77th Street</td>\n",
       "      <td>low</td>\n",
       "    </tr>\n",
       "  </tbody>\n",
       "</table>\n",
       "</div>"
      ],
      "text/plain": [
       "       bathrooms  bedrooms                       building_id  \\\n",
       "92641        2.5         3  63025b68e739a0ed3b969c9d7f0fbffb   \n",
       "\n",
       "                   created                                        description  \\\n",
       "92641  2016-04-28 02:27:39  CooperCooper.com :: Listing ID #12_0722; Acces...   \n",
       "\n",
       "        display_address                                           features  \\\n",
       "92641  West 77th Street  [Doorman, Fitness Center, Elevator, Balcony, L...   \n",
       "\n",
       "       latitude  listing_id  longitude                        manager_id  \\\n",
       "92641   40.7824     6935564   -73.9805  6e5c10246156ae5bdcd9b487ca99d96a   \n",
       "\n",
       "                                                  photos  price  \\\n",
       "92641  [https://photos.renthop.com/2/6935564_0c783013...  15046   \n",
       "\n",
       "             street_address interest_level  \n",
       "92641  227 West 77th Street            low  "
      ]
     },
     "execution_count": 7,
     "metadata": {},
     "output_type": "execute_result"
    }
   ],
   "source": [
    "df.loc[df.price == df.price[true_index].max()]"
   ]
  },
  {
   "cell_type": "code",
   "execution_count": 8,
   "metadata": {},
   "outputs": [
    {
     "data": {
      "text/plain": [
       "(48839, 15)"
      ]
     },
     "execution_count": 8,
     "metadata": {},
     "output_type": "execute_result"
    }
   ],
   "source": [
    "new_df = df.loc[true_index]\n",
    "new_df.shape"
   ]
  },
  {
   "cell_type": "code",
   "execution_count": 9,
   "metadata": {},
   "outputs": [
    {
     "data": {
      "text/plain": [
       "(48828, 15)"
      ]
     },
     "execution_count": 9,
     "metadata": {},
     "output_type": "execute_result"
    }
   ],
   "source": [
    "missing_index = (new_df.longitude == 0)\n",
    "missing_index = ~missing_index\n",
    "# missing_index.value_counts()\n",
    "new_df = new_df.loc[missing_index]\n",
    "new_df.shape"
   ]
  },
  {
   "cell_type": "code",
   "execution_count": 10,
   "metadata": {},
   "outputs": [],
   "source": [
    "from sklearn.metrics.pairwise import manhattan_distances"
   ]
  },
  {
   "cell_type": "code",
   "execution_count": 11,
   "metadata": {},
   "outputs": [],
   "source": [
    "downtown = [40.7209, -74.0007]\n",
    "\n",
    "def man_distances(row):\n",
    "    dist = manhattan_distances([[row.latitude, row.longitude]], [downtown])\n",
    "    return dist\n",
    "\n",
    "\n",
    "new_df['dt_distance'] = new_df.apply(lambda row: man_distances(row), axis=1)\n",
    "\n",
    "# for index, row in new_df.iterrows():\n",
    "#     row.dt_distance = manhattan_distances([[row.latitude, row.longitude]], [downtown])"
   ]
  },
  {
   "cell_type": "code",
   "execution_count": 12,
   "metadata": {},
   "outputs": [
    {
     "data": {
      "text/plain": [
       "array([[50.9786]])"
      ]
     },
     "execution_count": 12,
     "metadata": {},
     "output_type": "execute_result"
    }
   ],
   "source": [
    "new_df.dt_distance.max()"
   ]
  },
  {
   "cell_type": "code",
   "execution_count": 13,
   "metadata": {},
   "outputs": [
    {
     "data": {
      "text/html": [
       "<div>\n",
       "<style scoped>\n",
       "    .dataframe tbody tr th:only-of-type {\n",
       "        vertical-align: middle;\n",
       "    }\n",
       "\n",
       "    .dataframe tbody tr th {\n",
       "        vertical-align: top;\n",
       "    }\n",
       "\n",
       "    .dataframe thead th {\n",
       "        text-align: right;\n",
       "    }\n",
       "</style>\n",
       "<table border=\"1\" class=\"dataframe\">\n",
       "  <thead>\n",
       "    <tr style=\"text-align: right;\">\n",
       "      <th></th>\n",
       "      <th>bathrooms</th>\n",
       "      <th>bedrooms</th>\n",
       "      <th>building_id</th>\n",
       "      <th>created</th>\n",
       "      <th>description</th>\n",
       "      <th>display_address</th>\n",
       "      <th>features</th>\n",
       "      <th>latitude</th>\n",
       "      <th>listing_id</th>\n",
       "      <th>longitude</th>\n",
       "      <th>manager_id</th>\n",
       "      <th>photos</th>\n",
       "      <th>price</th>\n",
       "      <th>street_address</th>\n",
       "      <th>interest_level</th>\n",
       "      <th>dt_distance</th>\n",
       "    </tr>\n",
       "  </thead>\n",
       "  <tbody>\n",
       "    <tr>\n",
       "      <th>872</th>\n",
       "      <td>1.0</td>\n",
       "      <td>2</td>\n",
       "      <td>de47025fe5e6d20a1360cb3efe8c8348</td>\n",
       "      <td>2016-06-11 06:44:25</td>\n",
       "      <td>Spacious two bedroom, corner unit with...</td>\n",
       "      <td>32 Garrison Street</td>\n",
       "      <td>[Elevator, Cats Allowed, Dogs Allowed]</td>\n",
       "      <td>42.3459</td>\n",
       "      <td>7143730</td>\n",
       "      <td>-71.0794</td>\n",
       "      <td>c090563865adf7dd1c953e9d6bd65318</td>\n",
       "      <td>[https://photos.renthop.com/2/7143730_775991d2...</td>\n",
       "      <td>4186</td>\n",
       "      <td>32 Garrison Street</td>\n",
       "      <td>low</td>\n",
       "      <td>[[4.546299999999988]]</td>\n",
       "    </tr>\n",
       "    <tr>\n",
       "      <th>4719</th>\n",
       "      <td>2.0</td>\n",
       "      <td>2</td>\n",
       "      <td>51052daba3eae7ee4e27bf436f7eb5a9</td>\n",
       "      <td>2016-06-27 02:48:10</td>\n",
       "      <td>Super Spacious Renovated 2BR/2BATH with Home O...</td>\n",
       "      <td>84 Street</td>\n",
       "      <td>[Private Outdoor Space, Dishwasher, Hardwood F...</td>\n",
       "      <td>42.8724</td>\n",
       "      <td>7221153</td>\n",
       "      <td>-73.4662</td>\n",
       "      <td>5856ea690d343df5f3bc66315babb280</td>\n",
       "      <td>[https://photos.renthop.com/2/7221153_0160c1e4...</td>\n",
       "      <td>2300</td>\n",
       "      <td>1844 84 Street</td>\n",
       "      <td>low</td>\n",
       "      <td>[[2.685999999999993]]</td>\n",
       "    </tr>\n",
       "    <tr>\n",
       "      <th>18267</th>\n",
       "      <td>1.0</td>\n",
       "      <td>2</td>\n",
       "      <td>0</td>\n",
       "      <td>2016-06-29 02:30:45</td>\n",
       "      <td>Huge bedrooms, windows in every room! Hard woo...</td>\n",
       "      <td>1st Ave. Loop</td>\n",
       "      <td>[Elevator, Laundry in Building, Dishwasher, Ha...</td>\n",
       "      <td>43.0346</td>\n",
       "      <td>7229074</td>\n",
       "      <td>-76.6336</td>\n",
       "      <td>f44a6215f74f901ac7e326207f2984f7</td>\n",
       "      <td>[https://photos.renthop.com/2/7229074_14de73ea...</td>\n",
       "      <td>3300</td>\n",
       "      <td>250 1st Ave. Loop</td>\n",
       "      <td>low</td>\n",
       "      <td>[[4.946600000000004]]</td>\n",
       "    </tr>\n",
       "    <tr>\n",
       "      <th>24747</th>\n",
       "      <td>1.0</td>\n",
       "      <td>1</td>\n",
       "      <td>253df0eb4ce61b5bcb695a440606c58d</td>\n",
       "      <td>2016-06-12 03:46:05</td>\n",
       "      <td>Stunning one bedroom apartment with dr...</td>\n",
       "      <td>56 St. Botolph Street</td>\n",
       "      <td>[Elevator, Cats Allowed, Dogs Allowed]</td>\n",
       "      <td>42.3459</td>\n",
       "      <td>7146153</td>\n",
       "      <td>-71.0794</td>\n",
       "      <td>6a393c2a7ce242d016fb0170ed19aa61</td>\n",
       "      <td>[https://photos.renthop.com/2/7146153_6c1b933d...</td>\n",
       "      <td>4123</td>\n",
       "      <td>56 St. Botolph Street</td>\n",
       "      <td>low</td>\n",
       "      <td>[[4.546299999999988]]</td>\n",
       "    </tr>\n",
       "    <tr>\n",
       "      <th>39046</th>\n",
       "      <td>1.0</td>\n",
       "      <td>1</td>\n",
       "      <td>2adec6e74a834940cde0f05a8684d08f</td>\n",
       "      <td>2016-06-16 04:28:15</td>\n",
       "      <td>Lenox Farms Apartments &amp; Town Homes of...</td>\n",
       "      <td>550 Liberty Street</td>\n",
       "      <td>[Fitness Center, Cats Allowed, Dogs Allowed]</td>\n",
       "      <td>42.2019</td>\n",
       "      <td>7169135</td>\n",
       "      <td>-70.9846</td>\n",
       "      <td>50ef6c51bfe99f33e459ab902190e87f</td>\n",
       "      <td>[https://photos.renthop.com/2/7169135_9a47ffdd...</td>\n",
       "      <td>2140</td>\n",
       "      <td>550 Liberty Street</td>\n",
       "      <td>low</td>\n",
       "      <td>[[4.497099999999996]]</td>\n",
       "    </tr>\n",
       "    <tr>\n",
       "      <th>39798</th>\n",
       "      <td>1.0</td>\n",
       "      <td>1</td>\n",
       "      <td>117aceb94c48bfd1f3066a22f999705f</td>\n",
       "      <td>2016-06-17 02:10:25</td>\n",
       "      <td>NO FEE 1 bedroom - Great Elevator  - Laundry B...</td>\n",
       "      <td>E 38th St,</td>\n",
       "      <td>[Elevator, Walk in Closet(s), High Ceilings, H...</td>\n",
       "      <td>34.0126</td>\n",
       "      <td>7174857</td>\n",
       "      <td>-118.2710</td>\n",
       "      <td>f19288238987b18a693e16ee23720c20</td>\n",
       "      <td>[https://photos.renthop.com/2/7174857_6d71b6e1...</td>\n",
       "      <td>2425</td>\n",
       "      <td>234 E 38th St,</td>\n",
       "      <td>low</td>\n",
       "      <td>[[50.97860000000001]]</td>\n",
       "    </tr>\n",
       "    <tr>\n",
       "      <th>41022</th>\n",
       "      <td>2.0</td>\n",
       "      <td>2</td>\n",
       "      <td>2adec6e74a834940cde0f05a8684d08f</td>\n",
       "      <td>2016-06-24 05:28:35</td>\n",
       "      <td>Lenox Farms Apartments &amp; Town Homes of...</td>\n",
       "      <td>550 Liberty Street</td>\n",
       "      <td>[Fitness Center, Cats Allowed, Dogs Allowed]</td>\n",
       "      <td>42.2019</td>\n",
       "      <td>7209113</td>\n",
       "      <td>-70.9846</td>\n",
       "      <td>43389561311270c553bb83a168a07a6b</td>\n",
       "      <td>[https://photos.renthop.com/2/7209113_f37eb785...</td>\n",
       "      <td>2709</td>\n",
       "      <td>550 Liberty Street</td>\n",
       "      <td>low</td>\n",
       "      <td>[[4.497099999999996]]</td>\n",
       "    </tr>\n",
       "    <tr>\n",
       "      <th>57131</th>\n",
       "      <td>1.0</td>\n",
       "      <td>1</td>\n",
       "      <td>2adec6e74a834940cde0f05a8684d08f</td>\n",
       "      <td>2016-05-28 03:50:27</td>\n",
       "      <td>Lenox Farms Apartments &amp; Town Homes of...</td>\n",
       "      <td>550 Liberty Street</td>\n",
       "      <td>[Fitness Center, Cats Allowed, Dogs Allowed]</td>\n",
       "      <td>42.2019</td>\n",
       "      <td>7079426</td>\n",
       "      <td>-70.9846</td>\n",
       "      <td>43389561311270c553bb83a168a07a6b</td>\n",
       "      <td>[https://photos.renthop.com/2/7079426_dc48b760...</td>\n",
       "      <td>2308</td>\n",
       "      <td>550 Liberty Street</td>\n",
       "      <td>low</td>\n",
       "      <td>[[4.497099999999996]]</td>\n",
       "    </tr>\n",
       "    <tr>\n",
       "      <th>62409</th>\n",
       "      <td>1.0</td>\n",
       "      <td>1</td>\n",
       "      <td>3dd500218fd52811b282f5af28a0961f</td>\n",
       "      <td>2016-05-06 04:27:33</td>\n",
       "      <td>Vacant</td>\n",
       "      <td>300 2nd Avenue</td>\n",
       "      <td>[Elevator, Fitness Center, Cats Allowed, Dogs ...</td>\n",
       "      <td>42.3033</td>\n",
       "      <td>6974621</td>\n",
       "      <td>-71.2133</td>\n",
       "      <td>602fee16546f42bfa81f4adc05261cfa</td>\n",
       "      <td>[https://photos.renthop.com/2/6974621_11136b2c...</td>\n",
       "      <td>2889</td>\n",
       "      <td>300 2nd Avenue</td>\n",
       "      <td>low</td>\n",
       "      <td>[[4.369799999999991]]</td>\n",
       "    </tr>\n",
       "    <tr>\n",
       "      <th>72896</th>\n",
       "      <td>1.0</td>\n",
       "      <td>0</td>\n",
       "      <td>2fc165040867a7c3694de4b4a63b1062</td>\n",
       "      <td>2016-05-07 10:34:35</td>\n",
       "      <td>Bright UES studio apartment! Only two flights ...</td>\n",
       "      <td>E 78th St  between First and York</td>\n",
       "      <td>[]</td>\n",
       "      <td>41.7530</td>\n",
       "      <td>6981117</td>\n",
       "      <td>-87.6134</td>\n",
       "      <td>ee89e559c627af61e8730ea4ad7011d6</td>\n",
       "      <td>[https://photos.renthop.com/2/6981117_2428e796...</td>\n",
       "      <td>2000</td>\n",
       "      <td>452 E 78th St #2A (First Ave &amp; York Ave)</td>\n",
       "      <td>low</td>\n",
       "      <td>[[14.644800000000004]]</td>\n",
       "    </tr>\n",
       "    <tr>\n",
       "      <th>73065</th>\n",
       "      <td>1.0</td>\n",
       "      <td>1</td>\n",
       "      <td>3dd500218fd52811b282f5af28a0961f</td>\n",
       "      <td>2016-05-24 04:08:19</td>\n",
       "      <td>Occupied</td>\n",
       "      <td>300 2nd Avenue</td>\n",
       "      <td>[Elevator, Fitness Center, Cats Allowed, Dogs ...</td>\n",
       "      <td>42.3033</td>\n",
       "      <td>7059785</td>\n",
       "      <td>-71.2133</td>\n",
       "      <td>602fee16546f42bfa81f4adc05261cfa</td>\n",
       "      <td>[]</td>\n",
       "      <td>3518</td>\n",
       "      <td>300 2nd Avenue</td>\n",
       "      <td>low</td>\n",
       "      <td>[[4.369799999999991]]</td>\n",
       "    </tr>\n",
       "    <tr>\n",
       "      <th>78568</th>\n",
       "      <td>3.0</td>\n",
       "      <td>3</td>\n",
       "      <td>cca9ed74339903b6d9c876a8e608d75b</td>\n",
       "      <td>2016-05-19 02:11:21</td>\n",
       "      <td>DYNAMIC DUPLEX!!!! Incredible 3 Bedroom, 3.5 B...</td>\n",
       "      <td>E 66th St, New York</td>\n",
       "      <td>[Fitness Center, Renovated, Walk in Closet(s),...</td>\n",
       "      <td>44.8835</td>\n",
       "      <td>7035661</td>\n",
       "      <td>-93.2705</td>\n",
       "      <td>223268168dc5049485bd70a19596730e</td>\n",
       "      <td>[https://photos.renthop.com/2/7035661_e224f454...</td>\n",
       "      <td>13875</td>\n",
       "      <td>400 E 66th St,New York</td>\n",
       "      <td>low</td>\n",
       "      <td>[[23.4324]]</td>\n",
       "    </tr>\n",
       "    <tr>\n",
       "      <th>80360</th>\n",
       "      <td>2.0</td>\n",
       "      <td>3</td>\n",
       "      <td>de47025fe5e6d20a1360cb3efe8c8348</td>\n",
       "      <td>2016-05-27 03:52:12</td>\n",
       "      <td>Two wood burning fireplaces, three bal...</td>\n",
       "      <td>32 Garrison Street</td>\n",
       "      <td>[Elevator, Cats Allowed]</td>\n",
       "      <td>42.3459</td>\n",
       "      <td>7075183</td>\n",
       "      <td>-71.0794</td>\n",
       "      <td>6a393c2a7ce242d016fb0170ed19aa61</td>\n",
       "      <td>[https://photos.renthop.com/2/7075183_b60bc7f3...</td>\n",
       "      <td>6801</td>\n",
       "      <td>32 Garrison Street</td>\n",
       "      <td>low</td>\n",
       "      <td>[[4.546299999999988]]</td>\n",
       "    </tr>\n",
       "    <tr>\n",
       "      <th>81815</th>\n",
       "      <td>1.0</td>\n",
       "      <td>2</td>\n",
       "      <td>67d5728b505db14a586d79865b58fb24</td>\n",
       "      <td>2016-05-03 04:20:02</td>\n",
       "      <td>Beautiful, renovated and fully loaded 2 BR.&lt;br...</td>\n",
       "      <td>7916 19 Road</td>\n",
       "      <td>[Dining Room, Laundry in Unit, Dishwasher, Har...</td>\n",
       "      <td>42.8725</td>\n",
       "      <td>6957694</td>\n",
       "      <td>-73.4665</td>\n",
       "      <td>2b6d9435a0e6c4019e5ffcb53389c3dd</td>\n",
       "      <td>[https://photos.renthop.com/2/6957694_adac55f7...</td>\n",
       "      <td>2700</td>\n",
       "      <td>7916 19 Road</td>\n",
       "      <td>low</td>\n",
       "      <td>[[2.6858000000000004]]</td>\n",
       "    </tr>\n",
       "    <tr>\n",
       "      <th>85995</th>\n",
       "      <td>1.0</td>\n",
       "      <td>1</td>\n",
       "      <td>3eac933a57e386d7e11a479c40cc0dd4</td>\n",
       "      <td>2016-04-30 03:49:17</td>\n",
       "      <td>corner unit. Lots of natural light, la...</td>\n",
       "      <td>30 Garrison Street</td>\n",
       "      <td>[Elevator, Cats Allowed, Dogs Allowed]</td>\n",
       "      <td>42.3459</td>\n",
       "      <td>6946575</td>\n",
       "      <td>-71.0794</td>\n",
       "      <td>c090563865adf7dd1c953e9d6bd65318</td>\n",
       "      <td>[https://photos.renthop.com/2/6946575_d6515ca4...</td>\n",
       "      <td>3698</td>\n",
       "      <td>30 Garrison Street</td>\n",
       "      <td>low</td>\n",
       "      <td>[[4.546299999999988]]</td>\n",
       "    </tr>\n",
       "    <tr>\n",
       "      <th>104822</th>\n",
       "      <td>1.0</td>\n",
       "      <td>0</td>\n",
       "      <td>437454e6d44ae7c94f60b1b6507d084a</td>\n",
       "      <td>2016-04-16 02:10:48</td>\n",
       "      <td>NEWLY RENOVATED BEAUTIFUL SPACIOUS HUGE STUDIO...</td>\n",
       "      <td>E 46th St,</td>\n",
       "      <td>[Doorman, Elevator, Walk in Closet(s), High Ce...</td>\n",
       "      <td>39.8395</td>\n",
       "      <td>6881361</td>\n",
       "      <td>-86.1527</td>\n",
       "      <td>8439c2c1ab6949a7447b00971e2f73a9</td>\n",
       "      <td>[https://photos.renthop.com/2/6881361_f8efe79e...</td>\n",
       "      <td>2650</td>\n",
       "      <td>235 E 46th St,</td>\n",
       "      <td>low</td>\n",
       "      <td>[[13.0334]]</td>\n",
       "    </tr>\n",
       "    <tr>\n",
       "      <th>108994</th>\n",
       "      <td>1.0</td>\n",
       "      <td>0</td>\n",
       "      <td>0</td>\n",
       "      <td>2016-04-03 17:08:55</td>\n",
       "      <td>Sunny, spacious garden level studio apartment ...</td>\n",
       "      <td>268 Bainbridge Street</td>\n",
       "      <td>[Common Outdoor Space, Private Outdoor Space, ...</td>\n",
       "      <td>40.1159</td>\n",
       "      <td>6819739</td>\n",
       "      <td>-74.6267</td>\n",
       "      <td>8e75480baef379386edc3880bba576fd</td>\n",
       "      <td>[https://photos.renthop.com/2/6819739_79b1aee8...</td>\n",
       "      <td>1650</td>\n",
       "      <td>268 Bainbridge Street</td>\n",
       "      <td>low</td>\n",
       "      <td>[[1.2310000000000016]]</td>\n",
       "    </tr>\n",
       "    <tr>\n",
       "      <th>114028</th>\n",
       "      <td>1.0</td>\n",
       "      <td>1</td>\n",
       "      <td>6869a3c2a96003e9992d6cd1c3c4b299</td>\n",
       "      <td>2016-04-07 01:41:55</td>\n",
       "      <td>Come for the studio apartment but stay for all...</td>\n",
       "      <td>Modern Studio in Amenity Filled 24 Hr. DM Bldg.</td>\n",
       "      <td>[Cats Allowed, Dogs Allowed, Doorman, Elevator...</td>\n",
       "      <td>40.0450</td>\n",
       "      <td>6836479</td>\n",
       "      <td>-75.5214</td>\n",
       "      <td>c3b7c269756b10a84641f04868f30db1</td>\n",
       "      <td>[https://photos.renthop.com/2/6836479_2a5daff5...</td>\n",
       "      <td>2895</td>\n",
       "      <td>271 West 47TH Street</td>\n",
       "      <td>low</td>\n",
       "      <td>[[2.1966000000000037]]</td>\n",
       "    </tr>\n",
       "    <tr>\n",
       "      <th>114889</th>\n",
       "      <td>2.0</td>\n",
       "      <td>2</td>\n",
       "      <td>2adec6e74a834940cde0f05a8684d08f</td>\n",
       "      <td>2016-04-21 04:36:16</td>\n",
       "      <td>T_208-421-1596&lt;br /&gt;kagglemanager@rent...</td>\n",
       "      <td>550 Liberty Street</td>\n",
       "      <td>[Fitness Center, Cats Allowed, Dogs Allowed]</td>\n",
       "      <td>42.2019</td>\n",
       "      <td>6906214</td>\n",
       "      <td>-70.9846</td>\n",
       "      <td>43389561311270c553bb83a168a07a6b</td>\n",
       "      <td>[https://photos.renthop.com/2/6906214_4ab3c74a...</td>\n",
       "      <td>2541</td>\n",
       "      <td>550 Liberty Street</td>\n",
       "      <td>low</td>\n",
       "      <td>[[4.497099999999996]]</td>\n",
       "    </tr>\n",
       "    <tr>\n",
       "      <th>117255</th>\n",
       "      <td>1.0</td>\n",
       "      <td>1</td>\n",
       "      <td>0</td>\n",
       "      <td>2016-04-06 13:27:48</td>\n",
       "      <td>One BHK apartment is on rent from 20th April, ...</td>\n",
       "      <td>176 Presidents lane</td>\n",
       "      <td>[Furnished, Parking Space, No Fee, Elevator, L...</td>\n",
       "      <td>42.2509</td>\n",
       "      <td>6834490</td>\n",
       "      <td>-71.0060</td>\n",
       "      <td>e6472c7237327dd3903b3d6f6a94515a</td>\n",
       "      <td>[https://photos.renthop.com/2/6834490_75f7d508...</td>\n",
       "      <td>1670</td>\n",
       "      <td>176 Presidents lane,Quincy,MA</td>\n",
       "      <td>low</td>\n",
       "      <td>[[4.524699999999996]]</td>\n",
       "    </tr>\n",
       "    <tr>\n",
       "      <th>121891</th>\n",
       "      <td>1.0</td>\n",
       "      <td>1</td>\n",
       "      <td>ebdf422b8605d69a719a5cdc34019463</td>\n",
       "      <td>2016-04-09 12:36:21</td>\n",
       "      <td>NEW BUILDING!!\\rLarge 1BR Apt with private out...</td>\n",
       "      <td>505 Saint Marks Ave</td>\n",
       "      <td>[Common Outdoor Space, Cats Allowed, Private O...</td>\n",
       "      <td>39.7996</td>\n",
       "      <td>6850473</td>\n",
       "      <td>-74.6248</td>\n",
       "      <td>4c2a031c5886dd6ca7085f3300dc7cb6</td>\n",
       "      <td>[https://photos.renthop.com/2/6850473_1a7356aa...</td>\n",
       "      <td>2550</td>\n",
       "      <td>505 Saint Marks Ave</td>\n",
       "      <td>low</td>\n",
       "      <td>[[1.5454000000000008]]</td>\n",
       "    </tr>\n",
       "  </tbody>\n",
       "</table>\n",
       "</div>"
      ],
      "text/plain": [
       "        bathrooms  bedrooms                       building_id  \\\n",
       "872           1.0         2  de47025fe5e6d20a1360cb3efe8c8348   \n",
       "4719          2.0         2  51052daba3eae7ee4e27bf436f7eb5a9   \n",
       "18267         1.0         2                                 0   \n",
       "24747         1.0         1  253df0eb4ce61b5bcb695a440606c58d   \n",
       "39046         1.0         1  2adec6e74a834940cde0f05a8684d08f   \n",
       "39798         1.0         1  117aceb94c48bfd1f3066a22f999705f   \n",
       "41022         2.0         2  2adec6e74a834940cde0f05a8684d08f   \n",
       "57131         1.0         1  2adec6e74a834940cde0f05a8684d08f   \n",
       "62409         1.0         1  3dd500218fd52811b282f5af28a0961f   \n",
       "72896         1.0         0  2fc165040867a7c3694de4b4a63b1062   \n",
       "73065         1.0         1  3dd500218fd52811b282f5af28a0961f   \n",
       "78568         3.0         3  cca9ed74339903b6d9c876a8e608d75b   \n",
       "80360         2.0         3  de47025fe5e6d20a1360cb3efe8c8348   \n",
       "81815         1.0         2  67d5728b505db14a586d79865b58fb24   \n",
       "85995         1.0         1  3eac933a57e386d7e11a479c40cc0dd4   \n",
       "104822        1.0         0  437454e6d44ae7c94f60b1b6507d084a   \n",
       "108994        1.0         0                                 0   \n",
       "114028        1.0         1  6869a3c2a96003e9992d6cd1c3c4b299   \n",
       "114889        2.0         2  2adec6e74a834940cde0f05a8684d08f   \n",
       "117255        1.0         1                                 0   \n",
       "121891        1.0         1  ebdf422b8605d69a719a5cdc34019463   \n",
       "\n",
       "                    created  \\\n",
       "872     2016-06-11 06:44:25   \n",
       "4719    2016-06-27 02:48:10   \n",
       "18267   2016-06-29 02:30:45   \n",
       "24747   2016-06-12 03:46:05   \n",
       "39046   2016-06-16 04:28:15   \n",
       "39798   2016-06-17 02:10:25   \n",
       "41022   2016-06-24 05:28:35   \n",
       "57131   2016-05-28 03:50:27   \n",
       "62409   2016-05-06 04:27:33   \n",
       "72896   2016-05-07 10:34:35   \n",
       "73065   2016-05-24 04:08:19   \n",
       "78568   2016-05-19 02:11:21   \n",
       "80360   2016-05-27 03:52:12   \n",
       "81815   2016-05-03 04:20:02   \n",
       "85995   2016-04-30 03:49:17   \n",
       "104822  2016-04-16 02:10:48   \n",
       "108994  2016-04-03 17:08:55   \n",
       "114028  2016-04-07 01:41:55   \n",
       "114889  2016-04-21 04:36:16   \n",
       "117255  2016-04-06 13:27:48   \n",
       "121891  2016-04-09 12:36:21   \n",
       "\n",
       "                                              description  \\\n",
       "872             Spacious two bedroom, corner unit with...   \n",
       "4719    Super Spacious Renovated 2BR/2BATH with Home O...   \n",
       "18267   Huge bedrooms, windows in every room! Hard woo...   \n",
       "24747           Stunning one bedroom apartment with dr...   \n",
       "39046           Lenox Farms Apartments & Town Homes of...   \n",
       "39798   NO FEE 1 bedroom - Great Elevator  - Laundry B...   \n",
       "41022           Lenox Farms Apartments & Town Homes of...   \n",
       "57131           Lenox Farms Apartments & Town Homes of...   \n",
       "62409                                              Vacant   \n",
       "72896   Bright UES studio apartment! Only two flights ...   \n",
       "73065                                            Occupied   \n",
       "78568   DYNAMIC DUPLEX!!!! Incredible 3 Bedroom, 3.5 B...   \n",
       "80360           Two wood burning fireplaces, three bal...   \n",
       "81815   Beautiful, renovated and fully loaded 2 BR.<br...   \n",
       "85995           corner unit. Lots of natural light, la...   \n",
       "104822  NEWLY RENOVATED BEAUTIFUL SPACIOUS HUGE STUDIO...   \n",
       "108994  Sunny, spacious garden level studio apartment ...   \n",
       "114028  Come for the studio apartment but stay for all...   \n",
       "114889          T_208-421-1596<br />kagglemanager@rent...   \n",
       "117255  One BHK apartment is on rent from 20th April, ...   \n",
       "121891  NEW BUILDING!!\\rLarge 1BR Apt with private out...   \n",
       "\n",
       "                                        display_address  \\\n",
       "872                                  32 Garrison Street   \n",
       "4719                                          84 Street   \n",
       "18267                                     1st Ave. Loop   \n",
       "24747                             56 St. Botolph Street   \n",
       "39046                                550 Liberty Street   \n",
       "39798                                        E 38th St,   \n",
       "41022                                550 Liberty Street   \n",
       "57131                                550 Liberty Street   \n",
       "62409                                    300 2nd Avenue   \n",
       "72896               E 78th St  between First and York     \n",
       "73065                                    300 2nd Avenue   \n",
       "78568                              E 66th St, New York    \n",
       "80360                                32 Garrison Street   \n",
       "81815                                      7916 19 Road   \n",
       "85995                                30 Garrison Street   \n",
       "104822                                       E 46th St,   \n",
       "108994                            268 Bainbridge Street   \n",
       "114028  Modern Studio in Amenity Filled 24 Hr. DM Bldg.   \n",
       "114889                               550 Liberty Street   \n",
       "117255                              176 Presidents lane   \n",
       "121891                              505 Saint Marks Ave   \n",
       "\n",
       "                                                 features  latitude  \\\n",
       "872                [Elevator, Cats Allowed, Dogs Allowed]   42.3459   \n",
       "4719    [Private Outdoor Space, Dishwasher, Hardwood F...   42.8724   \n",
       "18267   [Elevator, Laundry in Building, Dishwasher, Ha...   43.0346   \n",
       "24747              [Elevator, Cats Allowed, Dogs Allowed]   42.3459   \n",
       "39046        [Fitness Center, Cats Allowed, Dogs Allowed]   42.2019   \n",
       "39798   [Elevator, Walk in Closet(s), High Ceilings, H...   34.0126   \n",
       "41022        [Fitness Center, Cats Allowed, Dogs Allowed]   42.2019   \n",
       "57131        [Fitness Center, Cats Allowed, Dogs Allowed]   42.2019   \n",
       "62409   [Elevator, Fitness Center, Cats Allowed, Dogs ...   42.3033   \n",
       "72896                                                  []   41.7530   \n",
       "73065   [Elevator, Fitness Center, Cats Allowed, Dogs ...   42.3033   \n",
       "78568   [Fitness Center, Renovated, Walk in Closet(s),...   44.8835   \n",
       "80360                            [Elevator, Cats Allowed]   42.3459   \n",
       "81815   [Dining Room, Laundry in Unit, Dishwasher, Har...   42.8725   \n",
       "85995              [Elevator, Cats Allowed, Dogs Allowed]   42.3459   \n",
       "104822  [Doorman, Elevator, Walk in Closet(s), High Ce...   39.8395   \n",
       "108994  [Common Outdoor Space, Private Outdoor Space, ...   40.1159   \n",
       "114028  [Cats Allowed, Dogs Allowed, Doorman, Elevator...   40.0450   \n",
       "114889       [Fitness Center, Cats Allowed, Dogs Allowed]   42.2019   \n",
       "117255  [Furnished, Parking Space, No Fee, Elevator, L...   42.2509   \n",
       "121891  [Common Outdoor Space, Cats Allowed, Private O...   39.7996   \n",
       "\n",
       "        listing_id  longitude                        manager_id  \\\n",
       "872        7143730   -71.0794  c090563865adf7dd1c953e9d6bd65318   \n",
       "4719       7221153   -73.4662  5856ea690d343df5f3bc66315babb280   \n",
       "18267      7229074   -76.6336  f44a6215f74f901ac7e326207f2984f7   \n",
       "24747      7146153   -71.0794  6a393c2a7ce242d016fb0170ed19aa61   \n",
       "39046      7169135   -70.9846  50ef6c51bfe99f33e459ab902190e87f   \n",
       "39798      7174857  -118.2710  f19288238987b18a693e16ee23720c20   \n",
       "41022      7209113   -70.9846  43389561311270c553bb83a168a07a6b   \n",
       "57131      7079426   -70.9846  43389561311270c553bb83a168a07a6b   \n",
       "62409      6974621   -71.2133  602fee16546f42bfa81f4adc05261cfa   \n",
       "72896      6981117   -87.6134  ee89e559c627af61e8730ea4ad7011d6   \n",
       "73065      7059785   -71.2133  602fee16546f42bfa81f4adc05261cfa   \n",
       "78568      7035661   -93.2705  223268168dc5049485bd70a19596730e   \n",
       "80360      7075183   -71.0794  6a393c2a7ce242d016fb0170ed19aa61   \n",
       "81815      6957694   -73.4665  2b6d9435a0e6c4019e5ffcb53389c3dd   \n",
       "85995      6946575   -71.0794  c090563865adf7dd1c953e9d6bd65318   \n",
       "104822     6881361   -86.1527  8439c2c1ab6949a7447b00971e2f73a9   \n",
       "108994     6819739   -74.6267  8e75480baef379386edc3880bba576fd   \n",
       "114028     6836479   -75.5214  c3b7c269756b10a84641f04868f30db1   \n",
       "114889     6906214   -70.9846  43389561311270c553bb83a168a07a6b   \n",
       "117255     6834490   -71.0060  e6472c7237327dd3903b3d6f6a94515a   \n",
       "121891     6850473   -74.6248  4c2a031c5886dd6ca7085f3300dc7cb6   \n",
       "\n",
       "                                                   photos  price  \\\n",
       "872     [https://photos.renthop.com/2/7143730_775991d2...   4186   \n",
       "4719    [https://photos.renthop.com/2/7221153_0160c1e4...   2300   \n",
       "18267   [https://photos.renthop.com/2/7229074_14de73ea...   3300   \n",
       "24747   [https://photos.renthop.com/2/7146153_6c1b933d...   4123   \n",
       "39046   [https://photos.renthop.com/2/7169135_9a47ffdd...   2140   \n",
       "39798   [https://photos.renthop.com/2/7174857_6d71b6e1...   2425   \n",
       "41022   [https://photos.renthop.com/2/7209113_f37eb785...   2709   \n",
       "57131   [https://photos.renthop.com/2/7079426_dc48b760...   2308   \n",
       "62409   [https://photos.renthop.com/2/6974621_11136b2c...   2889   \n",
       "72896   [https://photos.renthop.com/2/6981117_2428e796...   2000   \n",
       "73065                                                  []   3518   \n",
       "78568   [https://photos.renthop.com/2/7035661_e224f454...  13875   \n",
       "80360   [https://photos.renthop.com/2/7075183_b60bc7f3...   6801   \n",
       "81815   [https://photos.renthop.com/2/6957694_adac55f7...   2700   \n",
       "85995   [https://photos.renthop.com/2/6946575_d6515ca4...   3698   \n",
       "104822  [https://photos.renthop.com/2/6881361_f8efe79e...   2650   \n",
       "108994  [https://photos.renthop.com/2/6819739_79b1aee8...   1650   \n",
       "114028  [https://photos.renthop.com/2/6836479_2a5daff5...   2895   \n",
       "114889  [https://photos.renthop.com/2/6906214_4ab3c74a...   2541   \n",
       "117255  [https://photos.renthop.com/2/6834490_75f7d508...   1670   \n",
       "121891  [https://photos.renthop.com/2/6850473_1a7356aa...   2550   \n",
       "\n",
       "                                  street_address interest_level  \\\n",
       "872                           32 Garrison Street            low   \n",
       "4719                              1844 84 Street            low   \n",
       "18267                          250 1st Ave. Loop            low   \n",
       "24747                      56 St. Botolph Street            low   \n",
       "39046                         550 Liberty Street            low   \n",
       "39798                             234 E 38th St,            low   \n",
       "41022                         550 Liberty Street            low   \n",
       "57131                         550 Liberty Street            low   \n",
       "62409                             300 2nd Avenue            low   \n",
       "72896   452 E 78th St #2A (First Ave & York Ave)            low   \n",
       "73065                             300 2nd Avenue            low   \n",
       "78568                    400 E 66th St,New York             low   \n",
       "80360                         32 Garrison Street            low   \n",
       "81815                               7916 19 Road            low   \n",
       "85995                         30 Garrison Street            low   \n",
       "104822                            235 E 46th St,            low   \n",
       "108994                     268 Bainbridge Street            low   \n",
       "114028                      271 West 47TH Street            low   \n",
       "114889                        550 Liberty Street            low   \n",
       "117255             176 Presidents lane,Quincy,MA            low   \n",
       "121891                       505 Saint Marks Ave            low   \n",
       "\n",
       "                   dt_distance  \n",
       "872      [[4.546299999999988]]  \n",
       "4719     [[2.685999999999993]]  \n",
       "18267    [[4.946600000000004]]  \n",
       "24747    [[4.546299999999988]]  \n",
       "39046    [[4.497099999999996]]  \n",
       "39798    [[50.97860000000001]]  \n",
       "41022    [[4.497099999999996]]  \n",
       "57131    [[4.497099999999996]]  \n",
       "62409    [[4.369799999999991]]  \n",
       "72896   [[14.644800000000004]]  \n",
       "73065    [[4.369799999999991]]  \n",
       "78568              [[23.4324]]  \n",
       "80360    [[4.546299999999988]]  \n",
       "81815   [[2.6858000000000004]]  \n",
       "85995    [[4.546299999999988]]  \n",
       "104822             [[13.0334]]  \n",
       "108994  [[1.2310000000000016]]  \n",
       "114028  [[2.1966000000000037]]  \n",
       "114889   [[4.497099999999996]]  \n",
       "117255   [[4.524699999999996]]  \n",
       "121891  [[1.5454000000000008]]  "
      ]
     },
     "execution_count": 13,
     "metadata": {},
     "output_type": "execute_result"
    }
   ],
   "source": [
    "# df.loc[df.price == df.price[true_index].max()]\n",
    "\n",
    "new_df.loc[new_df.dt_distance >= 0.9]"
   ]
  },
  {
   "cell_type": "code",
   "execution_count": 14,
   "metadata": {},
   "outputs": [
    {
     "data": {
      "text/plain": [
       "count    48329.000000\n",
       "mean       -73.973306\n",
       "std          0.026293\n",
       "min        -74.017900\n",
       "25%        -73.991700\n",
       "50%        -73.978000\n",
       "75%        -73.955200\n",
       "max        -73.832500\n",
       "Name: longitude, dtype: float64"
      ]
     },
     "execution_count": 14,
     "metadata": {},
     "output_type": "execute_result"
    }
   ],
   "source": [
    "res = new_df.longitude.quantile([lower_bound, upper_bound])\n",
    "true_index = (res.loc[lower_bound] < new_df.longitude.values) & (new_df.longitude.values < res.loc[upper_bound])\n",
    "true_index\n",
    "new_df.longitude[true_index].describe()"
   ]
  },
  {
   "cell_type": "code",
   "execution_count": 15,
   "metadata": {},
   "outputs": [
    {
     "data": {
      "text/plain": [
       "(48329, 16)"
      ]
     },
     "execution_count": 15,
     "metadata": {},
     "output_type": "execute_result"
    }
   ],
   "source": [
    "new_df = new_df.loc[true_index]\n",
    "new_df.shape"
   ]
  },
  {
   "cell_type": "code",
   "execution_count": null,
   "metadata": {},
   "outputs": [],
   "source": []
  },
  {
   "cell_type": "markdown",
   "metadata": {},
   "source": [
    "# Feature Stuff"
   ]
  },
  {
   "cell_type": "code",
   "execution_count": 18,
   "metadata": {
    "scrolled": true
   },
   "outputs": [
    {
     "name": "stdout",
     "output_type": "stream",
     "text": [
      "['shares ok', 'atm', 'baruch', 'just listed', 'valet service', 'a/c', 'window kitchen', 'roofdeck', 'free storage', 'new reno', 'renovated apt', 'rooftop deck', 'hi rise', '2 months free', 'pets welcome', 'duplex layout', 'small dogs ok', 'steam room', 'pre-war charm', 'great share', 'quiet', '1 br or conv 2', 'no broker fee', '24hr doorman', '65th/2nd ave', 'patio', 'large rooms', 'microwave', 'pets allowed', 'laundry', 'pet friendly', 'exposed brick', '79th/2nd', 'wash/dryer', 'dogs allowed', 'game room', 'cold storage', 'spa center', 'roof-deck', 'free gym', 'satellite tv', 'new', 'just renovated', 'skyline view', 'party room', '3 bath', 'loft area', 'built in ac', 'pre-war', 'no broker fee!', 'duplex', '\\xa0subway', 'lounge spaces', 'new electric', 'outdoor pool', 'bluetooth', 'wifi', 'hardwood', 'short term', 'foyer', 'flex two bed', 'julian balcony', 'wi-fi access', 'kids playroom', 'dish washer', 'heat included', 'gramercy', '24hr doormen', 'terrace', 'fireplace', 'private patio', 'washer & dryer', 'bbq grill', 'brand new', 'space', 'simplex', 'multi-level', 'solarium', 'stunning', 'health club', 'gut renovated.', 'washer', 'actual photos', 'yoga room', 'storage unit', '2 year lease', 'on-site garage', 's/s appliances', '3', 'bay windows', 'sitting area', 'bike storage', 'dishwasher', 'french doors', 'large', 'dogs ok', 'subway', 'pool', 'walk-up', 'great area', 'common storage', 'pets ok', 'sunlight', 'parking', 'tenant storage', 'publicoutdoor', 'furnished', 'parquet floors', 'lounge room', 'xxlarge studio', 'big rooms', 'digital tv', 'share ok', 'spa services', 'nmw', 'massive home', 'closets', 'large patio', '75th & 1st', 'roof access', 'tall ceilings', 'voice intercom', 'ac central', 'washer/dryer', 'pre war', 'flex-3', 'central a/c', 'light.', 'mint', 'gut renovated', 'duplex lounge', 'live work', 'ss appliances', 'high floor', 'prewar', 'gym/fitness', 'screening room', 'golf simulator', 'flex-4', 'large closets', 'restaurant', 'cable ready', 'king bedrooms', '1/2 bath', 'swimming pool', 'eat in kitchen', 'easy to show!', 'common areas', '1 month free', 'gym discount', 'open kitchen', 'huge balcony', 'near subway', 'pets', 'rentable', 'housekeeping', 'a/c units', 'huge', 'eat-in kitchen', 'new renovation', 'full kitchen', 'open layout', 'midrise', 'washer / dryer', 'virtual dm', 'renovated', 'corner unit', 'townhouse', 'storage room', 'sorry no pets', 'garden', 'garage.', '22', 'dog okay', 'large room', 'low-rise', 'east village', 'closet space', 'bright & sunny', 'wine cooler', 'outdoor space', 'club room', 'near pratt', 'open views', 'dining room', 'bright', '6 bedrooms', '55th & 6th ave', 'highland park', 'time warner', 'alcove', 'marble bath', 'linoleum', 'light', 'skylights', 'park view', 'ac', 'condo finishes', 'eat-in-kitchen', 'laundry room', 'sauna', 'lots of light', 'poo', 'river view', 'high ceilings.', 'bridge view', 'one month free', '2', 'must see', 'sleep loft', '1200sq ft', 'live-in super', 'shares okay', 'sublet', 'exclusive', 'great view', '3 ac', 'elevator', 'private deck', '30', 'postwar', 'river views', 'balcony', 'movie theater', 'loft', 'high ceilings', 'kids play room', 'free brealfast', 'outdoor areas', 'convertible-2', 'full size gym', 'valet', 'game center', 'huge closets', 'valet parking', 'ceiling-fan...', 'walk-in-closet', 'package room', 'gym', 'no pets', 'roof/sundeck', 'cinema room', 'private garden', \"chef's kitchen\", 'brownstone', 'indoor pool', 'fitness room', 'extra room', 'live/work', 'huge rooms', 'super on-site', 'oversized', 'flex 3 bed', 'reduced fee', 'alcove studio', 'park block', 'fireplaces', 'city view', 'grand central', 'deco fireplace', 'low fee', 'french door', 'broker fee.', 'queen bedrooms', 'prime location', 'no fee', 'high ceiling', 'full floor', 'garage parking', 'on-sites super', 'huge room', 'month free', 'valet services', 'poker table', 'penthouse', 'rent stabilize', 'half bath', 'shared yard', 'loft like', 'indoor parking', 'dryer in unit', 'intercom', 'extra storage', 'dishwaser', 'huge bedrooms', 'water feature', 'post war', 'gramercy park', 'lexington 95th', 'mw', 'w/d', 'triplex', 'crown molding', 'laundry hookup', 'new flooring', 'mid-rise', \"lot's of light\", 'one month fee', 'tenant lounge', '1st', 'ft doorman', 'market on site', 'shared garden', 'sun/roofdeck', 'natural light', 'washer in unit', 'window bath', 'water views', '1.5 baths', 'bicycle room', 'bbqs!', 'island kitchen', '30th & 3rd ave', 'home office', '4', '1.5 bathrooms', 'central heat', 'actual photos!', 'amazing detail', 'fire place', 'rooftop access', 'wine cooler.', 'walk in closet', 'ceiling fan', 'exposed bricks', 'mail room', 'mint condition', '3br', 'gut renovation', 'private patio!', 'spin room', '500 sq ft', 'multi level', 'ached doorways', 'walk up', 'view', 'media room', 'diswasher', 'washer dryer', 'balocny', 'post-war', 'video intercom', 'fitness center', 'social lounge', 'bike room', 'gas included', 'virtual tour', 'great location', 'yoga studio', 'crown moldings', 'walls ok', 'no fee!!', 'yoga classes', 'super bright', 'on-site super', 'lounge', 'live in super', 'union square', 'top floor unit', 'storage closet', 'rooftop', 'chefs kitchen', 'dining area', '24/7 concierge', 'all new', 'modern kitchen', 'outdoor bbqs', 'jr.1 bed', 'gas stove', 'harwood floors', 'green building', '24 hr doorman', 'ssa kitchen', 'central air', 'garden/patio', 'common garden', 'free wifi', 'jacuzzi', 'playroom', '700 sf', 'big closets', 'laundry.', 'sundeck', 'courtyard', 'no fee!', 'nyu', 'housekeeeping', 'top floor', 'sun deck', 'walk-in closet', '87th & 1st', 'garage', 'billiards room', 'valet laundry', '1/2 month fee', 'concierge', 'diplomats ok', 'attended lobby', 'all pets ok', 'flat-screen tv', 'dw', 'sun drenched', 'two closets', 'sun decks', 'loft storage', 'super on site', 'granite bath', 'close to nyc', 'lowrise', 'doorman', 'library', 'xxl windows', 'highrise', 'roof deck', 'sunny', 'huge 1 bedroom', 'parking space', 'new appliances', 'kitchen island', 'backyard', 'convertible 2', 'and rcn', 'large windows', '2 bathrooms', 'onsite valet', 'storage', 'breakfast bar', 'common terrace', '81st & cpw', 'onsite super', '73rd st.', 'spacious rooms', 'hardwood floor', 'flex-2', '24/7 doorman', '5 bed', 'great views', 'oak floors', 'no fee!!!', 'amazing deal!', 'cats allowed', 'central ac', 'storage space', 'skylight', '1.5 bath', '1100 sq ft', 'chelsea', 'wifi access', 'water view', 'on site super', 'yard', 'spacious', 'lounge area', '2nd ave', 'parks in area', 'leed certified', 'south facing', 'deck', 'last', 'childrens room', '2 full baths', 'flex-1', 'co-op']\n"
     ]
    }
   ],
   "source": [
    "featureSet = set()\n",
    "for row in new_df.features:\n",
    "    for item in row:\n",
    "        if(len(item) < 15):\n",
    "            featureSet.add(item.lower())\n",
    "print((list(featureSet)))"
   ]
  },
  {
   "cell_type": "code",
   "execution_count": null,
   "metadata": {},
   "outputs": [],
   "source": []
  },
  {
   "cell_type": "code",
   "execution_count": 22,
   "metadata": {},
   "outputs": [],
   "source": [
    "def extractFeature(name, df, series, array):\n",
    "    feature = pd.Series(False, df.index, name=name)\n",
    "    for row, word in enumerate(series):\n",
    "        feature.iloc[row] = 0\n",
    "        for item in array:\n",
    "            if item in word:\n",
    "                feature.iloc[row] += 1\n",
    "    df[name] = feature\n",
    "    return(df)"
   ]
  },
  {
   "cell_type": "code",
   "execution_count": 25,
   "metadata": {},
   "outputs": [],
   "source": [
    "pet_policy = ['Cats Allowed', 'Dogs Allowed']\n",
    "\n",
    "new_df = extractFeature('pet_policy', new_df, new_df.features, pet_policy)"
   ]
  },
  {
   "cell_type": "code",
   "execution_count": 26,
   "metadata": {},
   "outputs": [],
   "source": [
    "listing_type = ['No Flexes', 'Exclusive', 'Sublet', 'Lease-Break', 'Short Term Allowed']\n",
    "\n",
    "new_df = extractFeature('listing_type', new_df, new_df.features, listing_type)"
   ]
  },
  {
   "cell_type": "code",
   "execution_count": 27,
   "metadata": {},
   "outputs": [],
   "source": [
    "unit_features =  ['Furnished', 'Laundry In Unit', 'Private Outdoor Space', 'Parking Space', 'Dishwasher']\n",
    "\n",
    "new_df = extractFeature('unit_features', new_df, new_df.features, unit_features)"
   ]
  },
  {
   "cell_type": "code",
   "execution_count": 28,
   "metadata": {},
   "outputs": [],
   "source": [
    "building_features = ['Doorman', 'Elevator', 'Fitness Center', 'Laundry In Building', 'Common Outdoor Space', 'Storage Facility']\n",
    "\n",
    "new_df = extractFeature('building_features', new_df, new_df.features, building_features)"
   ]
  },
  {
   "cell_type": "code",
   "execution_count": 30,
   "metadata": {},
   "outputs": [
    {
     "data": {
      "text/plain": [
       "3"
      ]
     },
     "execution_count": 30,
     "metadata": {},
     "output_type": "execute_result"
    }
   ],
   "source": [
    "new_df.listing_type.max()"
   ]
  },
  {
   "cell_type": "code",
   "execution_count": 19,
   "metadata": {},
   "outputs": [],
   "source": [
    "# sam_df = pd.DataFrame({'num_legs': [['Cats Allowed', 'Dogs Allowed'], ['Dogs Allowed'],['Cats Allowed'], []],\n",
    "#                    'num_wings': [2, 0, 0, 0],\n",
    "#                    'num_specimen_seen': [10, 2, 1, 8]},\n",
    "#                   index=['falcon', 'dog', 'spider', 'fish'])"
   ]
  },
  {
   "cell_type": "code",
   "execution_count": 24,
   "metadata": {},
   "outputs": [
    {
     "data": {
      "text/html": [
       "<div>\n",
       "<style scoped>\n",
       "    .dataframe tbody tr th:only-of-type {\n",
       "        vertical-align: middle;\n",
       "    }\n",
       "\n",
       "    .dataframe tbody tr th {\n",
       "        vertical-align: top;\n",
       "    }\n",
       "\n",
       "    .dataframe thead th {\n",
       "        text-align: right;\n",
       "    }\n",
       "</style>\n",
       "<table border=\"1\" class=\"dataframe\">\n",
       "  <thead>\n",
       "    <tr style=\"text-align: right;\">\n",
       "      <th></th>\n",
       "      <th>num_legs</th>\n",
       "      <th>num_wings</th>\n",
       "      <th>num_specimen_seen</th>\n",
       "      <th>pet_policy</th>\n",
       "    </tr>\n",
       "  </thead>\n",
       "  <tbody>\n",
       "    <tr>\n",
       "      <th>falcon</th>\n",
       "      <td>[Cats Allowed, Dogs Allowed]</td>\n",
       "      <td>2</td>\n",
       "      <td>10</td>\n",
       "      <td>2</td>\n",
       "    </tr>\n",
       "    <tr>\n",
       "      <th>dog</th>\n",
       "      <td>[Dogs Allowed]</td>\n",
       "      <td>0</td>\n",
       "      <td>2</td>\n",
       "      <td>1</td>\n",
       "    </tr>\n",
       "    <tr>\n",
       "      <th>spider</th>\n",
       "      <td>[Cats Allowed]</td>\n",
       "      <td>0</td>\n",
       "      <td>1</td>\n",
       "      <td>1</td>\n",
       "    </tr>\n",
       "    <tr>\n",
       "      <th>fish</th>\n",
       "      <td>[]</td>\n",
       "      <td>0</td>\n",
       "      <td>8</td>\n",
       "      <td>0</td>\n",
       "    </tr>\n",
       "  </tbody>\n",
       "</table>\n",
       "</div>"
      ],
      "text/plain": [
       "                            num_legs  num_wings  num_specimen_seen pet_policy\n",
       "falcon  [Cats Allowed, Dogs Allowed]          2                 10          2\n",
       "dog                   [Dogs Allowed]          0                  2          1\n",
       "spider                [Cats Allowed]          0                  1          1\n",
       "fish                              []          0                  8          0"
      ]
     },
     "execution_count": 24,
     "metadata": {},
     "output_type": "execute_result"
    }
   ],
   "source": [
    "# pet_policy = ['Cats Allowed', 'Dogs Allowed']\n",
    "\n",
    "# sam_df = extractFeature('pet_policy', sam_df, sam_df.num_legs, pet_policy)\n",
    "# sam_df"
   ]
  },
  {
   "cell_type": "markdown",
   "metadata": {},
   "source": [
    "# Description Stuff"
   ]
  },
  {
   "cell_type": "code",
   "execution_count": 32,
   "metadata": {},
   "outputs": [],
   "source": [
    "#remove punctuation\n",
    "def noPunct(row):\n",
    "    noPunctuation = \"\".join([c for c in row['description'] if c not in string.punctuation])\n",
    "    return noPunctuation.lower()\n",
    "\n",
    "new_df['temp1'] = new_df.apply (lambda row: noPunct(row), axis=1)"
   ]
  },
  {
   "cell_type": "code",
   "execution_count": 34,
   "metadata": {},
   "outputs": [],
   "source": [
    "# tokenize\n",
    "tokenizer = RegexpTokenizer(r'\\w+')    \n",
    "new_df['temp2'] = new_df['temp1'].apply (lambda x: tokenizer.tokenize(x))"
   ]
  },
  {
   "cell_type": "code",
   "execution_count": 35,
   "metadata": {},
   "outputs": [],
   "source": [
    "#remove stopwords\n",
    "def removStopwords(text):\n",
    "    words = [w for w in text if w not in stopwords.words('english')]\n",
    "    return words\n",
    "\n",
    "new_df['temp3'] = new_df['temp2'].apply(lambda x : removStopwords(x))"
   ]
  },
  {
   "cell_type": "code",
   "execution_count": 160,
   "metadata": {},
   "outputs": [],
   "source": [
    "f.to_json(r'C:\\Users\\HP\\Documents\\cmpt 459 Kaggle\\two_sigma\\train_wordsfromDesc.json')"
   ]
  },
  {
   "cell_type": "code",
   "execution_count": 7,
   "metadata": {},
   "outputs": [],
   "source": [
    "#lemmatize the words\n",
    "lemmatizer = WordNetLemmatizer()\n",
    "def wordLemmatizer(text):\n",
    "    lemmatizedWord = [lemmatizer.lemmatize(i) for i in text]\n",
    "    return lemmatizedWord\n",
    "\n",
    "new_df['temp4'] = new_df['temp3'].apply(lambda x : wordLemmatizer(x))"
   ]
  },
  {
   "cell_type": "code",
   "execution_count": 8,
   "metadata": {},
   "outputs": [],
   "source": [
    "#convert into string\n",
    "def listToString(row):\n",
    "    my_string = ' '.join(row['temp4'])\n",
    "    return my_string\n",
    "\n",
    "new_df['temp5'] = new_df.apply (lambda row: listToString(row), axis=1)"
   ]
  },
  {
   "cell_type": "code",
   "execution_count": 14,
   "metadata": {},
   "outputs": [
    {
     "data": {
      "text/plain": [
       "(48329, 27)"
      ]
     },
     "execution_count": 14,
     "metadata": {},
     "output_type": "execute_result"
    }
   ],
   "source": [
    "new_df.shape"
   ]
  },
  {
   "cell_type": "code",
   "execution_count": 11,
   "metadata": {},
   "outputs": [],
   "source": [
    "#remove words not in dictionary\n",
    "words = set(nltk.corpus.words.words())\n",
    "def wordsInDict(text):\n",
    "    engText = \" \".join(w for w in nltk.wordpunct_tokenize(text) if w.lower() in words and len(w)>1)# or not w.isalpha())\n",
    "    return engText\n",
    "\n",
    "new_df['temp6'] = new_df['temp5'].apply(lambda x : wordsInDict(x))"
   ]
  },
  {
   "cell_type": "code",
   "execution_count": 13,
   "metadata": {},
   "outputs": [
    {
     "name": "stdout",
     "output_type": "stream",
     "text": [
      "433350\n",
      "7594\n"
     ]
    }
   ],
   "source": [
    "# create list of words and count their occurrences\n",
    "words_list = []\n",
    "count = 0\n",
    "word_count = 0\n",
    "remove_word_count = 0\n",
    "for row in new_df.temp6:\n",
    "    words_list += row.split()\n",
    "    \n",
    "counter_obj = Counter(words_list)\n",
    "words_list = counter_obj.most_common()\n",
    "\n",
    "# remove words that occur less than 1000 (uncommon)\n",
    "remove_words = set()\n",
    "count = 0\n",
    "unikCount = 0\n",
    "for word in words_list:\n",
    "    if(word[1] < 1000):\n",
    "        remove_words.add(word[0])\n",
    "        if(word[1] < 1000):\n",
    "            count += word[1]\n",
    "            unikCount += 1\n",
    "print(count)\n",
    "print(unikCount)\n",
    "\n",
    "def removeRareWords(text):\n",
    "    engText = \" \".join(w for w in text.split() if w not in remove_words)\n",
    "    return engText\n",
    "    \n",
    "new_df['temp7'] = new_df['temp6'].apply(lambda x : removeRareWords(x))"
   ]
  },
  {
   "cell_type": "code",
   "execution_count": 15,
   "metadata": {},
   "outputs": [],
   "source": [
    "# create final set of words\n",
    "finalWordsSet = set()\n",
    "for row in new_df.temp7:\n",
    "    ls=row.split()\n",
    "    if(len(ls) > 0):     \n",
    "        for item in ls:\n",
    "            finalWordsSet.add(item)\n",
    "#print(len(list(finalWordsSet)))\n",
    "\n",
    "# calculate tf-idf for the words\n",
    "vectorizer = TfidfVectorizer()\n",
    "ls = []\n",
    "for row in new_df.temp7:\n",
    "    ls += [row]\n",
    "#print(type(ls))\n",
    "vectors = vectorizer.fit_transform(ls)\n",
    "feature_names = vectorizer.get_feature_names()\n",
    "dense = vectors.todense()\n",
    "denselist = dense.tolist()\n",
    "\n",
    "desc_df = pd.DataFrame(denselist, columns=feature_names)"
   ]
  },
  {
   "cell_type": "code",
   "execution_count": 21,
   "metadata": {},
   "outputs": [
    {
     "data": {
      "text/plain": [
       "(48329, 377)"
      ]
     },
     "execution_count": 21,
     "metadata": {},
     "output_type": "execute_result"
    }
   ],
   "source": [
    "desc_df.shape"
   ]
  },
  {
   "cell_type": "code",
   "execution_count": 121,
   "metadata": {},
   "outputs": [],
   "source": [
    "m.to_json(r'C:\\Users\\HP\\Documents\\cmpt 459 Kaggle\\two_sigma\\selected_features.json')"
   ]
  },
  {
   "cell_type": "code",
   "execution_count": 29,
   "metadata": {},
   "outputs": [],
   "source": [
    "interest_level = new_df['interest_level']"
   ]
  },
  {
   "cell_type": "code",
   "execution_count": 26,
   "metadata": {},
   "outputs": [],
   "source": [
    "from sklearn.feature_selection import mutual_info_classif\n",
    "from sklearn.feature_selection import SelectKBest"
   ]
  },
  {
   "cell_type": "code",
   "execution_count": 30,
   "metadata": {},
   "outputs": [
    {
     "name": "stdout",
     "output_type": "stream",
     "text": [
      "[False False False False False False False False False  True  True False\n",
      " False False False False False False False False False False False False\n",
      " False False False  True False False False False False False False False\n",
      " False False False False False False False False False False False False\n",
      " False False False False False False False False False False False False\n",
      " False False False False False False False False False False False False\n",
      " False False False False False False False False False False False False\n",
      " False False False False False False False False False False False False\n",
      " False False False False False False False False False False False False\n",
      " False False False False False False False False False False False False\n",
      " False False False False False False  True False False False False False\n",
      " False False False False False False False False False False False False\n",
      " False False False False False False False False False False False False\n",
      " False False False False False False False False False False False False\n",
      " False False False False False False False False  True False False False\n",
      " False False False False False False False False False False False False\n",
      " False False False False False False False False False False False False\n",
      " False False False False False False False False False False False False\n",
      " False False False False False False False False False False False False\n",
      " False False False False False False False False False False False False\n",
      " False False False False  True False False False False False False False\n",
      " False False False False False False False False False False False False\n",
      " False False False False False False False False False False False False\n",
      " False False False  True False False False False False False False False\n",
      " False False False False False False False False False False False False\n",
      " False False False False False False False False False False False False\n",
      " False False False False False False False False False False False False\n",
      " False False False False False False False False False False False False\n",
      " False False False False False False False False False False False False\n",
      " False False False False False False False False False False False False\n",
      " False False False False False False False False False False False False\n",
      " False False False False False]\n"
     ]
    }
   ],
   "source": [
    "sel_mutual = SelectKBest(mutual_info_classif, k=7)\n",
    "Desc_mutual = sel_mutual.fit_transform(desc_df, interest_level)\n",
    "print(sel_mutual.get_support())"
   ]
  },
  {
   "cell_type": "code",
   "execution_count": 123,
   "metadata": {},
   "outputs": [
    {
     "ename": "SyntaxError",
     "evalue": "invalid syntax (<ipython-input-123-31d49e6c535d>, line 6)",
     "output_type": "error",
     "traceback": [
      "\u001b[1;36m  File \u001b[1;32m\"<ipython-input-123-31d49e6c535d>\"\u001b[1;36m, line \u001b[1;32m6\u001b[0m\n\u001b[1;33m    m = mm.loc[, sel_mutual.get_support()]\u001b[0m\n\u001b[1;37m               ^\u001b[0m\n\u001b[1;31mSyntaxError\u001b[0m\u001b[1;31m:\u001b[0m invalid syntax\n"
     ]
    }
   ],
   "source": [
    "mm = desc_df\n",
    "\n",
    "# mm[mm.rows[sel_mutual.get_support()]]\n",
    "# mm.head()\n",
    "# mm[(sel_mutual.get_support()).index[sel_mutual.get_support()]]\n",
    "m = mm.loc[:, sel_mutual.get_support()]\n",
    "m.shape"
   ]
  },
  {
   "cell_type": "code",
   "execution_count": 145,
   "metadata": {},
   "outputs": [
    {
     "name": "stdout",
     "output_type": "stream",
     "text": [
      "<class 'pandas.core.frame.DataFrame'>\n",
      "RangeIndex: 48329 entries, 0 to 48328\n",
      "Data columns (total 18 columns):\n",
      " #   Column           Non-Null Count  Dtype  \n",
      "---  ------           --------------  -----  \n",
      " 0   bathrooms        48329 non-null  float64\n",
      " 1   bedrooms         48329 non-null  int64  \n",
      " 2   building_id      48329 non-null  object \n",
      " 3   created          48329 non-null  int64  \n",
      " 4   description      48329 non-null  object \n",
      " 5   display_address  48329 non-null  object \n",
      " 6   features         48329 non-null  object \n",
      " 7   latitude         48329 non-null  float64\n",
      " 8   listing_id       48329 non-null  int64  \n",
      " 9   longitude        48329 non-null  float64\n",
      " 10  manager_id       48329 non-null  object \n",
      " 11  photos           48329 non-null  object \n",
      " 12  price            48329 non-null  int64  \n",
      " 13  street_address   48329 non-null  object \n",
      " 14  interest_level   48329 non-null  object \n",
      " 15  hour             48329 non-null  int64  \n",
      " 16  dt_distance      48329 non-null  float64\n",
      " 17  subway_distance  48329 non-null  float64\n",
      "dtypes: float64(5), int64(5), object(8)\n",
      "memory usage: 6.6+ MB\n"
     ]
    }
   ],
   "source": [
    "# a = orig_df.reset_index(drop=True)\n",
    "a.info()"
   ]
  },
  {
   "cell_type": "code",
   "execution_count": 122,
   "metadata": {},
   "outputs": [
    {
     "data": {
      "text/html": [
       "<div>\n",
       "<style scoped>\n",
       "    .dataframe tbody tr th:only-of-type {\n",
       "        vertical-align: middle;\n",
       "    }\n",
       "\n",
       "    .dataframe tbody tr th {\n",
       "        vertical-align: top;\n",
       "    }\n",
       "\n",
       "    .dataframe thead th {\n",
       "        text-align: right;\n",
       "    }\n",
       "</style>\n",
       "<table border=\"1\" class=\"dataframe\">\n",
       "  <thead>\n",
       "    <tr style=\"text-align: right;\">\n",
       "      <th></th>\n",
       "      <th>apartment</th>\n",
       "      <th>appliance</th>\n",
       "      <th>bedroom</th>\n",
       "      <th>floor</th>\n",
       "      <th>kitchen</th>\n",
       "      <th>pa</th>\n",
       "      <th>room</th>\n",
       "    </tr>\n",
       "  </thead>\n",
       "  <tbody>\n",
       "    <tr>\n",
       "      <th>0</th>\n",
       "      <td>0.000000</td>\n",
       "      <td>0.000000</td>\n",
       "      <td>0.108624</td>\n",
       "      <td>0.110607</td>\n",
       "      <td>0.098530</td>\n",
       "      <td>0.128425</td>\n",
       "      <td>0.000000</td>\n",
       "    </tr>\n",
       "    <tr>\n",
       "      <th>1</th>\n",
       "      <td>0.144399</td>\n",
       "      <td>0.000000</td>\n",
       "      <td>0.000000</td>\n",
       "      <td>0.000000</td>\n",
       "      <td>0.000000</td>\n",
       "      <td>0.000000</td>\n",
       "      <td>0.000000</td>\n",
       "    </tr>\n",
       "    <tr>\n",
       "      <th>2</th>\n",
       "      <td>0.323540</td>\n",
       "      <td>0.080271</td>\n",
       "      <td>0.070551</td>\n",
       "      <td>0.000000</td>\n",
       "      <td>0.063995</td>\n",
       "      <td>0.083412</td>\n",
       "      <td>0.086122</td>\n",
       "    </tr>\n",
       "    <tr>\n",
       "      <th>3</th>\n",
       "      <td>0.154491</td>\n",
       "      <td>0.095824</td>\n",
       "      <td>0.084221</td>\n",
       "      <td>0.085758</td>\n",
       "      <td>0.076394</td>\n",
       "      <td>0.000000</td>\n",
       "      <td>0.205618</td>\n",
       "    </tr>\n",
       "    <tr>\n",
       "      <th>4</th>\n",
       "      <td>0.000000</td>\n",
       "      <td>0.000000</td>\n",
       "      <td>0.000000</td>\n",
       "      <td>0.000000</td>\n",
       "      <td>0.000000</td>\n",
       "      <td>0.141007</td>\n",
       "      <td>0.000000</td>\n",
       "    </tr>\n",
       "  </tbody>\n",
       "</table>\n",
       "</div>"
      ],
      "text/plain": [
       "   apartment  appliance   bedroom     floor   kitchen        pa      room\n",
       "0   0.000000   0.000000  0.108624  0.110607  0.098530  0.128425  0.000000\n",
       "1   0.144399   0.000000  0.000000  0.000000  0.000000  0.000000  0.000000\n",
       "2   0.323540   0.080271  0.070551  0.000000  0.063995  0.083412  0.086122\n",
       "3   0.154491   0.095824  0.084221  0.085758  0.076394  0.000000  0.205618\n",
       "4   0.000000   0.000000  0.000000  0.000000  0.000000  0.141007  0.000000"
      ]
     },
     "execution_count": 122,
     "metadata": {},
     "output_type": "execute_result"
    }
   ],
   "source": [
    "m.head()"
   ]
  },
  {
   "cell_type": "code",
   "execution_count": 77,
   "metadata": {},
   "outputs": [],
   "source": [
    "for row in m:\n",
    "    del orig_df[row]\n",
    "#     print(row)"
   ]
  },
  {
   "cell_type": "code",
   "execution_count": 146,
   "metadata": {},
   "outputs": [
    {
     "name": "stdout",
     "output_type": "stream",
     "text": [
      "<class 'pandas.core.frame.DataFrame'>\n",
      "RangeIndex: 48329 entries, 0 to 48328\n",
      "Data columns (total 25 columns):\n",
      " #   Column           Non-Null Count  Dtype  \n",
      "---  ------           --------------  -----  \n",
      " 0   bathrooms        48329 non-null  float64\n",
      " 1   bedrooms         48329 non-null  int64  \n",
      " 2   building_id      48329 non-null  object \n",
      " 3   created          48329 non-null  int64  \n",
      " 4   description      48329 non-null  object \n",
      " 5   display_address  48329 non-null  object \n",
      " 6   features         48329 non-null  object \n",
      " 7   latitude         48329 non-null  float64\n",
      " 8   listing_id       48329 non-null  int64  \n",
      " 9   longitude        48329 non-null  float64\n",
      " 10  manager_id       48329 non-null  object \n",
      " 11  photos           48329 non-null  object \n",
      " 12  price            48329 non-null  int64  \n",
      " 13  street_address   48329 non-null  object \n",
      " 14  interest_level   48329 non-null  object \n",
      " 15  hour             48329 non-null  int64  \n",
      " 16  dt_distance      48329 non-null  float64\n",
      " 17  subway_distance  48329 non-null  float64\n",
      " 18  apartment        48329 non-null  float64\n",
      " 19  appliance        48329 non-null  float64\n",
      " 20  bedroom          48329 non-null  float64\n",
      " 21  floor            48329 non-null  float64\n",
      " 22  kitchen          48329 non-null  float64\n",
      " 23  pa               48329 non-null  float64\n",
      " 24  room             48329 non-null  float64\n",
      "dtypes: float64(12), int64(5), object(8)\n",
      "memory usage: 9.2+ MB\n"
     ]
    }
   ],
   "source": [
    "# orig_df['apartment'] = m['apartment']\n",
    "# del orig_df['apartment']\n",
    "# orig_df.info()\n",
    "f = pd.concat([a, m], axis=1)\n",
    "f.info()"
   ]
  },
  {
   "cell_type": "code",
   "execution_count": 151,
   "metadata": {},
   "outputs": [
    {
     "name": "stdout",
     "output_type": "stream",
     "text": [
      "<class 'pandas.core.frame.DataFrame'>\n",
      "RangeIndex: 48329 entries, 0 to 48328\n",
      "Data columns (total 25 columns):\n",
      " #   Column           Non-Null Count  Dtype  \n",
      "---  ------           --------------  -----  \n",
      " 0   bathrooms        48329 non-null  float64\n",
      " 1   bedrooms         48329 non-null  int64  \n",
      " 2   building_id      48329 non-null  object \n",
      " 3   created          48329 non-null  int64  \n",
      " 4   description      48329 non-null  object \n",
      " 5   display_address  48329 non-null  object \n",
      " 6   features         48329 non-null  object \n",
      " 7   latitude         48329 non-null  float64\n",
      " 8   listing_id       48329 non-null  int64  \n",
      " 9   longitude        48329 non-null  float64\n",
      " 10  manager_id       48329 non-null  object \n",
      " 11  photos           48329 non-null  object \n",
      " 12  price            48329 non-null  int64  \n",
      " 13  street_address   48329 non-null  object \n",
      " 14  interest_level   48329 non-null  object \n",
      " 15  hour             48329 non-null  int64  \n",
      " 16  dt_distance      48329 non-null  float64\n",
      " 17  subway_distance  48329 non-null  float64\n",
      " 18  apartment        48329 non-null  float64\n",
      " 19  appliance        48329 non-null  float64\n",
      " 20  bedroom          48329 non-null  float64\n",
      " 21  floor            48329 non-null  float64\n",
      " 22  kitchen          48329 non-null  float64\n",
      " 23  pa               48329 non-null  float64\n",
      " 24  room             48329 non-null  float64\n",
      "dtypes: float64(12), int64(5), object(8)\n",
      "memory usage: 9.2+ MB\n",
      "(48329, 25)\n"
     ]
    }
   ],
   "source": [
    "f.info()\n",
    "print(f.shape)"
   ]
  },
  {
   "cell_type": "code",
   "execution_count": 120,
   "metadata": {},
   "outputs": [
    {
     "name": "stdout",
     "output_type": "stream",
     "text": [
      "<class 'pandas.core.frame.DataFrame'>\n",
      "Int64Index: 48329 entries, 4 to 124009\n",
      "Data columns (total 19 columns):\n",
      " #   Column           Non-Null Count  Dtype  \n",
      "---  ------           --------------  -----  \n",
      " 0   bathrooms        48329 non-null  float64\n",
      " 1   bedrooms         48329 non-null  int64  \n",
      " 2   building_id      48329 non-null  object \n",
      " 3   created          48329 non-null  int64  \n",
      " 4   description      48329 non-null  object \n",
      " 5   display_address  48329 non-null  object \n",
      " 6   features         48329 non-null  object \n",
      " 7   latitude         48329 non-null  float64\n",
      " 8   listing_id       48329 non-null  int64  \n",
      " 9   longitude        48329 non-null  float64\n",
      " 10  manager_id       48329 non-null  object \n",
      " 11  photos           48329 non-null  object \n",
      " 12  price            48329 non-null  int64  \n",
      " 13  street_address   48329 non-null  object \n",
      " 14  interest_level   48329 non-null  object \n",
      " 15  hour             48329 non-null  int64  \n",
      " 16  dt_distance      48329 non-null  float64\n",
      " 17  subway_distance  48329 non-null  float64\n",
      " 18  apartment        18772 non-null  float64\n",
      "dtypes: float64(6), int64(5), object(8)\n",
      "memory usage: 8.6+ MB\n"
     ]
    }
   ],
   "source": [
    "# orig_df.append( m['apartment'])\n",
    "# del orig_df['apartment']\n",
    "temp = orig_df\n",
    "temp['apartment'] = pd.Series(m['apartment'].values)\n",
    "temp.info()"
   ]
  },
  {
   "cell_type": "code",
   "execution_count": null,
   "metadata": {},
   "outputs": [],
   "source": []
  },
  {
   "cell_type": "code",
   "execution_count": 86,
   "metadata": {
    "scrolled": true
   },
   "outputs": [
    {
     "name": "stdout",
     "output_type": "stream",
     "text": [
      "<class 'pandas.core.frame.DataFrame'>\n",
      "Int64Index: 77886 entries, 0 to 124009\n",
      "Data columns (total 28 columns):\n",
      " #   Column           Non-Null Count  Dtype         \n",
      "---  ------           --------------  -----         \n",
      " 0   bathrooms        48329 non-null  float64       \n",
      " 1   bedrooms         48329 non-null  float64       \n",
      " 2   building_id      48329 non-null  object        \n",
      " 3   created          48329 non-null  datetime64[ns]\n",
      " 4   description      48329 non-null  object        \n",
      " 5   display_address  48329 non-null  object        \n",
      " 6   features         48329 non-null  object        \n",
      " 7   latitude         48329 non-null  float64       \n",
      " 8   listing_id       48329 non-null  float64       \n",
      " 9   longitude        48329 non-null  float64       \n",
      " 10  manager_id       48329 non-null  object        \n",
      " 11  photos           48329 non-null  object        \n",
      " 12  price            48329 non-null  float64       \n",
      " 13  street_address   48329 non-null  object        \n",
      " 14  interest_level   48329 non-null  object        \n",
      " 15  hour             48329 non-null  float64       \n",
      " 16  dt_distance      48329 non-null  float64       \n",
      " 17  subway_distance  48329 non-null  float64       \n",
      " 18  apartment        48329 non-null  float64       \n",
      " 19  appliance        48329 non-null  float64       \n",
      " 20  bedroom          48329 non-null  float64       \n",
      " 21  floor            48329 non-null  float64       \n",
      " 22  kitchen          48329 non-null  float64       \n",
      " 23  pa               48329 non-null  float64       \n",
      " 24  room             48329 non-null  float64       \n",
      " 25  created_year     48329 non-null  float64       \n",
      " 26  created_month    48329 non-null  float64       \n",
      " 27  created_day      48329 non-null  float64       \n",
      "dtypes: datetime64[ns](1), float64(19), object(8)\n",
      "memory usage: 17.2+ MB\n"
     ]
    }
   ],
   "source": [
    "result.info()"
   ]
  },
  {
   "cell_type": "code",
   "execution_count": null,
   "metadata": {},
   "outputs": [],
   "source": []
  },
  {
   "cell_type": "code",
   "execution_count": 154,
   "metadata": {},
   "outputs": [],
   "source": [
    "f[\"created\"] = pd.to_datetime(f[\"created\"])\n",
    "f[\"created_year\"] = f[\"created\"].dt.year\n",
    "f[\"created_month\"] = f[\"created\"].dt.month\n",
    "f[\"created_day\"] = f[\"created\"].dt.day"
   ]
  },
  {
   "cell_type": "code",
   "execution_count": 155,
   "metadata": {},
   "outputs": [
    {
     "data": {
      "text/plain": [
       "0    medium\n",
       "1       low\n",
       "2    medium\n",
       "3    medium\n",
       "4       low\n",
       "Name: interest_level, dtype: object"
      ]
     },
     "execution_count": 155,
     "metadata": {},
     "output_type": "execute_result"
    }
   ],
   "source": [
    "num_feats = [\"bathrooms\", \"bedrooms\", \"latitude\", \"longitude\", \"price\",\n",
    "             \"created_year\", \"created_month\", \"created_day\", \"dt_distance\", \"apartment\", \"appliance\", \"bedroom\", \"floor\", \"kitchen\", \"pa\", \"room\"]\n",
    "X = f[num_feats]\n",
    "y = f[\"interest_level\"]\n",
    "X.head()\n",
    "y.head()"
   ]
  },
  {
   "cell_type": "code",
   "execution_count": 156,
   "metadata": {},
   "outputs": [],
   "source": [
    "X_train, X_val, y_train, y_val = train_test_split(X, y, test_size=0.33)"
   ]
  },
  {
   "cell_type": "code",
   "execution_count": 158,
   "metadata": {},
   "outputs": [],
   "source": [
    "from sklearn.ensemble import RandomForestClassifier"
   ]
  },
  {
   "cell_type": "code",
   "execution_count": 159,
   "metadata": {},
   "outputs": [
    {
     "data": {
      "text/plain": [
       "0.6972466363722626"
      ]
     },
     "execution_count": 159,
     "metadata": {},
     "output_type": "execute_result"
    }
   ],
   "source": [
    "clf = RandomForestClassifier(n_estimators=1000)\n",
    "clf.fit(X_train, y_train)\n",
    "y_val_pred = clf.predict_proba(X_val)\n",
    "log_loss(y_val, y_val_pred)"
   ]
  },
  {
   "cell_type": "code",
   "execution_count": 35,
   "metadata": {},
   "outputs": [
    {
     "name": "stdout",
     "output_type": "stream",
     "text": [
      "[[0.         0.         0.10862419 ... 0.09852973 0.12842507 0.        ]\n",
      " [0.14439861 0.         0.         ... 0.         0.         0.        ]\n",
      " [0.32353959 0.08027111 0.07055127 ... 0.06399493 0.08341191 0.08612232]\n",
      " ...\n",
      " [0.09530237 0.11822397 0.1039085  ... 0.         0.12284978 0.        ]\n",
      " [0.07274833 0.         0.07931775 ... 0.07194674 0.         0.        ]\n",
      " [0.10029703 0.         0.2187084  ... 0.0991919  0.         0.        ]]\n"
     ]
    }
   ],
   "source": [
    "print(Desc_mutual)"
   ]
  },
  {
   "cell_type": "markdown",
   "metadata": {},
   "source": []
  },
  {
   "cell_type": "code",
   "execution_count": 166,
   "metadata": {},
   "outputs": [],
   "source": [
    "# df[\"num_photos\"] = df[\"photos\"].apply(len)\n",
    "# df[\"num_features\"] = df[\"features\"].apply(len)\n",
    "# df[\"num_description_words\"] = df[\"description\"].apply(lambda x: len(x.split(\" \")))\n",
    "feat_df[\"created\"] = pd.to_datetime(feat_df[\"created\"])\n",
    "feat_df[\"created_year\"] = feat_df[\"created\"].dt.year\n",
    "feat_df[\"created_month\"] = feat_df[\"created\"].dt.month\n",
    "feat_df[\"created_day\"] = feat_df[\"created\"].dt.day"
   ]
  },
  {
   "cell_type": "code",
   "execution_count": 167,
   "metadata": {},
   "outputs": [
    {
     "data": {
      "text/plain": [
       "(48329, 26)"
      ]
     },
     "execution_count": 167,
     "metadata": {},
     "output_type": "execute_result"
    }
   ],
   "source": [
    "feat_df.shape"
   ]
  },
  {
   "cell_type": "code",
   "execution_count": 193,
   "metadata": {},
   "outputs": [
    {
     "data": {
      "text/plain": [
       "4     0.0569\n",
       "6     0.0589\n",
       "9     0.0748\n",
       "10    0.0646\n",
       "15    0.0494\n",
       "Name: dt_distance, dtype: float64"
      ]
     },
     "execution_count": 193,
     "metadata": {},
     "output_type": "execute_result"
    }
   ],
   "source": [
    "def retNum(num):\n",
    "    return num[0][0]\n",
    "# feat_df['dt_distance']=\n",
    "feat_df[\"dt_distance\"] = feat_df[\"dt_distance\"].apply(lambda x: retNum(x))\n",
    "feat_df.dt_distance.head()"
   ]
  },
  {
   "cell_type": "code",
   "execution_count": 194,
   "metadata": {},
   "outputs": [
    {
     "data": {
      "text/plain": [
       "4     medium\n",
       "6        low\n",
       "9     medium\n",
       "10    medium\n",
       "15       low\n",
       "Name: interest_level, dtype: object"
      ]
     },
     "execution_count": 194,
     "metadata": {},
     "output_type": "execute_result"
    }
   ],
   "source": [
    "num_feats = [\"bathrooms\", \"bedrooms\", \"latitude\", \"longitude\", \"price\", \"dt_distance\",\n",
    "             \"created_year\", \"created_month\", \"created_day\", 'pet_policy', 'listing_type', 'unit_features', 'building_features']\n",
    "X = feat_df[num_feats]\n",
    "y = feat_df[\"interest_level\"]\n",
    "X.head()\n",
    "y.head()"
   ]
  },
  {
   "cell_type": "code",
   "execution_count": 152,
   "metadata": {},
   "outputs": [
    {
     "data": {
      "text/plain": [
       "0        False\n",
       "1        False\n",
       "2        False\n",
       "3        False\n",
       "4        False\n",
       "         ...  \n",
       "48324    False\n",
       "48325    False\n",
       "48326    False\n",
       "48327    False\n",
       "48328    False\n",
       "Name: interest_level, Length: 48329, dtype: bool"
      ]
     },
     "execution_count": 152,
     "metadata": {},
     "output_type": "execute_result"
    }
   ],
   "source": [
    "f.interest_level.isnull()"
   ]
  },
  {
   "cell_type": "markdown",
   "metadata": {},
   "source": [
    "# Train model"
   ]
  },
  {
   "cell_type": "code",
   "execution_count": 196,
   "metadata": {},
   "outputs": [],
   "source": [
    "X_train, X_val, y_train, y_val = train_test_split(X, y, test_size=0.33)"
   ]
  },
  {
   "cell_type": "code",
   "execution_count": 197,
   "metadata": {},
   "outputs": [
    {
     "data": {
      "text/plain": [
       "0.6631917764208066"
      ]
     },
     "execution_count": 197,
     "metadata": {},
     "output_type": "execute_result"
    }
   ],
   "source": [
    "clf = RandomForestClassifier(n_estimators=1000)\n",
    "# clf = SVC(gamma='auto', probability=True)\n",
    "clf.fit(X_train, y_train)\n",
    "y_val_pred = clf.predict_proba(X_val)\n",
    "log_loss(y_val, y_val_pred)"
   ]
  },
  {
   "cell_type": "code",
   "execution_count": 28,
   "metadata": {},
   "outputs": [
    {
     "name": "stdout",
     "output_type": "stream",
     "text": [
      "(74659, 14)\n"
     ]
    }
   ],
   "source": [
    "df = pd.read_json(open(\"/Users/Home/Desktop/CMPT 459/projectDataset/test.json\"))\n",
    "print(df.shape)\n",
    "df[\"num_photos\"] = df[\"photos\"].apply(len)\n",
    "df[\"num_features\"] = df[\"features\"].apply(len)\n",
    "df[\"num_description_words\"] = df[\"description\"].apply(lambda x: len(x.split(\" \")))\n",
    "df[\"created\"] = pd.to_datetime(df[\"created\"])\n",
    "df[\"created_year\"] = df[\"created\"].dt.year\n",
    "df[\"created_month\"] = df[\"created\"].dt.month\n",
    "df[\"created_day\"] = df[\"created\"].dt.day\n",
    "X = df[num_feats]\n",
    "\n",
    "y = clf.predict_proba(X)"
   ]
  },
  {
   "cell_type": "code",
   "execution_count": 21,
   "metadata": {},
   "outputs": [
    {
     "data": {
      "text/plain": [
       "{'high': 0, 'low': 1, 'medium': 2}"
      ]
     },
     "execution_count": 21,
     "metadata": {},
     "output_type": "execute_result"
    }
   ],
   "source": [
    "labels2idx = {label: i for i, label in enumerate(clf.classes_)}\n",
    "labels2idx"
   ]
  },
  {
   "cell_type": "code",
   "execution_count": 23,
   "metadata": {},
   "outputs": [],
   "source": [
    "sub = pd.DataFrame()\n",
    "sub[\"listing_id\"] = df[\"listing_id\"]\n",
    "for label in [\"high\", \"medium\", \"low\"]:\n",
    "    sub[label] = y[:, labels2idx[label]]\n",
    "sub.to_csv(\"submission_rf.csv\", index=False)"
   ]
  },
  {
   "cell_type": "code",
   "execution_count": null,
   "metadata": {},
   "outputs": [],
   "source": []
  },
  {
   "cell_type": "markdown",
   "metadata": {},
   "source": [
    "# Feature Stuff"
   ]
  },
  {
   "cell_type": "code",
   "execution_count": null,
   "metadata": {},
   "outputs": [],
   "source": []
  }
 ],
 "metadata": {
  "kernelspec": {
   "display_name": "Python 3",
   "language": "python",
   "name": "python3"
  },
  "language_info": {
   "codemirror_mode": {
    "name": "ipython",
    "version": 3
   },
   "file_extension": ".py",
   "mimetype": "text/x-python",
   "name": "python",
   "nbconvert_exporter": "python",
   "pygments_lexer": "ipython3",
   "version": "3.7.6"
  }
 },
 "nbformat": 4,
 "nbformat_minor": 4
}
