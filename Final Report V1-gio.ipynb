{
 "cells": [
  {
   "cell_type": "code",
   "execution_count": 1,
   "metadata": {},
   "outputs": [
    {
     "name": "stdout",
     "output_type": "stream",
     "text": [
      "Populating the interactive namespace from numpy and matplotlib\n"
     ]
    }
   ],
   "source": [
    "%pylab inline\n",
    "import pandas as pd\n",
    "import seaborn\n",
    "import numpy as np\n",
    "import matplotlib.pyplot as plt\n",
    "import scipy\n",
    "import cv2\n",
    "import nltk\n",
    "import string\n",
    "from collections import defaultdict\n",
    "from collections import Counter\n",
    "from sklearn.feature_extraction.text import TfidfVectorizer\n",
    "from nltk.corpus import stopwords\n",
    "from nltk.tokenize import RegexpTokenizer\n",
    "from nltk.stem import WordNetLemmatizer\n",
    "from nltk.stem.porter import PorterStemmer\n",
    "from sklearn.ensemble import RandomForestClassifier\n",
    "from sklearn.svm import SVC\n",
    "from sklearn.model_selection import train_test_split\n",
    "from sklearn.metrics import log_loss\n",
    "import sys\n",
    "from sklearn.feature_selection import mutual_info_classif\n",
    "from sklearn.feature_selection import SelectKBest"
   ]
  },
  {
   "cell_type": "code",
   "execution_count": 2,
   "metadata": {},
   "outputs": [],
   "source": [
    "from sklearn.svm import LinearSVC\n",
    "from sklearn.linear_model import LogisticRegression\n",
    "from sklearn.preprocessing import StandardScaler\n",
    "from sklearn.pipeline import make_pipeline\n",
    "from sklearn.ensemble import StackingClassifier\n",
    "from sklearn.model_selection import KFold\n",
    "from sklearn.metrics import accuracy_score"
   ]
  },
  {
   "cell_type": "code",
   "execution_count": 3,
   "metadata": {},
   "outputs": [],
   "source": [
    "final_train_df = pd.read_json(r'C:\\Users\\HP\\Documents\\cmpt 459 Kaggle\\two_sigma\\final_train_df_m3_v2.json')\n",
    "final_test = pd.read_json(r'C:\\Users\\HP\\Documents\\cmpt 459 Kaggle\\two_sigma\\final_test_df_m3_v2.json')"
   ]
  },
  {
   "cell_type": "code",
   "execution_count": 6,
   "metadata": {},
   "outputs": [],
   "source": [
    "final_train_df[\"pos\"] = final_train_df.longitude.round(3).astype(str) + '' + final_train_df.latitude.round(3).astype(str)\n",
    "final_test[\"pos\"] = final_test.longitude.round(3).astype(str) + '' + final_test.latitude.round(3).astype(str)\n",
    "\n",
    "vals = final_train_df['pos'].value_counts()\n",
    "dvals = vals.to_dict()\n",
    "final_train_df[\"density\"] = final_train_df['pos'].apply(lambda x: dvals.get(x, vals.min()))\n",
    "final_test[\"density\"] = final_test['pos'].apply(lambda x: dvals.get(x, vals.min()))"
   ]
  },
  {
   "cell_type": "code",
   "execution_count": 4,
   "metadata": {},
   "outputs": [],
   "source": [
    "v2_selected_feats = [\"bathrooms\", \"bedrooms\", \"latitude\", \"longitude\", \"price\", \"pet_policy\", \"listing_type\", \n",
    "                     \"unit_features\", \"building_features\", \"apartment\", \"appliance\", \"bathroom\", \"bedroom\",\n",
    "                     \"building\", \"contact\", \"floor\", \"high\", \"kitchen\", \"room\", \"num_photos\", \n",
    "                     \"description_len\", \"mall_distance\", \"dt_distance\", \"managerID_count\", \"buildingID_count\", \n",
    "                    \"weekends\", \"month_4\", \"month_5\", \"created_nights\",\"created_morning\", \"created_afternoon\", \n",
    "                     \"manager_skill\", \"building_interest\", \"density\"]"
   ]
  },
  {
   "cell_type": "code",
   "execution_count": 7,
   "metadata": {},
   "outputs": [],
   "source": [
    "X_series = final_train_df[v2_selected_feats]\n",
    "y_series = final_train_df[\"interest_level\"]"
   ]
  },
  {
   "cell_type": "code",
   "execution_count": 11,
   "metadata": {},
   "outputs": [],
   "source": [
    "mi = mutual_info_classif(X_series, y_series, discrete_features=True)"
   ]
  },
  {
   "cell_type": "code",
   "execution_count": 48,
   "metadata": {
    "collapsed": true
   },
   "outputs": [
    {
     "name": "stdout",
     "output_type": "stream",
     "text": [
      "bathrooms  -  0.00988099331734487\n",
      "bedrooms  -  0.0061955250953194\n",
      "latitude  -  0.08985502052948602\n",
      "longitude  -  0.060959171000756256\n",
      "price  -  0.08776029436638774\n",
      "pet_policy  -  0.002376913208605575\n",
      "listing_type  -  0.0007542008478153882\n",
      "unit_features  -  0.008595750400336737\n",
      "building_features  -  0.002229463219667018\n",
      "apartment  -  0.3899552023941164\n",
      "appliance  -  0.2710630049587336\n",
      "bathroom  -  0.2182947862229208\n",
      "bedroom  -  0.3525118030080429\n",
      "building  -  0.3346604437837363\n",
      "contact  -  0.18455420446159226\n",
      "floor  -  0.34017561180833655\n",
      "high  -  0.17369406775830046\n",
      "kitchen  -  0.41017976140216394\n",
      "room  -  0.23434499714802984\n",
      "num_photos  -  0.023153773686595356\n",
      "description_len  -  0.023897949088844656\n",
      "mall_distance  -  0.13893007845400002\n",
      "dt_distance  -  0.08225939958080011\n",
      "managerID_count  -  0.052656524202606164\n",
      "buildingID_count  -  0.046509195346798204\n",
      "weekends  -  2.0267078877506117e-06\n",
      "month_4  -  2.8758090030306382e-06\n",
      "month_5  -  3.629494399907951e-05\n",
      "created_nights  -  3.849636211319951e-05\n",
      "created_morning  -  3.645831914728115e-05\n",
      "created_afternoon  -  1.1796855505469966e-05\n",
      "manager_skill  -  0.1098756423498074\n",
      "building_interest  -  0.09494808536065041\n",
      "density  -  0.017704963704118636\n"
     ]
    }
   ],
   "source": [
    "feature_rank = {}\n",
    "for i in range(len(v2_selected_feats)):\n",
    "    if v2_selected_feats[i] not in feature_rank:\n",
    "        feature_rank[v2_selected_feats[i]] = mi[i]\n",
    "    print(v2_selected_feats[i], ' - ', mi[i])\n"
   ]
  },
  {
   "cell_type": "code",
   "execution_count": 62,
   "metadata": {},
   "outputs": [
    {
     "name": "stdout",
     "output_type": "stream",
     "text": [
      "weekends   -   2.0267078877506117e-06\n",
      "month_4   -   2.8758090030306382e-06\n",
      "created_afternoon   -   1.1796855505469966e-05\n",
      "month_5   -   3.629494399907951e-05\n",
      "created_morning   -   3.645831914728115e-05\n",
      "created_nights   -   3.849636211319951e-05\n",
      "listing_type   -   0.0007542008478153882\n",
      "building_features   -   0.002229463219667018\n",
      "pet_policy   -   0.002376913208605575\n",
      "bedrooms   -   0.0061955250953194\n",
      "unit_features   -   0.008595750400336737\n",
      "bathrooms   -   0.00988099331734487\n",
      "density   -   0.017704963704118636\n",
      "num_photos   -   0.023153773686595356\n",
      "description_len   -   0.023897949088844656\n",
      "buildingID_count   -   0.046509195346798204\n",
      "managerID_count   -   0.052656524202606164\n",
      "longitude   -   0.060959171000756256\n",
      "dt_distance   -   0.08225939958080011\n",
      "price   -   0.08776029436638774\n",
      "latitude   -   0.08985502052948602\n",
      "building_interest   -   0.09494808536065041\n",
      "manager_skill   -   0.1098756423498074\n",
      "mall_distance   -   0.13893007845400002\n",
      "high   -   0.17369406775830046\n",
      "contact   -   0.18455420446159226\n",
      "bathroom   -   0.2182947862229208\n",
      "room   -   0.23434499714802984\n",
      "appliance   -   0.2710630049587336\n",
      "building   -   0.3346604437837363\n",
      "floor   -   0.34017561180833655\n",
      "bedroom   -   0.3525118030080429\n",
      "apartment   -   0.3899552023941164\n",
      "kitchen   -   0.41017976140216394\n"
     ]
    }
   ],
   "source": [
    "for k, v in sorted(feature_rank.items(), key=itemgetter(1)):\n",
    "    print (k, \"  -  \", v)"
   ]
  },
  {
   "cell_type": "code",
   "execution_count": 63,
   "metadata": {},
   "outputs": [],
   "source": [
    "relevant_feat = []\n",
    "from operator import itemgetter\n",
    "for k, v in sorted(feature_rank.items(), key=itemgetter(1)):\n",
    "    if v < 0.17:\n",
    "        relevant_feat.append(k)\n",
    "#         print (k, \"  -  \", v)\n",
    "# relevant_feat"
   ]
  },
  {
   "cell_type": "code",
   "execution_count": 64,
   "metadata": {},
   "outputs": [],
   "source": [
    "target_num_map = {'high':0, 'medium':1, 'low':2}\n",
    "final_train_df['int_level'] = np.array(final_train_df['interest_level'].apply(lambda x: target_num_map[x]))"
   ]
  },
  {
   "cell_type": "code",
   "execution_count": 65,
   "metadata": {},
   "outputs": [],
   "source": [
    "full_X = final_train_df[relevant_feat].values\n",
    "full_y = final_train_df[\"int_level\"]"
   ]
  },
  {
   "cell_type": "code",
   "execution_count": 35,
   "metadata": {},
   "outputs": [],
   "source": [
    "import xgboost as xgb"
   ]
  },
  {
   "cell_type": "code",
   "execution_count": 55,
   "metadata": {},
   "outputs": [],
   "source": [
    "param4 = {\n",
    "    'objective': 'multi:softprob',  \n",
    "    'eta': 0.1, #\n",
    "    'max_depth': 7,  #default is 6, increase this value = more complex model\n",
    "    'num_class': 3,\n",
    "    'eval_metric': 'mlogloss',\n",
    "    'min_child_weight': 1, # default is 1, larger value = more conservative model\n",
    "    'subsample': 1, # default is 1, smaller == less overfitting\n",
    "    'colsample_bytree': 1, # default is 1\n",
    "    'seed': 42\n",
    "    }"
   ]
  },
  {
   "cell_type": "code",
   "execution_count": 66,
   "metadata": {},
   "outputs": [],
   "source": [
    "dtrain = xgb.DMatrix(full_X, label=full_y)"
   ]
  },
  {
   "cell_type": "code",
   "execution_count": 67,
   "metadata": {},
   "outputs": [],
   "source": [
    "steps = 500\n",
    "model = xgb.train(param4, dtrain, steps)"
   ]
  },
  {
   "cell_type": "code",
   "execution_count": 68,
   "metadata": {},
   "outputs": [],
   "source": [
    "test_X = final_test[relevant_feat].values\n",
    "xgtest = xgb.DMatrix(test_X)"
   ]
  },
  {
   "cell_type": "code",
   "execution_count": 69,
   "metadata": {},
   "outputs": [],
   "source": [
    "preds = model.predict(xgtest)"
   ]
  },
  {
   "cell_type": "code",
   "execution_count": 45,
   "metadata": {},
   "outputs": [
    {
     "ename": "AttributeError",
     "evalue": "'function' object has no attribute 'classes_'",
     "output_type": "error",
     "traceback": [
      "\u001b[1;31m---------------------------------------------------------------------------\u001b[0m",
      "\u001b[1;31mAttributeError\u001b[0m                            Traceback (most recent call last)",
      "\u001b[1;32m<ipython-input-45-552ef707fe5a>\u001b[0m in \u001b[0;36m<module>\u001b[1;34m\u001b[0m\n\u001b[1;32m----> 1\u001b[1;33m \u001b[0mlabels2idx\u001b[0m \u001b[1;33m=\u001b[0m \u001b[1;33m{\u001b[0m\u001b[0mlabel\u001b[0m\u001b[1;33m:\u001b[0m \u001b[0mi\u001b[0m \u001b[1;32mfor\u001b[0m \u001b[0mi\u001b[0m\u001b[1;33m,\u001b[0m \u001b[0mlabel\u001b[0m \u001b[1;32min\u001b[0m \u001b[0menumerate\u001b[0m\u001b[1;33m(\u001b[0m\u001b[0mclf\u001b[0m\u001b[1;33m.\u001b[0m\u001b[0mclasses_\u001b[0m\u001b[1;33m)\u001b[0m\u001b[1;33m}\u001b[0m\u001b[1;33m\u001b[0m\u001b[1;33m\u001b[0m\u001b[0m\n\u001b[0m",
      "\u001b[1;31mAttributeError\u001b[0m: 'function' object has no attribute 'classes_'"
     ]
    }
   ],
   "source": [
    "# labels2idx = {label: i for i, label in enumerate(clf.classes_)}"
   ]
  },
  {
   "cell_type": "code",
   "execution_count": 70,
   "metadata": {},
   "outputs": [],
   "source": [
    "out_df = pd.DataFrame(preds)\n",
    "out_df.columns = [\"high\", \"medium\", \"low\"]\n",
    "out_df[\"listing_id\"] = final_test.listing_id.values\n",
    "out_df.to_csv(\"xgb_final_withoutDESC_p5.csv\", index=False)"
   ]
  },
  {
   "cell_type": "code",
   "execution_count": null,
   "metadata": {},
   "outputs": [],
   "source": []
  }
 ],
 "metadata": {
  "kernelspec": {
   "display_name": "Python 3",
   "language": "python",
   "name": "python3"
  },
  "language_info": {
   "codemirror_mode": {
    "name": "ipython",
    "version": 3
   },
   "file_extension": ".py",
   "mimetype": "text/x-python",
   "name": "python",
   "nbconvert_exporter": "python",
   "pygments_lexer": "ipython3",
   "version": "3.7.6"
  }
 },
 "nbformat": 4,
 "nbformat_minor": 4
}
