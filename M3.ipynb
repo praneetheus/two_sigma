{
 "cells": [
  {
   "cell_type": "code",
   "execution_count": 2,
   "metadata": {},
   "outputs": [
    {
     "name": "stdout",
     "output_type": "stream",
     "text": [
      "Populating the interactive namespace from numpy and matplotlib\n"
     ]
    }
   ],
   "source": [
    "%pylab inline\n",
    "import pandas as pd\n",
    "import seaborn as sns\n",
    "import numpy as np\n",
    "import matplotlib.pyplot as plt\n",
    "import scipy"
   ]
  },
  {
   "cell_type": "code",
   "execution_count": 3,
   "metadata": {},
   "outputs": [],
   "source": [
    "import sys\n",
    "from sklearn.ensemble import RandomForestClassifier\n",
    "from sklearn.svm import SVC\n",
    "from sklearn.model_selection import train_test_split\n",
    "from sklearn.metrics import log_loss"
   ]
  },
  {
   "cell_type": "code",
   "execution_count": 7,
   "metadata": {},
   "outputs": [],
   "source": [
    "pd.set_option('display.max_columns', None)  \n",
    "pd.set_option('display.expand_frame_repr', False)"
   ]
  },
  {
   "cell_type": "code",
   "execution_count": 4,
   "metadata": {},
   "outputs": [],
   "source": [
    "df = pd.read_json('/Users/Home/Desktop/CMPT 459/MI2/train.json')"
   ]
  },
  {
   "cell_type": "code",
   "execution_count": 19,
   "metadata": {},
   "outputs": [],
   "source": [
    "# df = df.reset_index(drop=True)\n",
    "# df.head(1)"
   ]
  },
  {
   "cell_type": "code",
   "execution_count": 8,
   "metadata": {},
   "outputs": [],
   "source": [
    "train_df = pd.read_json('/Users/Home/Desktop/CMPT 459/MI2/final_train_df.json')"
   ]
  },
  {
   "cell_type": "code",
   "execution_count": 101,
   "metadata": {},
   "outputs": [
    {
     "data": {
      "text/plain": [
       "(48329, 45)"
      ]
     },
     "metadata": {},
     "output_type": "display_data"
    },
    {
     "data": {
      "text/html": [
       "<div>\n",
       "<style scoped>\n",
       "    .dataframe tbody tr th:only-of-type {\n",
       "        vertical-align: middle;\n",
       "    }\n",
       "\n",
       "    .dataframe tbody tr th {\n",
       "        vertical-align: top;\n",
       "    }\n",
       "\n",
       "    .dataframe thead th {\n",
       "        text-align: right;\n",
       "    }\n",
       "</style>\n",
       "<table border=\"1\" class=\"dataframe\">\n",
       "  <thead>\n",
       "    <tr style=\"text-align: right;\">\n",
       "      <th></th>\n",
       "      <th>bathrooms</th>\n",
       "      <th>bedrooms</th>\n",
       "      <th>building_id</th>\n",
       "      <th>created</th>\n",
       "      <th>description</th>\n",
       "      <th>display_address</th>\n",
       "      <th>features</th>\n",
       "      <th>latitude</th>\n",
       "      <th>listing_id</th>\n",
       "      <th>longitude</th>\n",
       "      <th>manager_id</th>\n",
       "      <th>photos</th>\n",
       "      <th>price</th>\n",
       "      <th>street_address</th>\n",
       "      <th>interest_level</th>\n",
       "      <th>dt_distance</th>\n",
       "      <th>pet_policy</th>\n",
       "      <th>listing_type</th>\n",
       "      <th>unit_features</th>\n",
       "      <th>building_features</th>\n",
       "      <th>apartment</th>\n",
       "      <th>appliance</th>\n",
       "      <th>bathroom</th>\n",
       "      <th>bedroom</th>\n",
       "      <th>building</th>\n",
       "      <th>contact</th>\n",
       "      <th>floor</th>\n",
       "      <th>high</th>\n",
       "      <th>kitchen</th>\n",
       "      <th>room</th>\n",
       "      <th>mall_distance</th>\n",
       "      <th>created_hour</th>\n",
       "      <th>created_month</th>\n",
       "      <th>created_day</th>\n",
       "      <th>num_photos</th>\n",
       "      <th>description_len</th>\n",
       "      <th>created_dt</th>\n",
       "      <th>managerID_count</th>\n",
       "      <th>buildingID_count</th>\n",
       "      <th>weekends</th>\n",
       "      <th>month_4</th>\n",
       "      <th>month_5</th>\n",
       "      <th>created_nights</th>\n",
       "      <th>created_morning</th>\n",
       "      <th>created_afternoon</th>\n",
       "    </tr>\n",
       "  </thead>\n",
       "  <tbody>\n",
       "    <tr>\n",
       "      <th>0</th>\n",
       "      <td>1.0</td>\n",
       "      <td>1</td>\n",
       "      <td>8579a0b0d54db803821a35a4a615e97a</td>\n",
       "      <td>2016-06-16 05:55:27</td>\n",
       "      <td>Spacious 1 Bedroom 1 Bathroom in Williamsburg!...</td>\n",
       "      <td>145 Borinquen Place</td>\n",
       "      <td>[Dining Room, Pre-War, Laundry in Building, Di...</td>\n",
       "      <td>40.7108</td>\n",
       "      <td>7170325</td>\n",
       "      <td>-73.9539</td>\n",
       "      <td>a10db4590843d78c784171a107bdacb4</td>\n",
       "      <td>[https://photos.renthop.com/2/7170325_3bb5ac84...</td>\n",
       "      <td>2400</td>\n",
       "      <td>145 Borinquen Place</td>\n",
       "      <td>medium</td>\n",
       "      <td>0.0569</td>\n",
       "      <td>2</td>\n",
       "      <td>0</td>\n",
       "      <td>1</td>\n",
       "      <td>0</td>\n",
       "      <td>0.000000</td>\n",
       "      <td>0.0</td>\n",
       "      <td>0.274259</td>\n",
       "      <td>0.108624</td>\n",
       "      <td>0.0</td>\n",
       "      <td>0.146412</td>\n",
       "      <td>0.110607</td>\n",
       "      <td>0.000000</td>\n",
       "      <td>0.09853</td>\n",
       "      <td>0.0</td>\n",
       "      <td>0.04995</td>\n",
       "      <td>5</td>\n",
       "      <td>6</td>\n",
       "      <td>16</td>\n",
       "      <td>12</td>\n",
       "      <td>77</td>\n",
       "      <td>2016-06-16 05:55:27</td>\n",
       "      <td>107</td>\n",
       "      <td>5</td>\n",
       "      <td>0.0</td>\n",
       "      <td>0.0</td>\n",
       "      <td>0.0</td>\n",
       "      <td>1.0</td>\n",
       "      <td>0.0</td>\n",
       "      <td>0.0</td>\n",
       "    </tr>\n",
       "    <tr>\n",
       "      <th>1</th>\n",
       "      <td>1.0</td>\n",
       "      <td>2</td>\n",
       "      <td>b8e75fc949a6cd8225b455648a951712</td>\n",
       "      <td>2016-06-01 05:44:33</td>\n",
       "      <td>BRAND NEW GUT RENOVATED TRUE 2 BEDROOMFind you...</td>\n",
       "      <td>East 44th</td>\n",
       "      <td>[Doorman, Elevator, Laundry in Building, Dishw...</td>\n",
       "      <td>40.7513</td>\n",
       "      <td>7092344</td>\n",
       "      <td>-73.9722</td>\n",
       "      <td>955db33477af4f40004820b4aed804a0</td>\n",
       "      <td>[https://photos.renthop.com/2/7092344_7663c19a...</td>\n",
       "      <td>3800</td>\n",
       "      <td>230 East 44th</td>\n",
       "      <td>low</td>\n",
       "      <td>0.0589</td>\n",
       "      <td>0</td>\n",
       "      <td>0</td>\n",
       "      <td>1</td>\n",
       "      <td>2</td>\n",
       "      <td>0.144399</td>\n",
       "      <td>0.0</td>\n",
       "      <td>0.000000</td>\n",
       "      <td>0.000000</td>\n",
       "      <td>0.0</td>\n",
       "      <td>0.106104</td>\n",
       "      <td>0.000000</td>\n",
       "      <td>0.109239</td>\n",
       "      <td>0.00000</td>\n",
       "      <td>0.0</td>\n",
       "      <td>0.01463</td>\n",
       "      <td>5</td>\n",
       "      <td>6</td>\n",
       "      <td>1</td>\n",
       "      <td>6</td>\n",
       "      <td>131</td>\n",
       "      <td>2016-06-01 05:44:33</td>\n",
       "      <td>26</td>\n",
       "      <td>51</td>\n",
       "      <td>0.0</td>\n",
       "      <td>0.0</td>\n",
       "      <td>0.0</td>\n",
       "      <td>1.0</td>\n",
       "      <td>0.0</td>\n",
       "      <td>0.0</td>\n",
       "    </tr>\n",
       "  </tbody>\n",
       "</table>\n",
       "</div>"
      ],
      "text/plain": [
       "   bathrooms  bedrooms                       building_id              created                                        description      display_address                                           features  latitude  listing_id  longitude                        manager_id                                             photos  price       street_address interest_level  dt_distance  pet_policy  listing_type  unit_features  building_features  apartment  appliance  bathroom   bedroom  building   contact     floor      high  kitchen  room  mall_distance  created_hour  created_month  created_day  num_photos  description_len          created_dt  managerID_count  buildingID_count  weekends  month_4  month_5  created_nights  created_morning  created_afternoon\n",
       "0        1.0         1  8579a0b0d54db803821a35a4a615e97a  2016-06-16 05:55:27  Spacious 1 Bedroom 1 Bathroom in Williamsburg!...  145 Borinquen Place  [Dining Room, Pre-War, Laundry in Building, Di...   40.7108     7170325   -73.9539  a10db4590843d78c784171a107bdacb4  [https://photos.renthop.com/2/7170325_3bb5ac84...   2400  145 Borinquen Place         medium       0.0569           2             0              1                  0   0.000000        0.0  0.274259  0.108624       0.0  0.146412  0.110607  0.000000  0.09853   0.0        0.04995             5              6           16          12               77 2016-06-16 05:55:27              107                 5       0.0      0.0      0.0             1.0              0.0                0.0\n",
       "1        1.0         2  b8e75fc949a6cd8225b455648a951712  2016-06-01 05:44:33  BRAND NEW GUT RENOVATED TRUE 2 BEDROOMFind you...            East 44th  [Doorman, Elevator, Laundry in Building, Dishw...   40.7513     7092344   -73.9722  955db33477af4f40004820b4aed804a0  [https://photos.renthop.com/2/7092344_7663c19a...   3800        230 East 44th            low       0.0589           0             0              1                  2   0.144399        0.0  0.000000  0.000000       0.0  0.106104  0.000000  0.109239  0.00000   0.0        0.01463             5              6            1           6              131 2016-06-01 05:44:33               26                51       0.0      0.0      0.0             1.0              0.0                0.0"
      ]
     },
     "execution_count": 101,
     "metadata": {},
     "output_type": "execute_result"
    }
   ],
   "source": [
    "display(train_df.shape)\n",
    "train_df.head(2)"
   ]
  },
  {
   "cell_type": "code",
   "execution_count": 22,
   "metadata": {},
   "outputs": [
    {
     "data": {
      "text/plain": [
       "(48329, 36)"
      ]
     },
     "metadata": {},
     "output_type": "display_data"
    }
   ],
   "source": [
    "train_df['created'] = df['created']\n",
    "display(train_df.shape)"
   ]
  },
  {
   "cell_type": "code",
   "execution_count": 24,
   "metadata": {},
   "outputs": [],
   "source": [
    "train_df['created_dt'] = pd.to_datetime(train_df['created'])"
   ]
  },
  {
   "cell_type": "code",
   "execution_count": 29,
   "metadata": {},
   "outputs": [
    {
     "data": {
      "text/plain": [
       "3423"
      ]
     },
     "execution_count": 29,
     "metadata": {},
     "output_type": "execute_result"
    }
   ],
   "source": [
    "unique, counts = np.unique(train_df.manager_id, return_counts=True)\n",
    "\n",
    "manager_id_arr = np.asarray((unique, counts)).T\n",
    "len(manager_id_arr)"
   ]
  },
  {
   "cell_type": "code",
   "execution_count": 30,
   "metadata": {},
   "outputs": [
    {
     "data": {
      "text/plain": [
       "7219"
      ]
     },
     "execution_count": 30,
     "metadata": {},
     "output_type": "execute_result"
    }
   ],
   "source": [
    "unique, counts = np.unique(train_df.building_id, return_counts=True)\n",
    "\n",
    "building_id_arr = np.asarray((unique, counts)).T\n",
    "len(building_id_arr)"
   ]
  },
  {
   "cell_type": "code",
   "execution_count": 32,
   "metadata": {},
   "outputs": [],
   "source": [
    "manager_id_dict = {}\n",
    "for val in manager_id_arr:\n",
    "    manager_id_dict[val[0]] = val[1]"
   ]
  },
  {
   "cell_type": "code",
   "execution_count": 33,
   "metadata": {},
   "outputs": [],
   "source": [
    "building_id_dict = {}\n",
    "for val in building_id_arr:\n",
    "    building_id_dict[val[0]] = val[1]"
   ]
  },
  {
   "cell_type": "code",
   "execution_count": 31,
   "metadata": {},
   "outputs": [],
   "source": [
    "def add_count(row, id_dict):\n",
    "    if row in id_dict:\n",
    "        return id_dict[row]"
   ]
  },
  {
   "cell_type": "code",
   "execution_count": 34,
   "metadata": {},
   "outputs": [],
   "source": [
    "train_df['managerID_count'] = train_df['manager_id'].apply(lambda row: add_count(row, manager_id_dict))"
   ]
  },
  {
   "cell_type": "code",
   "execution_count": 36,
   "metadata": {},
   "outputs": [],
   "source": [
    "train_df['buildingID_count'] = train_df['building_id'].apply(lambda row: add_count(row, building_id_dict))"
   ]
  },
  {
   "cell_type": "code",
   "execution_count": 112,
   "metadata": {},
   "outputs": [
    {
     "data": {
      "text/html": [
       "<div>\n",
       "<style scoped>\n",
       "    .dataframe tbody tr th:only-of-type {\n",
       "        vertical-align: middle;\n",
       "    }\n",
       "\n",
       "    .dataframe tbody tr th {\n",
       "        vertical-align: top;\n",
       "    }\n",
       "\n",
       "    .dataframe thead th {\n",
       "        text-align: right;\n",
       "    }\n",
       "</style>\n",
       "<table border=\"1\" class=\"dataframe\">\n",
       "  <thead>\n",
       "    <tr style=\"text-align: right;\">\n",
       "      <th></th>\n",
       "      <th>bathrooms</th>\n",
       "      <th>bedrooms</th>\n",
       "      <th>building_id</th>\n",
       "      <th>created</th>\n",
       "      <th>description</th>\n",
       "      <th>display_address</th>\n",
       "      <th>features</th>\n",
       "      <th>latitude</th>\n",
       "      <th>listing_id</th>\n",
       "      <th>longitude</th>\n",
       "      <th>manager_id</th>\n",
       "      <th>photos</th>\n",
       "      <th>price</th>\n",
       "      <th>street_address</th>\n",
       "      <th>interest_level</th>\n",
       "      <th>dt_distance</th>\n",
       "      <th>pet_policy</th>\n",
       "      <th>listing_type</th>\n",
       "      <th>unit_features</th>\n",
       "      <th>building_features</th>\n",
       "      <th>apartment</th>\n",
       "      <th>appliance</th>\n",
       "      <th>bathroom</th>\n",
       "      <th>bedroom</th>\n",
       "      <th>building</th>\n",
       "      <th>contact</th>\n",
       "      <th>floor</th>\n",
       "      <th>high</th>\n",
       "      <th>kitchen</th>\n",
       "      <th>room</th>\n",
       "      <th>mall_distance</th>\n",
       "      <th>created_hour</th>\n",
       "      <th>created_month</th>\n",
       "      <th>created_day</th>\n",
       "      <th>num_photos</th>\n",
       "      <th>description_len</th>\n",
       "      <th>created_dt</th>\n",
       "      <th>managerID_count</th>\n",
       "      <th>buildingID_count</th>\n",
       "      <th>weekends</th>\n",
       "      <th>month_4</th>\n",
       "      <th>month_5</th>\n",
       "      <th>created_nights</th>\n",
       "      <th>created_morning</th>\n",
       "      <th>created_afternoon</th>\n",
       "      <th>bed_bath_ratio</th>\n",
       "    </tr>\n",
       "  </thead>\n",
       "  <tbody>\n",
       "    <tr>\n",
       "      <th>48324</th>\n",
       "      <td>1.0</td>\n",
       "      <td>3</td>\n",
       "      <td>92bbbf38baadfde0576fc496bd41749c</td>\n",
       "      <td>2016-04-19 03:31:53</td>\n",
       "      <td>There is 700 square feet of recently renovated...</td>\n",
       "      <td>W 171 Street</td>\n",
       "      <td>[Elevator, Dishwasher, Hardwood Floors]</td>\n",
       "      <td>40.8433</td>\n",
       "      <td>6824800</td>\n",
       "      <td>-73.9396</td>\n",
       "      <td>a61e21da3ba18c7a3d54cfdcc247e1f8</td>\n",
       "      <td>[https://photos.renthop.com/2/6824800_0682be16...</td>\n",
       "      <td>2800</td>\n",
       "      <td>620 W 171 Street</td>\n",
       "      <td>low</td>\n",
       "      <td>0.1835</td>\n",
       "      <td>0</td>\n",
       "      <td>0</td>\n",
       "      <td>1</td>\n",
       "      <td>1</td>\n",
       "      <td>0.064237</td>\n",
       "      <td>0.079686</td>\n",
       "      <td>0.000000</td>\n",
       "      <td>0.140075</td>\n",
       "      <td>0.070245</td>\n",
       "      <td>0.000000</td>\n",
       "      <td>0.071316</td>\n",
       "      <td>0.0</td>\n",
       "      <td>0.063529</td>\n",
       "      <td>0.0</td>\n",
       "      <td>0.03042</td>\n",
       "      <td>3</td>\n",
       "      <td>4</td>\n",
       "      <td>5</td>\n",
       "      <td>5</td>\n",
       "      <td>131</td>\n",
       "      <td>2016-04-19 03:31:53</td>\n",
       "      <td>10</td>\n",
       "      <td>5</td>\n",
       "      <td>0.0</td>\n",
       "      <td>1.0</td>\n",
       "      <td>0.0</td>\n",
       "      <td>1.0</td>\n",
       "      <td>0.0</td>\n",
       "      <td>0.0</td>\n",
       "      <td>3.0</td>\n",
       "    </tr>\n",
       "    <tr>\n",
       "      <th>48325</th>\n",
       "      <td>1.0</td>\n",
       "      <td>2</td>\n",
       "      <td>5565db9b7cba3603834c4aa6f2950960</td>\n",
       "      <td>2016-04-20 02:27:19</td>\n",
       "      <td>2 bedroom apartment with updated kitchen, rece...</td>\n",
       "      <td>Broadway</td>\n",
       "      <td>[Common Outdoor Space, Cats Allowed, Dogs Allo...</td>\n",
       "      <td>40.8198</td>\n",
       "      <td>6813268</td>\n",
       "      <td>-73.9578</td>\n",
       "      <td>8f90e5e10e8a2d7cf997f016d89230eb</td>\n",
       "      <td>[https://photos.renthop.com/2/6813268_1e6fcc32...</td>\n",
       "      <td>2395</td>\n",
       "      <td>3333 Broadway</td>\n",
       "      <td>medium</td>\n",
       "      <td>0.1418</td>\n",
       "      <td>2</td>\n",
       "      <td>0</td>\n",
       "      <td>0</td>\n",
       "      <td>4</td>\n",
       "      <td>0.105489</td>\n",
       "      <td>0.000000</td>\n",
       "      <td>0.000000</td>\n",
       "      <td>0.115015</td>\n",
       "      <td>0.115356</td>\n",
       "      <td>0.000000</td>\n",
       "      <td>0.000000</td>\n",
       "      <td>0.0</td>\n",
       "      <td>0.104327</td>\n",
       "      <td>0.0</td>\n",
       "      <td>0.02884</td>\n",
       "      <td>2</td>\n",
       "      <td>4</td>\n",
       "      <td>2</td>\n",
       "      <td>5</td>\n",
       "      <td>70</td>\n",
       "      <td>2016-04-20 02:27:19</td>\n",
       "      <td>14</td>\n",
       "      <td>126</td>\n",
       "      <td>0.0</td>\n",
       "      <td>1.0</td>\n",
       "      <td>0.0</td>\n",
       "      <td>1.0</td>\n",
       "      <td>0.0</td>\n",
       "      <td>0.0</td>\n",
       "      <td>2.0</td>\n",
       "    </tr>\n",
       "    <tr>\n",
       "      <th>48326</th>\n",
       "      <td>1.0</td>\n",
       "      <td>1</td>\n",
       "      <td>67997a128056ee1ed7d046bbb856e3c7</td>\n",
       "      <td>2016-04-02 03:03:42</td>\n",
       "      <td>No Brokers Fee * Never Lived 1 Bedroom 1 Bathr...</td>\n",
       "      <td>210 Brighton 15th St</td>\n",
       "      <td>[Dining Room, Elevator, Pre-War, Laundry in Bu...</td>\n",
       "      <td>40.5765</td>\n",
       "      <td>6927093</td>\n",
       "      <td>-73.9554</td>\n",
       "      <td>a10db4590843d78c784171a107bdacb4</td>\n",
       "      <td>[https://photos.renthop.com/2/6927093_93a52104...</td>\n",
       "      <td>1850</td>\n",
       "      <td>210 Brighton 15th St</td>\n",
       "      <td>medium</td>\n",
       "      <td>0.1897</td>\n",
       "      <td>2</td>\n",
       "      <td>0</td>\n",
       "      <td>1</td>\n",
       "      <td>1</td>\n",
       "      <td>0.095302</td>\n",
       "      <td>0.118224</td>\n",
       "      <td>0.262352</td>\n",
       "      <td>0.103909</td>\n",
       "      <td>0.104217</td>\n",
       "      <td>0.000000</td>\n",
       "      <td>0.000000</td>\n",
       "      <td>0.0</td>\n",
       "      <td>0.000000</td>\n",
       "      <td>0.0</td>\n",
       "      <td>0.09354</td>\n",
       "      <td>5</td>\n",
       "      <td>4</td>\n",
       "      <td>26</td>\n",
       "      <td>3</td>\n",
       "      <td>81</td>\n",
       "      <td>2016-04-02 03:03:42</td>\n",
       "      <td>107</td>\n",
       "      <td>6</td>\n",
       "      <td>1.0</td>\n",
       "      <td>1.0</td>\n",
       "      <td>0.0</td>\n",
       "      <td>1.0</td>\n",
       "      <td>0.0</td>\n",
       "      <td>0.0</td>\n",
       "      <td>1.0</td>\n",
       "    </tr>\n",
       "    <tr>\n",
       "      <th>48327</th>\n",
       "      <td>1.0</td>\n",
       "      <td>2</td>\n",
       "      <td>3c0574a740154806c18bdf1fddd3d966</td>\n",
       "      <td>2016-04-06 18:15:06</td>\n",
       "      <td>Wonderful Bright Chelsea 2 Bedroom apartment o...</td>\n",
       "      <td>West 21st Street</td>\n",
       "      <td>[Pre-War, Laundry in Unit, Dishwasher, No Fee,...</td>\n",
       "      <td>40.7448</td>\n",
       "      <td>6892816</td>\n",
       "      <td>-74.0017</td>\n",
       "      <td>c3cd45f4381ac371507090e9ffabea80</td>\n",
       "      <td>[https://photos.renthop.com/2/6892816_1a8d087a...</td>\n",
       "      <td>4195</td>\n",
       "      <td>350 West 21st Street</td>\n",
       "      <td>medium</td>\n",
       "      <td>0.0249</td>\n",
       "      <td>0</td>\n",
       "      <td>0</td>\n",
       "      <td>1</td>\n",
       "      <td>0</td>\n",
       "      <td>0.072748</td>\n",
       "      <td>0.000000</td>\n",
       "      <td>0.100132</td>\n",
       "      <td>0.079318</td>\n",
       "      <td>0.000000</td>\n",
       "      <td>0.106911</td>\n",
       "      <td>0.080766</td>\n",
       "      <td>0.0</td>\n",
       "      <td>0.071947</td>\n",
       "      <td>0.0</td>\n",
       "      <td>0.00671</td>\n",
       "      <td>2</td>\n",
       "      <td>4</td>\n",
       "      <td>19</td>\n",
       "      <td>5</td>\n",
       "      <td>118</td>\n",
       "      <td>2016-04-06 18:15:06</td>\n",
       "      <td>33</td>\n",
       "      <td>12</td>\n",
       "      <td>0.0</td>\n",
       "      <td>1.0</td>\n",
       "      <td>0.0</td>\n",
       "      <td>0.0</td>\n",
       "      <td>0.0</td>\n",
       "      <td>0.0</td>\n",
       "      <td>2.0</td>\n",
       "    </tr>\n",
       "    <tr>\n",
       "      <th>48328</th>\n",
       "      <td>1.0</td>\n",
       "      <td>3</td>\n",
       "      <td>d89f514c3ed0abaae52cba7017ac0701</td>\n",
       "      <td>2016-04-22 02:55:58</td>\n",
       "      <td>***PRIME MIDTOWN EAST OFF PARK AVE***TRUE 3 BE...</td>\n",
       "      <td>E 54th St</td>\n",
       "      <td>[Dining Room, Elevator, Laundry in Building, D...</td>\n",
       "      <td>40.7594</td>\n",
       "      <td>6901023</td>\n",
       "      <td>-73.9712</td>\n",
       "      <td>e90f2ded843cdb2efd65ef47d9fc8029</td>\n",
       "      <td>[https://photos.renthop.com/2/6901023_02052d90...</td>\n",
       "      <td>4280</td>\n",
       "      <td>123 E 54th St</td>\n",
       "      <td>high</td>\n",
       "      <td>0.0680</td>\n",
       "      <td>0</td>\n",
       "      <td>0</td>\n",
       "      <td>1</td>\n",
       "      <td>1</td>\n",
       "      <td>0.100297</td>\n",
       "      <td>0.000000</td>\n",
       "      <td>0.138051</td>\n",
       "      <td>0.218708</td>\n",
       "      <td>0.000000</td>\n",
       "      <td>0.000000</td>\n",
       "      <td>0.000000</td>\n",
       "      <td>0.0</td>\n",
       "      <td>0.099192</td>\n",
       "      <td>0.0</td>\n",
       "      <td>0.00845</td>\n",
       "      <td>5</td>\n",
       "      <td>4</td>\n",
       "      <td>20</td>\n",
       "      <td>8</td>\n",
       "      <td>58</td>\n",
       "      <td>2016-04-22 02:55:58</td>\n",
       "      <td>102</td>\n",
       "      <td>50</td>\n",
       "      <td>1.0</td>\n",
       "      <td>1.0</td>\n",
       "      <td>0.0</td>\n",
       "      <td>1.0</td>\n",
       "      <td>0.0</td>\n",
       "      <td>0.0</td>\n",
       "      <td>3.0</td>\n",
       "    </tr>\n",
       "  </tbody>\n",
       "</table>\n",
       "</div>"
      ],
      "text/plain": [
       "       bathrooms  bedrooms                       building_id              created                                        description       display_address                                           features  latitude  listing_id  longitude                        manager_id                                             photos  price        street_address interest_level  dt_distance  pet_policy  listing_type  unit_features  building_features  apartment  appliance  bathroom   bedroom  building   contact     floor  high   kitchen  room  mall_distance  created_hour  created_month  created_day  num_photos  description_len          created_dt  managerID_count  buildingID_count  weekends  month_4  month_5  created_nights  created_morning  created_afternoon  bed_bath_ratio\n",
       "48324        1.0         3  92bbbf38baadfde0576fc496bd41749c  2016-04-19 03:31:53  There is 700 square feet of recently renovated...          W 171 Street            [Elevator, Dishwasher, Hardwood Floors]   40.8433     6824800   -73.9396  a61e21da3ba18c7a3d54cfdcc247e1f8  [https://photos.renthop.com/2/6824800_0682be16...   2800      620 W 171 Street            low       0.1835           0             0              1                  1   0.064237   0.079686  0.000000  0.140075  0.070245  0.000000  0.071316   0.0  0.063529   0.0        0.03042             3              4            5           5              131 2016-04-19 03:31:53               10                 5       0.0      1.0      0.0             1.0              0.0                0.0             3.0\n",
       "48325        1.0         2  5565db9b7cba3603834c4aa6f2950960  2016-04-20 02:27:19  2 bedroom apartment with updated kitchen, rece...              Broadway  [Common Outdoor Space, Cats Allowed, Dogs Allo...   40.8198     6813268   -73.9578  8f90e5e10e8a2d7cf997f016d89230eb  [https://photos.renthop.com/2/6813268_1e6fcc32...   2395         3333 Broadway         medium       0.1418           2             0              0                  4   0.105489   0.000000  0.000000  0.115015  0.115356  0.000000  0.000000   0.0  0.104327   0.0        0.02884             2              4            2           5               70 2016-04-20 02:27:19               14               126       0.0      1.0      0.0             1.0              0.0                0.0             2.0\n",
       "48326        1.0         1  67997a128056ee1ed7d046bbb856e3c7  2016-04-02 03:03:42  No Brokers Fee * Never Lived 1 Bedroom 1 Bathr...  210 Brighton 15th St  [Dining Room, Elevator, Pre-War, Laundry in Bu...   40.5765     6927093   -73.9554  a10db4590843d78c784171a107bdacb4  [https://photos.renthop.com/2/6927093_93a52104...   1850  210 Brighton 15th St         medium       0.1897           2             0              1                  1   0.095302   0.118224  0.262352  0.103909  0.104217  0.000000  0.000000   0.0  0.000000   0.0        0.09354             5              4           26           3               81 2016-04-02 03:03:42              107                 6       1.0      1.0      0.0             1.0              0.0                0.0             1.0\n",
       "48327        1.0         2  3c0574a740154806c18bdf1fddd3d966  2016-04-06 18:15:06  Wonderful Bright Chelsea 2 Bedroom apartment o...      West 21st Street  [Pre-War, Laundry in Unit, Dishwasher, No Fee,...   40.7448     6892816   -74.0017  c3cd45f4381ac371507090e9ffabea80  [https://photos.renthop.com/2/6892816_1a8d087a...   4195  350 West 21st Street         medium       0.0249           0             0              1                  0   0.072748   0.000000  0.100132  0.079318  0.000000  0.106911  0.080766   0.0  0.071947   0.0        0.00671             2              4           19           5              118 2016-04-06 18:15:06               33                12       0.0      1.0      0.0             0.0              0.0                0.0             2.0\n",
       "48328        1.0         3  d89f514c3ed0abaae52cba7017ac0701  2016-04-22 02:55:58  ***PRIME MIDTOWN EAST OFF PARK AVE***TRUE 3 BE...             E 54th St  [Dining Room, Elevator, Laundry in Building, D...   40.7594     6901023   -73.9712  e90f2ded843cdb2efd65ef47d9fc8029  [https://photos.renthop.com/2/6901023_02052d90...   4280         123 E 54th St           high       0.0680           0             0              1                  1   0.100297   0.000000  0.138051  0.218708  0.000000  0.000000  0.000000   0.0  0.099192   0.0        0.00845             5              4           20           8               58 2016-04-22 02:55:58              102                50       1.0      1.0      0.0             1.0              0.0                0.0             3.0"
      ]
     },
     "execution_count": 112,
     "metadata": {},
     "output_type": "execute_result"
    }
   ],
   "source": [
    "train_df.tail()"
   ]
  },
  {
   "cell_type": "code",
   "execution_count": 74,
   "metadata": {},
   "outputs": [],
   "source": [
    "train_df['weekends'] = (train_df['created_dt'].dt.weekday > 3).astype(float)\n",
    "# 1 if its friday/sat/sun\n",
    "# 0 if its m/t/w/th"
   ]
  },
  {
   "cell_type": "code",
   "execution_count": 79,
   "metadata": {},
   "outputs": [],
   "source": [
    "train_df['month_4'] = (train_df['created_dt'].dt.month == 4).astype(float)\n",
    "train_df['month_5'] = (train_df['created_dt'].dt.month == 5).astype(float)"
   ]
  },
  {
   "cell_type": "code",
   "execution_count": 90,
   "metadata": {},
   "outputs": [],
   "source": [
    "# 0-5, 6-11, 12-17,\n",
    "# train_df['created_dt'].dt.hour\n",
    "train_df['created_nights'] = (train_df['created_dt'].dt.hour < 6).astype(float)\n",
    "train_df['created_morning'] = ((train_df['created_dt'].dt.hour >= 6) & (train_df['created_dt'].dt.hour < 12)).astype(float)\n",
    "train_df['created_afternoon'] = ((train_df['created_dt'].dt.hour >= 12) & (train_df['created_dt'].dt.hour < 18)).astype(float)\n"
   ]
  },
  {
   "cell_type": "code",
   "execution_count": 100,
   "metadata": {},
   "outputs": [
    {
     "data": {
      "text/plain": [
       "0    0.0569\n",
       "1    0.0589\n",
       "2    0.0748\n",
       "3    0.0646\n",
       "4    0.0494\n",
       "Name: dt_distance, dtype: float64"
      ]
     },
     "execution_count": 100,
     "metadata": {},
     "output_type": "execute_result"
    }
   ],
   "source": [
    "# from sklearn.metrics.pairwise import manhattan_distances\n",
    "downtown = [40.7209, -74.0007]\n",
    "\n",
    "def man_distances(row):\n",
    "    dist = manhattan_distances([[row.latitude, row.longitude]], [downtown])\n",
    "    return dist[0][0]\n",
    "\n",
    "\n",
    "train_df['dt_distance'] = train_df.apply(lambda row: man_distances(row), axis=1)\n",
    "train_df.dt_distance.head()"
   ]
  },
  {
   "cell_type": "code",
   "execution_count": 110,
   "metadata": {},
   "outputs": [],
   "source": [
    "def calc_bed_bath(row):\n",
    "    if row.bathrooms != 0:\n",
    "        ratio = row.bedrooms/row.bathrooms\n",
    "        return ratio\n",
    "    else: return 0\n",
    "\n",
    "train_df['bed_bath_ratio'] = train_df.apply(lambda row: calc_bed_bath(row), axis=1)"
   ]
  },
  {
   "cell_type": "code",
   "execution_count": 113,
   "metadata": {},
   "outputs": [
    {
     "data": {
      "image/png": "[encoded data removed]",
      "text/plain": [
       "<Figure size 1080x864 with 2 Axes>"
      ]
     },
     "metadata": {
      "needs_background": "light"
     },
     "output_type": "display_data"
    }
   ],
   "source": [
    "selected_feats_1 = [\"bathrooms\", \"bedrooms\", \"latitude\", \"longitude\", \"price\",\n",
    "                  \"dt_distance\", \"pet_policy\", \"listing_type\", \"unit_features\", \"building_features\", \"apartment\",\n",
    "                  \"appliance\", \"bathroom\", \"bedroom\", \"building\", \"contact\", \"floor\", \"high\", \"kitchen\", \"room\", \n",
    "                  \"mall_distance\", \"created_nights\", \"created_morning\", \"created_afternoon\", \"month_4\", \n",
    "                    \"month_5\", \"num_photos\", \"description_len\", \"managerID_count\", \"buildingID_count\", 'bed_bath_ratio']\n",
    "heatmap = train_df[selected_feats_1]\n",
    "\n",
    "plt.figure(figsize=(15,12))\n",
    "sns.heatmap(heatmap.corr(), cmap='coolwarm');"
   ]
  },
  {
   "cell_type": "code",
   "execution_count": 117,
   "metadata": {},
   "outputs": [],
   "source": [
    "# train_df.to_json('/Users/Home/Desktop/CMPT 459/MI2/final_train_df_m3.json')\n",
    "df = pd.read_json('/Users/Home/Desktop/CMPT 459/MI2/test.json')"
   ]
  },
  {
   "cell_type": "code",
   "execution_count": 115,
   "metadata": {},
   "outputs": [],
   "source": [
    "test_df = pd.read_json('/Users/Home/Desktop/CMPT 459/MI2/final_test.json')"
   ]
  },
  {
   "cell_type": "code",
   "execution_count": 140,
   "metadata": {},
   "outputs": [
    {
     "data": {
      "text/plain": [
       "(74659, 45)"
      ]
     },
     "metadata": {},
     "output_type": "display_data"
    },
    {
     "data": {
      "text/plain": [
       "(48329, 46)"
      ]
     },
     "metadata": {},
     "output_type": "display_data"
    }
   ],
   "source": [
    "# df = df.reset_index(drop=True)\n",
    "# test_df.head(2)\n",
    "display(test_df.shape)\n",
    "display(train_df.shape)"
   ]
  },
  {
   "cell_type": "code",
   "execution_count": 124,
   "metadata": {},
   "outputs": [],
   "source": [
    "test_df['created'] = df['created']"
   ]
  },
  {
   "cell_type": "code",
   "execution_count": 126,
   "metadata": {},
   "outputs": [],
   "source": [
    "test_df['created_dt'] = pd.to_datetime(test_df['created'])"
   ]
  },
  {
   "cell_type": "code",
   "execution_count": 127,
   "metadata": {},
   "outputs": [
    {
     "data": {
      "text/plain": [
       "3851"
      ]
     },
     "execution_count": 127,
     "metadata": {},
     "output_type": "execute_result"
    }
   ],
   "source": [
    "unique, counts = np.unique(test_df.manager_id, return_counts=True)\n",
    "\n",
    "test_manager_id_arr = np.asarray((unique, counts)).T\n",
    "len(test_manager_id_arr)"
   ]
  },
  {
   "cell_type": "code",
   "execution_count": 128,
   "metadata": {},
   "outputs": [
    {
     "data": {
      "text/plain": [
       "9321"
      ]
     },
     "execution_count": 128,
     "metadata": {},
     "output_type": "execute_result"
    }
   ],
   "source": [
    "unique, counts = np.unique(test_df.building_id, return_counts=True)\n",
    "\n",
    "test_building_id_arr = np.asarray((unique, counts)).T\n",
    "len(test_building_id_arr)"
   ]
  },
  {
   "cell_type": "code",
   "execution_count": 129,
   "metadata": {},
   "outputs": [],
   "source": [
    "test_manager_id_dict = {}\n",
    "for val in test_manager_id_arr:\n",
    "    test_manager_id_dict[val[0]] = val[1]"
   ]
  },
  {
   "cell_type": "code",
   "execution_count": 130,
   "metadata": {},
   "outputs": [],
   "source": [
    "test_building_id_dict = {}\n",
    "for val in test_building_id_arr:\n",
    "    test_building_id_dict[val[0]] = val[1]"
   ]
  },
  {
   "cell_type": "code",
   "execution_count": 131,
   "metadata": {},
   "outputs": [],
   "source": [
    "test_df['managerID_count'] = test_df['manager_id'].apply(lambda row: add_count(row, test_manager_id_dict))"
   ]
  },
  {
   "cell_type": "code",
   "execution_count": 132,
   "metadata": {},
   "outputs": [],
   "source": [
    "test_df['buildingID_count'] = test_df['building_id'].apply(lambda row: add_count(row, test_building_id_dict))"
   ]
  },
  {
   "cell_type": "code",
   "execution_count": 135,
   "metadata": {},
   "outputs": [],
   "source": [
    "test_df['weekends'] = (test_df['created_dt'].dt.weekday > 3).astype(float)\n",
    "# 1 if its friday/sat/sun\n",
    "# 0 if its m/t/w/th"
   ]
  },
  {
   "cell_type": "code",
   "execution_count": 136,
   "metadata": {},
   "outputs": [],
   "source": [
    "test_df['month_4'] = (test_df['created_dt'].dt.month == 4).astype(float)\n",
    "test_df['month_5'] = (test_df['created_dt'].dt.month == 5).astype(float)"
   ]
  },
  {
   "cell_type": "code",
   "execution_count": 137,
   "metadata": {},
   "outputs": [],
   "source": [
    "# 0-5, 6-11, 12-17,\n",
    "# train_df['created_dt'].dt.hour\n",
    "test_df['created_nights'] = (test_df['created_dt'].dt.hour < 6).astype(float)\n",
    "test_df['created_morning'] = ((test_df['created_dt'].dt.hour >= 6) & (test_df['created_dt'].dt.hour < 12)).astype(float)\n",
    "test_df['created_afternoon'] = ((test_df['created_dt'].dt.hour >= 12) & (test_df['created_dt'].dt.hour < 18)).astype(float)\n"
   ]
  },
  {
   "cell_type": "code",
   "execution_count": 138,
   "metadata": {},
   "outputs": [],
   "source": [
    "test_df['bed_bath_ratio'] = test_df.apply(lambda row: calc_bed_bath(row), axis=1)"
   ]
  },
  {
   "cell_type": "code",
   "execution_count": 141,
   "metadata": {},
   "outputs": [],
   "source": [
    "test_df.to_json('/Users/Home/Desktop/CMPT 459/MI2/final_test_df_m3.json')"
   ]
  },
  {
   "cell_type": "code",
   "execution_count": null,
   "metadata": {},
   "outputs": [],
   "source": []
  }
 ],
 "metadata": {
  "kernelspec": {
   "display_name": "Python 3",
   "language": "python",
   "name": "python3"
  },
  "language_info": {
   "codemirror_mode": {
    "name": "ipython",
    "version": 3
   },
   "file_extension": ".py",
   "mimetype": "text/x-python",
   "name": "python",
   "nbconvert_exporter": "python",
   "pygments_lexer": "ipython3",
   "version": "3.7.4"
  }
 },
 "nbformat": 4,
 "nbformat_minor": 4
}
